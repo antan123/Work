{
 "cells": [
  {
   "cell_type": "code",
   "execution_count": 1,
   "metadata": {
    "collapsed": true
   },
   "outputs": [],
   "source": [
    "import pandas as pd\n",
    "import numpy as nm\n",
    "import statsmodels.stats as sm\n",
    "import scipy\n",
    "from scipy.optimize import linprog"
   ]
  },
  {
   "cell_type": "code",
   "execution_count": 13,
   "metadata": {
    "collapsed": true
   },
   "outputs": [],
   "source": [
    "stargas=pd.read_csv(\"data/stargas.csv\")"
   ]
  },
  {
   "cell_type": "code",
   "execution_count": 832,
   "metadata": {},
   "outputs": [
    {
     "data": {
      "text/html": [
       "<div>\n",
       "<style scoped>\n",
       "    .dataframe tbody tr th:only-of-type {\n",
       "        vertical-align: middle;\n",
       "    }\n",
       "\n",
       "    .dataframe tbody tr th {\n",
       "        vertical-align: top;\n",
       "    }\n",
       "\n",
       "    .dataframe thead th {\n",
       "        text-align: right;\n",
       "    }\n",
       "</style>\n",
       "<table border=\"1\" class=\"dataframe\">\n",
       "  <thead>\n",
       "    <tr style=\"text-align: right;\">\n",
       "      <th></th>\n",
       "      <th>Traffic_Source</th>\n",
       "      <th>MediaType</th>\n",
       "      <th>Year</th>\n",
       "      <th>Month</th>\n",
       "      <th>Date</th>\n",
       "      <th>Device</th>\n",
       "      <th>Clicks</th>\n",
       "      <th>Impressions</th>\n",
       "      <th>Actual_Spend</th>\n",
       "      <th>Conversions</th>\n",
       "      <th>Traffic_Source_Final</th>\n",
       "    </tr>\n",
       "  </thead>\n",
       "  <tbody>\n",
       "    <tr>\n",
       "      <th>0</th>\n",
       "      <td>Adwords</td>\n",
       "      <td>SEM</td>\n",
       "      <td>16</td>\n",
       "      <td>1</td>\n",
       "      <td>01/01/16</td>\n",
       "      <td>Computers</td>\n",
       "      <td>124</td>\n",
       "      <td>15696</td>\n",
       "      <td>389.22</td>\n",
       "      <td>7</td>\n",
       "      <td>Adwords</td>\n",
       "    </tr>\n",
       "    <tr>\n",
       "      <th>1</th>\n",
       "      <td>Adwords</td>\n",
       "      <td>SEM</td>\n",
       "      <td>16</td>\n",
       "      <td>1</td>\n",
       "      <td>01/01/16</td>\n",
       "      <td>Mobile devices with full browsers</td>\n",
       "      <td>195</td>\n",
       "      <td>10540</td>\n",
       "      <td>643.87</td>\n",
       "      <td>11</td>\n",
       "      <td>Adwords</td>\n",
       "    </tr>\n",
       "    <tr>\n",
       "      <th>2</th>\n",
       "      <td>Adwords</td>\n",
       "      <td>SEM</td>\n",
       "      <td>16</td>\n",
       "      <td>1</td>\n",
       "      <td>01/01/16</td>\n",
       "      <td>Tablets with full browsers</td>\n",
       "      <td>67</td>\n",
       "      <td>4468</td>\n",
       "      <td>220.83</td>\n",
       "      <td>4</td>\n",
       "      <td>Adwords</td>\n",
       "    </tr>\n",
       "    <tr>\n",
       "      <th>3</th>\n",
       "      <td>Adwords</td>\n",
       "      <td>SEM</td>\n",
       "      <td>16</td>\n",
       "      <td>1</td>\n",
       "      <td>02/01/16</td>\n",
       "      <td>Computers</td>\n",
       "      <td>181</td>\n",
       "      <td>19544</td>\n",
       "      <td>537.48</td>\n",
       "      <td>11</td>\n",
       "      <td>Adwords</td>\n",
       "    </tr>\n",
       "    <tr>\n",
       "      <th>4</th>\n",
       "      <td>Adwords</td>\n",
       "      <td>SEM</td>\n",
       "      <td>16</td>\n",
       "      <td>1</td>\n",
       "      <td>02/01/16</td>\n",
       "      <td>Mobile devices with full browsers</td>\n",
       "      <td>306</td>\n",
       "      <td>14584</td>\n",
       "      <td>1062.53</td>\n",
       "      <td>9</td>\n",
       "      <td>Adwords</td>\n",
       "    </tr>\n",
       "  </tbody>\n",
       "</table>\n",
       "</div>"
      ],
      "text/plain": [
       "  Traffic_Source MediaType  Year  Month      Date  \\\n",
       "0        Adwords       SEM    16      1  01/01/16   \n",
       "1        Adwords       SEM    16      1  01/01/16   \n",
       "2        Adwords       SEM    16      1  01/01/16   \n",
       "3        Adwords       SEM    16      1  02/01/16   \n",
       "4        Adwords       SEM    16      1  02/01/16   \n",
       "\n",
       "                              Device  Clicks  Impressions  Actual_Spend  \\\n",
       "0                          Computers     124        15696        389.22   \n",
       "1  Mobile devices with full browsers     195        10540        643.87   \n",
       "2         Tablets with full browsers      67         4468        220.83   \n",
       "3                          Computers     181        19544        537.48   \n",
       "4  Mobile devices with full browsers     306        14584       1062.53   \n",
       "\n",
       "   Conversions Traffic_Source_Final  \n",
       "0            7              Adwords  \n",
       "1           11              Adwords  \n",
       "2            4              Adwords  \n",
       "3           11              Adwords  \n",
       "4            9              Adwords  "
      ]
     },
     "execution_count": 832,
     "metadata": {},
     "output_type": "execute_result"
    }
   ],
   "source": [
    "stargas.head()"
   ]
  },
  {
   "cell_type": "code",
   "execution_count": 5,
   "metadata": {},
   "outputs": [
    {
     "data": {
      "text/plain": [
       "Index(['Traffic_Source', 'MediaType', 'Year', 'Month', 'Date', 'Device',\n",
       "       'Clicks', 'Impressions', 'Actual_Spend', 'Conversions',\n",
       "       'Traffic_Source_Final', 'Conversion_perSpend'],\n",
       "      dtype='object')"
      ]
     },
     "execution_count": 5,
     "metadata": {},
     "output_type": "execute_result"
    }
   ],
   "source": [
    "stargas.columns"
   ]
  },
  {
   "cell_type": "code",
   "execution_count": 48,
   "metadata": {},
   "outputs": [
    {
     "data": {
      "text/plain": [
       "0                            Computers\n",
       "1    Mobile devices with full browsers\n",
       "2           Tablets with full browsers\n",
       "3                            Computers\n",
       "4    Mobile devices with full browsers\n",
       "Name: Device, dtype: object"
      ]
     },
     "execution_count": 48,
     "metadata": {},
     "output_type": "execute_result"
    }
   ],
   "source": [
    "stargas['Device'].head()"
   ]
  },
  {
   "cell_type": "code",
   "execution_count": 49,
   "metadata": {},
   "outputs": [
    {
     "data": {
      "text/plain": [
       "Computers                            816\n",
       "Mobile devices with full browsers    816\n",
       "Tablets with full browsers           816\n",
       "Computer                             520\n",
       "Smartphone                           224\n",
       "Tablet                               119\n",
       "Name: Device, dtype: int64"
      ]
     },
     "execution_count": 49,
     "metadata": {},
     "output_type": "execute_result"
    }
   ],
   "source": [
    "stargas['Device'].value_counts()"
   ]
  },
  {
   "cell_type": "code",
   "execution_count": 50,
   "metadata": {},
   "outputs": [
    {
     "data": {
      "text/plain": [
       "SEM             4126\n",
       "Display          737\n",
       "Social Media     535\n",
       "Name: MediaType, dtype: int64"
      ]
     },
     "execution_count": 50,
     "metadata": {},
     "output_type": "execute_result"
    }
   ],
   "source": [
    "stargas['MediaType'].value_counts()"
   ]
  },
  {
   "cell_type": "code",
   "execution_count": 105,
   "metadata": {
    "collapsed": true
   },
   "outputs": [],
   "source": [
    "stargas.drop('MediaType',axis=1,inplace=True)\n",
    "#Delete column from the data set \n"
   ]
  },
  {
   "cell_type": "code",
   "execution_count": 106,
   "metadata": {
    "collapsed": true
   },
   "outputs": [],
   "source": [
    "stargas.drop('Device', axis=1,inplace=True)"
   ]
  },
  {
   "cell_type": "code",
   "execution_count": 107,
   "metadata": {
    "collapsed": true
   },
   "outputs": [],
   "source": [
    "stargas.drop('Traffic_Source',axis=1,inplace=True)"
   ]
  },
  {
   "cell_type": "code",
   "execution_count": 127,
   "metadata": {
    "collapsed": true
   },
   "outputs": [],
   "source": [
    "\n",
    "stargas.drop('Traffic_Source_Final', axis=1,inplace=True)"
   ]
  },
  {
   "cell_type": "code",
   "execution_count": 108,
   "metadata": {
    "collapsed": true
   },
   "outputs": [],
   "source": [
    "\n",
    "stargas.drop('Date', axis=1,inplace=True)"
   ]
  },
  {
   "cell_type": "code",
   "execution_count": 6,
   "metadata": {
    "collapsed": true
   },
   "outputs": [],
   "source": [
    "stargas.drop('Year', axis=1,inplace=True)"
   ]
  },
  {
   "cell_type": "code",
   "execution_count": 7,
   "metadata": {
    "collapsed": true
   },
   "outputs": [],
   "source": [
    "stargas.drop('Month', axis=1,inplace=True)"
   ]
  },
  {
   "cell_type": "code",
   "execution_count": 40,
   "metadata": {
    "collapsed": true
   },
   "outputs": [],
   "source": [
    "stargas.drop('Clicks', axis=1,inplace=True)"
   ]
  },
  {
   "cell_type": "code",
   "execution_count": 41,
   "metadata": {
    "collapsed": true
   },
   "outputs": [],
   "source": [
    "stargas.drop('Impressions', axis=1,inplace=True)"
   ]
  },
  {
   "cell_type": "code",
   "execution_count": 42,
   "metadata": {
    "collapsed": true
   },
   "outputs": [],
   "source": [
    "stargas.drop('Actual_Spend', axis=1,inplace=True)"
   ]
  },
  {
   "cell_type": "code",
   "execution_count": 43,
   "metadata": {
    "collapsed": true
   },
   "outputs": [],
   "source": [
    "stargas.drop('Conversions', axis=1,inplace=True)"
   ]
  },
  {
   "cell_type": "code",
   "execution_count": 833,
   "metadata": {
    "collapsed": true
   },
   "outputs": [],
   "source": [
    "Traffic=stargas.groupby('Traffic_Source_Final') "
   ]
  },
  {
   "cell_type": "code",
   "execution_count": 834,
   "metadata": {
    "collapsed": true
   },
   "outputs": [],
   "source": [
    "Traffic_counts=Traffic.aggregate(sum)"
   ]
  },
  {
   "cell_type": "code",
   "execution_count": 835,
   "metadata": {},
   "outputs": [
    {
     "data": {
      "text/html": [
       "<div>\n",
       "<style scoped>\n",
       "    .dataframe tbody tr th:only-of-type {\n",
       "        vertical-align: middle;\n",
       "    }\n",
       "\n",
       "    .dataframe tbody tr th {\n",
       "        vertical-align: top;\n",
       "    }\n",
       "\n",
       "    .dataframe thead th {\n",
       "        text-align: right;\n",
       "    }\n",
       "</style>\n",
       "<table border=\"1\" class=\"dataframe\">\n",
       "  <thead>\n",
       "    <tr style=\"text-align: right;\">\n",
       "      <th></th>\n",
       "      <th>Year</th>\n",
       "      <th>Month</th>\n",
       "      <th>Clicks</th>\n",
       "      <th>Impressions</th>\n",
       "      <th>Actual_Spend</th>\n",
       "      <th>Conversions</th>\n",
       "    </tr>\n",
       "    <tr>\n",
       "      <th>Traffic_Source_Final</th>\n",
       "      <th></th>\n",
       "      <th></th>\n",
       "      <th></th>\n",
       "      <th></th>\n",
       "      <th></th>\n",
       "      <th></th>\n",
       "    </tr>\n",
       "  </thead>\n",
       "  <tbody>\n",
       "    <tr>\n",
       "      <th>Adwords</th>\n",
       "      <td>40773</td>\n",
       "      <td>14793</td>\n",
       "      <td>351000</td>\n",
       "      <td>18897696</td>\n",
       "      <td>1419168.72</td>\n",
       "      <td>25663</td>\n",
       "    </tr>\n",
       "    <tr>\n",
       "      <th>Bing</th>\n",
       "      <td>27852</td>\n",
       "      <td>10220</td>\n",
       "      <td>77940</td>\n",
       "      <td>5027260</td>\n",
       "      <td>259370.37</td>\n",
       "      <td>2525</td>\n",
       "    </tr>\n",
       "    <tr>\n",
       "      <th>DCM</th>\n",
       "      <td>12247</td>\n",
       "      <td>4681</td>\n",
       "      <td>12209</td>\n",
       "      <td>25302157</td>\n",
       "      <td>249411.64</td>\n",
       "      <td>1445</td>\n",
       "    </tr>\n",
       "    <tr>\n",
       "      <th>Facebook</th>\n",
       "      <td>9164</td>\n",
       "      <td>3738</td>\n",
       "      <td>16383</td>\n",
       "      <td>1457508</td>\n",
       "      <td>34021.58</td>\n",
       "      <td>251</td>\n",
       "    </tr>\n",
       "  </tbody>\n",
       "</table>\n",
       "</div>"
      ],
      "text/plain": [
       "                       Year  Month  Clicks  Impressions  Actual_Spend  \\\n",
       "Traffic_Source_Final                                                    \n",
       "Adwords               40773  14793  351000     18897696    1419168.72   \n",
       "Bing                  27852  10220   77940      5027260     259370.37   \n",
       "DCM                   12247   4681   12209     25302157     249411.64   \n",
       "Facebook               9164   3738   16383      1457508      34021.58   \n",
       "\n",
       "                      Conversions  \n",
       "Traffic_Source_Final               \n",
       "Adwords                     25663  \n",
       "Bing                         2525  \n",
       "DCM                          1445  \n",
       "Facebook                      251  "
      ]
     },
     "execution_count": 835,
     "metadata": {},
     "output_type": "execute_result"
    }
   ],
   "source": [
    "Traffic_counts"
   ]
  },
  {
   "cell_type": "code",
   "execution_count": 776,
   "metadata": {
    "collapsed": true
   },
   "outputs": [],
   "source": [
    "Traffic_counts.drop('Month',axis=1,inplace=True)"
   ]
  },
  {
   "cell_type": "code",
   "execution_count": 777,
   "metadata": {},
   "outputs": [
    {
     "data": {
      "text/html": [
       "<div>\n",
       "<style scoped>\n",
       "    .dataframe tbody tr th:only-of-type {\n",
       "        vertical-align: middle;\n",
       "    }\n",
       "\n",
       "    .dataframe tbody tr th {\n",
       "        vertical-align: top;\n",
       "    }\n",
       "\n",
       "    .dataframe thead th {\n",
       "        text-align: right;\n",
       "    }\n",
       "</style>\n",
       "<table border=\"1\" class=\"dataframe\">\n",
       "  <thead>\n",
       "    <tr style=\"text-align: right;\">\n",
       "      <th></th>\n",
       "      <th>Year</th>\n",
       "      <th>Clicks</th>\n",
       "      <th>Impressions</th>\n",
       "      <th>Actual_Spend</th>\n",
       "      <th>Conversions</th>\n",
       "    </tr>\n",
       "    <tr>\n",
       "      <th>Traffic_Source_Final</th>\n",
       "      <th></th>\n",
       "      <th></th>\n",
       "      <th></th>\n",
       "      <th></th>\n",
       "      <th></th>\n",
       "    </tr>\n",
       "  </thead>\n",
       "  <tbody>\n",
       "    <tr>\n",
       "      <th>Adwords</th>\n",
       "      <td>40773</td>\n",
       "      <td>351000</td>\n",
       "      <td>18897696</td>\n",
       "      <td>1419168.72</td>\n",
       "      <td>25663</td>\n",
       "    </tr>\n",
       "    <tr>\n",
       "      <th>Bing</th>\n",
       "      <td>27852</td>\n",
       "      <td>77940</td>\n",
       "      <td>5027260</td>\n",
       "      <td>259370.37</td>\n",
       "      <td>2525</td>\n",
       "    </tr>\n",
       "    <tr>\n",
       "      <th>DCM</th>\n",
       "      <td>12247</td>\n",
       "      <td>12209</td>\n",
       "      <td>25302157</td>\n",
       "      <td>249411.64</td>\n",
       "      <td>1445</td>\n",
       "    </tr>\n",
       "    <tr>\n",
       "      <th>Facebook</th>\n",
       "      <td>9164</td>\n",
       "      <td>16383</td>\n",
       "      <td>1457508</td>\n",
       "      <td>34021.58</td>\n",
       "      <td>251</td>\n",
       "    </tr>\n",
       "  </tbody>\n",
       "</table>\n",
       "</div>"
      ],
      "text/plain": [
       "                       Year  Clicks  Impressions  Actual_Spend  Conversions\n",
       "Traffic_Source_Final                                                       \n",
       "Adwords               40773  351000     18897696    1419168.72        25663\n",
       "Bing                  27852   77940      5027260     259370.37         2525\n",
       "DCM                   12247   12209     25302157     249411.64         1445\n",
       "Facebook               9164   16383      1457508      34021.58          251"
      ]
     },
     "execution_count": 777,
     "metadata": {},
     "output_type": "execute_result"
    }
   ],
   "source": [
    "Traffic_counts"
   ]
  },
  {
   "cell_type": "code",
   "execution_count": 52,
   "metadata": {},
   "outputs": [
    {
     "data": {
      "text/plain": [
       "Traffic_Source\n",
       "Adwords     0.247328\n",
       "Bing        0.300497\n",
       "DCM         0.048951\n",
       "Facebook    0.481547\n",
       "dtype: float64"
      ]
     },
     "execution_count": 52,
     "metadata": {},
     "output_type": "execute_result"
    }
   ],
   "source": [
    "(Traffic_counts['Clicks'])/(Traffic_counts['Actual_Spend']) #calculating Clicks per spend of each channel"
   ]
  },
  {
   "cell_type": "code",
   "execution_count": 171,
   "metadata": {
    "collapsed": true
   },
   "outputs": [],
   "source": [
    "Media=stargas.groupby('MediaType')"
   ]
  },
  {
   "cell_type": "code",
   "execution_count": 172,
   "metadata": {
    "collapsed": true
   },
   "outputs": [],
   "source": [
    "Media_counts=Media.aggregate(sum)"
   ]
  },
  {
   "cell_type": "code",
   "execution_count": 173,
   "metadata": {},
   "outputs": [
    {
     "data": {
      "text/html": [
       "<div>\n",
       "<style scoped>\n",
       "    .dataframe tbody tr th:only-of-type {\n",
       "        vertical-align: middle;\n",
       "    }\n",
       "\n",
       "    .dataframe tbody tr th {\n",
       "        vertical-align: top;\n",
       "    }\n",
       "\n",
       "    .dataframe thead th {\n",
       "        text-align: right;\n",
       "    }\n",
       "</style>\n",
       "<table border=\"1\" class=\"dataframe\">\n",
       "  <thead>\n",
       "    <tr style=\"text-align: right;\">\n",
       "      <th></th>\n",
       "      <th>Year</th>\n",
       "      <th>Month</th>\n",
       "      <th>Clicks</th>\n",
       "      <th>Impressions</th>\n",
       "      <th>Actual_Spend</th>\n",
       "      <th>Conversions</th>\n",
       "    </tr>\n",
       "    <tr>\n",
       "      <th>MediaType</th>\n",
       "      <th></th>\n",
       "      <th></th>\n",
       "      <th></th>\n",
       "      <th></th>\n",
       "      <th></th>\n",
       "      <th></th>\n",
       "    </tr>\n",
       "  </thead>\n",
       "  <tbody>\n",
       "    <tr>\n",
       "      <th>Display</th>\n",
       "      <td>12247</td>\n",
       "      <td>4681</td>\n",
       "      <td>12209</td>\n",
       "      <td>25302157</td>\n",
       "      <td>249411.64</td>\n",
       "      <td>1445</td>\n",
       "    </tr>\n",
       "    <tr>\n",
       "      <th>SEM</th>\n",
       "      <td>68625</td>\n",
       "      <td>25013</td>\n",
       "      <td>428940</td>\n",
       "      <td>23924956</td>\n",
       "      <td>1678539.09</td>\n",
       "      <td>28188</td>\n",
       "    </tr>\n",
       "    <tr>\n",
       "      <th>Social Media</th>\n",
       "      <td>9164</td>\n",
       "      <td>3738</td>\n",
       "      <td>16383</td>\n",
       "      <td>1457508</td>\n",
       "      <td>34021.58</td>\n",
       "      <td>251</td>\n",
       "    </tr>\n",
       "  </tbody>\n",
       "</table>\n",
       "</div>"
      ],
      "text/plain": [
       "               Year  Month  Clicks  Impressions  Actual_Spend  Conversions\n",
       "MediaType                                                                 \n",
       "Display       12247   4681   12209     25302157     249411.64         1445\n",
       "SEM           68625  25013  428940     23924956    1678539.09        28188\n",
       "Social Media   9164   3738   16383      1457508      34021.58          251"
      ]
     },
     "execution_count": 173,
     "metadata": {},
     "output_type": "execute_result"
    }
   ],
   "source": [
    "Media_counts"
   ]
  },
  {
   "cell_type": "code",
   "execution_count": 14,
   "metadata": {
    "collapsed": true
   },
   "outputs": [],
   "source": [
    "Month=stargas.groupby('Month')"
   ]
  },
  {
   "cell_type": "code",
   "execution_count": 15,
   "metadata": {
    "collapsed": true
   },
   "outputs": [],
   "source": [
    "Month_counts=Month.aggregate(sum)"
   ]
  },
  {
   "cell_type": "code",
   "execution_count": 16,
   "metadata": {},
   "outputs": [
    {
     "data": {
      "text/html": [
       "<div>\n",
       "<style scoped>\n",
       "    .dataframe tbody tr th:only-of-type {\n",
       "        vertical-align: middle;\n",
       "    }\n",
       "\n",
       "    .dataframe tbody tr th {\n",
       "        vertical-align: top;\n",
       "    }\n",
       "\n",
       "    .dataframe thead th {\n",
       "        text-align: right;\n",
       "    }\n",
       "</style>\n",
       "<table border=\"1\" class=\"dataframe\">\n",
       "  <thead>\n",
       "    <tr style=\"text-align: right;\">\n",
       "      <th></th>\n",
       "      <th>Year</th>\n",
       "      <th>Clicks</th>\n",
       "      <th>Impressions</th>\n",
       "      <th>Actual_Spend</th>\n",
       "      <th>Conversions</th>\n",
       "    </tr>\n",
       "    <tr>\n",
       "      <th>Month</th>\n",
       "      <th></th>\n",
       "      <th></th>\n",
       "      <th></th>\n",
       "      <th></th>\n",
       "      <th></th>\n",
       "    </tr>\n",
       "  </thead>\n",
       "  <tbody>\n",
       "    <tr>\n",
       "      <th>1</th>\n",
       "      <td>11323</td>\n",
       "      <td>99747</td>\n",
       "      <td>9168458</td>\n",
       "      <td>356839.73</td>\n",
       "      <td>7526</td>\n",
       "    </tr>\n",
       "    <tr>\n",
       "      <th>2</th>\n",
       "      <td>8759</td>\n",
       "      <td>61290</td>\n",
       "      <td>3251717</td>\n",
       "      <td>237080.28</td>\n",
       "      <td>3200</td>\n",
       "    </tr>\n",
       "    <tr>\n",
       "      <th>3</th>\n",
       "      <td>8174</td>\n",
       "      <td>38199</td>\n",
       "      <td>2345099</td>\n",
       "      <td>150577.46</td>\n",
       "      <td>2412</td>\n",
       "    </tr>\n",
       "    <tr>\n",
       "      <th>4</th>\n",
       "      <td>6295</td>\n",
       "      <td>17498</td>\n",
       "      <td>2438244</td>\n",
       "      <td>77752.68</td>\n",
       "      <td>634</td>\n",
       "    </tr>\n",
       "    <tr>\n",
       "      <th>5</th>\n",
       "      <td>7119</td>\n",
       "      <td>26908</td>\n",
       "      <td>4963532</td>\n",
       "      <td>146205.58</td>\n",
       "      <td>904</td>\n",
       "    </tr>\n",
       "    <tr>\n",
       "      <th>6</th>\n",
       "      <td>7091</td>\n",
       "      <td>28528</td>\n",
       "      <td>4784206</td>\n",
       "      <td>164975.60</td>\n",
       "      <td>1130</td>\n",
       "    </tr>\n",
       "    <tr>\n",
       "      <th>7</th>\n",
       "      <td>6081</td>\n",
       "      <td>12774</td>\n",
       "      <td>1692779</td>\n",
       "      <td>61495.08</td>\n",
       "      <td>719</td>\n",
       "    </tr>\n",
       "    <tr>\n",
       "      <th>8</th>\n",
       "      <td>6105</td>\n",
       "      <td>14673</td>\n",
       "      <td>1206534</td>\n",
       "      <td>60818.22</td>\n",
       "      <td>762</td>\n",
       "    </tr>\n",
       "    <tr>\n",
       "      <th>9</th>\n",
       "      <td>6852</td>\n",
       "      <td>19525</td>\n",
       "      <td>1653611</td>\n",
       "      <td>86052.08</td>\n",
       "      <td>1057</td>\n",
       "    </tr>\n",
       "    <tr>\n",
       "      <th>10</th>\n",
       "      <td>7473</td>\n",
       "      <td>34308</td>\n",
       "      <td>5347709</td>\n",
       "      <td>148785.51</td>\n",
       "      <td>2455</td>\n",
       "    </tr>\n",
       "    <tr>\n",
       "      <th>11</th>\n",
       "      <td>7275</td>\n",
       "      <td>44575</td>\n",
       "      <td>7012965</td>\n",
       "      <td>220285.51</td>\n",
       "      <td>3670</td>\n",
       "    </tr>\n",
       "    <tr>\n",
       "      <th>12</th>\n",
       "      <td>7489</td>\n",
       "      <td>59507</td>\n",
       "      <td>6819767</td>\n",
       "      <td>251104.58</td>\n",
       "      <td>5415</td>\n",
       "    </tr>\n",
       "  </tbody>\n",
       "</table>\n",
       "</div>"
      ],
      "text/plain": [
       "        Year  Clicks  Impressions  Actual_Spend  Conversions\n",
       "Month                                                       \n",
       "1      11323   99747      9168458     356839.73         7526\n",
       "2       8759   61290      3251717     237080.28         3200\n",
       "3       8174   38199      2345099     150577.46         2412\n",
       "4       6295   17498      2438244      77752.68          634\n",
       "5       7119   26908      4963532     146205.58          904\n",
       "6       7091   28528      4784206     164975.60         1130\n",
       "7       6081   12774      1692779      61495.08          719\n",
       "8       6105   14673      1206534      60818.22          762\n",
       "9       6852   19525      1653611      86052.08         1057\n",
       "10      7473   34308      5347709     148785.51         2455\n",
       "11      7275   44575      7012965     220285.51         3670\n",
       "12      7489   59507      6819767     251104.58         5415"
      ]
     },
     "execution_count": 16,
     "metadata": {},
     "output_type": "execute_result"
    }
   ],
   "source": [
    "Month_counts\n"
   ]
  },
  {
   "cell_type": "code",
   "execution_count": 26,
   "metadata": {
    "collapsed": true
   },
   "outputs": [],
   "source": [
    "Month_counts.index=MONTH_WISE"
   ]
  },
  {
   "cell_type": "code",
   "execution_count": 142,
   "metadata": {
    "collapsed": true
   },
   "outputs": [],
   "source": [
    "Month_counts.index=[1,2,3,4,5,6,7,8,9,10,11,12]"
   ]
  },
  {
   "cell_type": "code",
   "execution_count": 27,
   "metadata": {},
   "outputs": [
    {
     "data": {
      "text/plain": [
       "JAN      7526\n",
       "FEB      3200\n",
       "MAR      2412\n",
       "APRIL     634\n",
       "MAY       904\n",
       "JUNE     1130\n",
       "JULY      719\n",
       "AUG       762\n",
       "SEP      1057\n",
       "OCT      2455\n",
       "NOV      3670\n",
       "DEC      5415\n",
       "Name: Conversions, dtype: int64"
      ]
     },
     "execution_count": 27,
     "metadata": {},
     "output_type": "execute_result"
    }
   ],
   "source": [
    "Month_counts['Conversions']"
   ]
  },
  {
   "cell_type": "code",
   "execution_count": 30,
   "metadata": {
    "collapsed": true
   },
   "outputs": [],
   "source": [
    "Impressions_perSpend=Month_counts['Impressions']/Month_counts['Actual_Spend']"
   ]
  },
  {
   "cell_type": "code",
   "execution_count": null,
   "metadata": {
    "collapsed": true
   },
   "outputs": [],
   "source": [
    "Month_cond=Month_counts.index<4"
   ]
  },
  {
   "cell_type": "code",
   "execution_count": 80,
   "metadata": {},
   "outputs": [
    {
     "data": {
      "text/plain": [
       "1    33249.0\n",
       "2    20430.0\n",
       "3    12733.0\n",
       "Name: Clicks, dtype: float64"
      ]
     },
     "execution_count": 80,
     "metadata": {},
     "output_type": "execute_result"
    }
   ],
   "source": [
    "Month_counts[Month_cond]['Clicks']/3\n"
   ]
  },
  {
   "cell_type": "code",
   "execution_count": 82,
   "metadata": {
    "collapsed": true
   },
   "outputs": [],
   "source": [
    "Month_cond=Month_counts.index>3"
   ]
  },
  {
   "cell_type": "code",
   "execution_count": 84,
   "metadata": {},
   "outputs": [
    {
     "data": {
      "text/plain": [
       "4      8749.0\n",
       "5     13454.0\n",
       "6     14264.0\n",
       "7      6387.0\n",
       "8      7336.5\n",
       "9      9762.5\n",
       "10    17154.0\n",
       "11    22287.5\n",
       "12    29753.5\n",
       "Name: Clicks, dtype: float64"
      ]
     },
     "execution_count": 84,
     "metadata": {},
     "output_type": "execute_result"
    }
   ],
   "source": [
    "Month_counts[Month_cond]['Clicks']/2"
   ]
  },
  {
   "cell_type": "code",
   "execution_count": 791,
   "metadata": {
    "collapsed": true
   },
   "outputs": [],
   "source": [
    "Conversion_per_spendM=Month_counts['Conversions']/Month_counts['Actual_Spend']"
   ]
  },
  {
   "cell_type": "code",
   "execution_count": 792,
   "metadata": {},
   "outputs": [
    {
     "data": {
      "text/plain": [
       "JAN      0.021091\n",
       "FEB      0.013498\n",
       "MAR      0.016018\n",
       "APRIL    0.008154\n",
       "MAY      0.006183\n",
       "JUNE     0.006849\n",
       "JULY     0.011692\n",
       "AUG      0.012529\n",
       "SEP      0.012283\n",
       "OCT      0.016500\n",
       "NOV      0.016660\n",
       "DEC      0.021565\n",
       "dtype: float64"
      ]
     },
     "execution_count": 792,
     "metadata": {},
     "output_type": "execute_result"
    }
   ],
   "source": [
    "Conversion_per_spendM"
   ]
  },
  {
   "cell_type": "code",
   "execution_count": 31,
   "metadata": {},
   "outputs": [
    {
     "data": {
      "text/plain": [
       "<matplotlib.axes._subplots.AxesSubplot at 0x11fc05e80>"
      ]
     },
     "execution_count": 31,
     "metadata": {},
     "output_type": "execute_result"
    },
    {
     "data": {
      "image/png": "[encoded data removed]",
      "text/plain": [
       "<matplotlib.figure.Figure at 0x11fbe3518>"
      ]
     },
     "metadata": {},
     "output_type": "display_data"
    }
   ],
   "source": [
    "Impressions_perSpend.plot(kind='bar',figsize=(15,10),title=\"Clicks per spend\")"
   ]
  },
  {
   "cell_type": "code",
   "execution_count": 811,
   "metadata": {},
   "outputs": [
    {
     "data": {
      "text/plain": [
       "<matplotlib.axes._subplots.AxesSubplot at 0x1a1699eef0>"
      ]
     },
     "execution_count": 811,
     "metadata": {},
     "output_type": "execute_result"
    },
    {
     "data": {
      "image/png": "[encoded data removed]",
      "text/plain": [
       "<matplotlib.figure.Figure at 0x1a16959be0>"
      ]
     },
     "metadata": {},
     "output_type": "display_data"
    }
   ],
   "source": [
    "Conversion_per_spendM.plot(kind='bar',figsize=(15,10),title=\"Conversions per spend\")"
   ]
  },
  {
   "cell_type": "code",
   "execution_count": 815,
   "metadata": {},
   "outputs": [
    {
     "data": {
      "text/plain": [
       "<matplotlib.axes._subplots.AxesSubplot at 0x1a16bd4048>"
      ]
     },
     "execution_count": 815,
     "metadata": {},
     "output_type": "execute_result"
    },
    {
     "data": {
      "image/png": "[encoded data removed]",
      "text/plain": [
       "<matplotlib.figure.Figure at 0x1a16b7e400>"
      ]
     },
     "metadata": {},
     "output_type": "display_data"
    }
   ],
   "source": [
    "Conversion_per_spendM.plot(figsize=(15,10),title=\"Conversions per Spend\")"
   ]
  },
  {
   "cell_type": "code",
   "execution_count": 199,
   "metadata": {},
   "outputs": [
    {
     "data": {
      "text/plain": [
       "3.577448244057469"
      ]
     },
     "execution_count": 199,
     "metadata": {},
     "output_type": "execute_result"
    }
   ],
   "source": [
    "PPC1 #pay per click"
   ]
  },
  {
   "cell_type": "code",
   "execution_count": 200,
   "metadata": {
    "collapsed": true
   },
   "outputs": [],
   "source": [
    "CPI1=sum(stargas[jan]['Actual_Spend'])/sum(stargas[jan]['Impressions'])   #cost per impression"
   ]
  },
  {
   "cell_type": "code",
   "execution_count": 201,
   "metadata": {},
   "outputs": [
    {
     "data": {
      "text/plain": [
       "0.03892036479852995"
      ]
     },
     "execution_count": 201,
     "metadata": {},
     "output_type": "execute_result"
    }
   ],
   "source": [
    "CPI1"
   ]
  },
  {
   "cell_type": "code",
   "execution_count": 202,
   "metadata": {
    "collapsed": true
   },
   "outputs": [],
   "source": [
    "PPC2=sum(stargas[feb]['Actual_Spend'])/sum(stargas[feb]['Clicks'])"
   ]
  },
  {
   "cell_type": "code",
   "execution_count": 204,
   "metadata": {},
   "outputs": [
    {
     "data": {
      "text/plain": [
       "3.8681722956436575"
      ]
     },
     "execution_count": 204,
     "metadata": {},
     "output_type": "execute_result"
    }
   ],
   "source": [
    "PPC2"
   ]
  },
  {
   "cell_type": "code",
   "execution_count": 205,
   "metadata": {
    "collapsed": true
   },
   "outputs": [],
   "source": [
    "CPI2=sum(stargas[feb]['Actual_Spend'])/sum(stargas[feb]['Impressions'])"
   ]
  },
  {
   "cell_type": "code",
   "execution_count": 206,
   "metadata": {},
   "outputs": [
    {
     "data": {
      "text/plain": [
       "0.07290925993867232"
      ]
     },
     "execution_count": 206,
     "metadata": {},
     "output_type": "execute_result"
    }
   ],
   "source": [
    "CPI2"
   ]
  },
  {
   "cell_type": "code",
   "execution_count": 207,
   "metadata": {
    "collapsed": true
   },
   "outputs": [],
   "source": [
    "PPC3=sum(stargas[mar]['Actual_Spend'])/sum(stargas[mar]['Clicks'])"
   ]
  },
  {
   "cell_type": "code",
   "execution_count": 208,
   "metadata": {},
   "outputs": [
    {
     "data": {
      "text/plain": [
       "3.9419215162700616"
      ]
     },
     "execution_count": 208,
     "metadata": {},
     "output_type": "execute_result"
    }
   ],
   "source": [
    "PPC3"
   ]
  },
  {
   "cell_type": "code",
   "execution_count": 209,
   "metadata": {
    "collapsed": true
   },
   "outputs": [],
   "source": [
    "CPI3=sum(stargas[mar]['Actual_Spend'])/sum(stargas[mar]['Impressions'])"
   ]
  },
  {
   "cell_type": "code",
   "execution_count": 241,
   "metadata": {},
   "outputs": [
    {
     "data": {
      "text/plain": [
       "0.06420942570015171"
      ]
     },
     "execution_count": 241,
     "metadata": {},
     "output_type": "execute_result"
    }
   ],
   "source": [
    "CPI3"
   ]
  },
  {
   "cell_type": "code",
   "execution_count": 158,
   "metadata": {
    "collapsed": true
   },
   "outputs": [],
   "source": [
    "PPC4=sum(stargas[april]['Actual_Spend'])/sum(stargas[april]['Clicks'])"
   ]
  },
  {
   "cell_type": "code",
   "execution_count": 159,
   "metadata": {},
   "outputs": [
    {
     "data": {
      "text/plain": [
       "4.443518116356159"
      ]
     },
     "execution_count": 159,
     "metadata": {},
     "output_type": "execute_result"
    }
   ],
   "source": [
    "PPC4"
   ]
  },
  {
   "cell_type": "code",
   "execution_count": 163,
   "metadata": {
    "collapsed": true
   },
   "outputs": [],
   "source": [
    "CPI4=sum(stargas[april]['Actual_Spend'])/sum(stargas[april]['Impressions'])"
   ]
  },
  {
   "cell_type": "code",
   "execution_count": 164,
   "metadata": {},
   "outputs": [
    {
     "data": {
      "text/plain": [
       "0.03188880194106909"
      ]
     },
     "execution_count": 164,
     "metadata": {},
     "output_type": "execute_result"
    }
   ],
   "source": [
    "CPI4"
   ]
  },
  {
   "cell_type": "code",
   "execution_count": 166,
   "metadata": {
    "collapsed": true
   },
   "outputs": [],
   "source": [
    "PPC5=sum(stargas[may]['Actual_Spend'])/sum(stargas[may]['Clicks'])"
   ]
  },
  {
   "cell_type": "code",
   "execution_count": 167,
   "metadata": {},
   "outputs": [
    {
     "data": {
      "text/plain": [
       "5.433535751449392"
      ]
     },
     "execution_count": 167,
     "metadata": {},
     "output_type": "execute_result"
    }
   ],
   "source": [
    "PPC5"
   ]
  },
  {
   "cell_type": "code",
   "execution_count": 222,
   "metadata": {
    "collapsed": true
   },
   "outputs": [],
   "source": [
    "CPI5=sum(stargas[may]['Actual_Spend'])/sum(stargas[april]['Impressions'])"
   ]
  },
  {
   "cell_type": "code",
   "execution_count": 223,
   "metadata": {},
   "outputs": [
    {
     "data": {
      "text/plain": [
       "0.05996347371304932"
      ]
     },
     "execution_count": 223,
     "metadata": {},
     "output_type": "execute_result"
    }
   ],
   "source": [
    "CPI5"
   ]
  },
  {
   "cell_type": "code",
   "execution_count": 172,
   "metadata": {
    "collapsed": true
   },
   "outputs": [],
   "source": [
    "PPC6=sum(stargas[june]['Actual_Spend'])/sum(stargas[june]['Clicks'])"
   ]
  },
  {
   "cell_type": "code",
   "execution_count": 173,
   "metadata": {},
   "outputs": [
    {
     "data": {
      "text/plain": [
       "5.782936062815477"
      ]
     },
     "execution_count": 173,
     "metadata": {},
     "output_type": "execute_result"
    }
   ],
   "source": [
    "PPC6"
   ]
  },
  {
   "cell_type": "code",
   "execution_count": 176,
   "metadata": {
    "collapsed": true
   },
   "outputs": [],
   "source": [
    "CPI6=sum(stargas[june]['Actual_Spend'])/sum(stargas[june]['Impressions'])"
   ]
  },
  {
   "cell_type": "code",
   "execution_count": 177,
   "metadata": {},
   "outputs": [
    {
     "data": {
      "text/plain": [
       "0.03448338135941469"
      ]
     },
     "execution_count": 177,
     "metadata": {},
     "output_type": "execute_result"
    }
   ],
   "source": [
    "CPI6"
   ]
  },
  {
   "cell_type": "code",
   "execution_count": 179,
   "metadata": {
    "collapsed": true
   },
   "outputs": [],
   "source": [
    "PPC7=sum(stargas[july]['Actual_Spend'])/sum(stargas[july]['Clicks'])"
   ]
  },
  {
   "cell_type": "code",
   "execution_count": 180,
   "metadata": {},
   "outputs": [
    {
     "data": {
      "text/plain": [
       "4.814081728511042"
      ]
     },
     "execution_count": 180,
     "metadata": {},
     "output_type": "execute_result"
    }
   ],
   "source": [
    "PPC7"
   ]
  },
  {
   "cell_type": "code",
   "execution_count": 182,
   "metadata": {
    "collapsed": true
   },
   "outputs": [],
   "source": [
    "CPI7=sum(stargas[july]['Actual_Spend'])/sum(stargas[july]['Impressions'])"
   ]
  },
  {
   "cell_type": "code",
   "execution_count": 184,
   "metadata": {},
   "outputs": [
    {
     "data": {
      "text/plain": [
       "0.036327884502347946"
      ]
     },
     "execution_count": 184,
     "metadata": {},
     "output_type": "execute_result"
    }
   ],
   "source": [
    "CPI7"
   ]
  },
  {
   "cell_type": "code",
   "execution_count": 186,
   "metadata": {
    "collapsed": true
   },
   "outputs": [],
   "source": [
    "PPC8=sum(stargas[aug]['Actual_Spend'])/sum(stargas[aug]['Clicks'])"
   ]
  },
  {
   "cell_type": "code",
   "execution_count": 187,
   "metadata": {},
   "outputs": [
    {
     "data": {
      "text/plain": [
       "4.144906971989366"
      ]
     },
     "execution_count": 187,
     "metadata": {},
     "output_type": "execute_result"
    }
   ],
   "source": [
    "PPC8"
   ]
  },
  {
   "cell_type": "code",
   "execution_count": 189,
   "metadata": {
    "collapsed": true
   },
   "outputs": [],
   "source": [
    "CPI8=sum(stargas[aug]['Actual_Spend'])/sum(stargas[aug]['Impressions'])"
   ]
  },
  {
   "cell_type": "code",
   "execution_count": 190,
   "metadata": {},
   "outputs": [
    {
     "data": {
      "text/plain": [
       "0.050407381806065944"
      ]
     },
     "execution_count": 190,
     "metadata": {},
     "output_type": "execute_result"
    }
   ],
   "source": [
    "CPI8"
   ]
  },
  {
   "cell_type": "code",
   "execution_count": 192,
   "metadata": {
    "collapsed": true
   },
   "outputs": [],
   "source": [
    "PPC9=sum(stargas[sep]['Actual_Spend'])/sum(stargas[sep]['Clicks'])"
   ]
  },
  {
   "cell_type": "code",
   "execution_count": 193,
   "metadata": {},
   "outputs": [
    {
     "data": {
      "text/plain": [
       "4.407276824583859"
      ]
     },
     "execution_count": 193,
     "metadata": {},
     "output_type": "execute_result"
    }
   ],
   "source": [
    "PPC9"
   ]
  },
  {
   "cell_type": "code",
   "execution_count": 197,
   "metadata": {
    "collapsed": true
   },
   "outputs": [],
   "source": [
    "CPI9=sum(stargas[sep]['Actual_Spend'])/sum(stargas[sep]['Impressions'])"
   ]
  },
  {
   "cell_type": "code",
   "execution_count": 198,
   "metadata": {},
   "outputs": [
    {
     "data": {
      "text/plain": [
       "0.05203888943651189"
      ]
     },
     "execution_count": 198,
     "metadata": {},
     "output_type": "execute_result"
    }
   ],
   "source": [
    "CPI9"
   ]
  },
  {
   "cell_type": "code",
   "execution_count": 199,
   "metadata": {
    "collapsed": true
   },
   "outputs": [],
   "source": [
    "PPC10=sum(stargas[october]['Actual_Spend'])/sum(stargas[october]['Clicks'])"
   ]
  },
  {
   "cell_type": "code",
   "execution_count": 200,
   "metadata": {},
   "outputs": [
    {
     "data": {
      "text/plain": [
       "4.336758481986707"
      ]
     },
     "execution_count": 200,
     "metadata": {},
     "output_type": "execute_result"
    }
   ],
   "source": [
    "PPC10"
   ]
  },
  {
   "cell_type": "code",
   "execution_count": 202,
   "metadata": {
    "collapsed": true
   },
   "outputs": [],
   "source": [
    "CPI10=sum(stargas[october]['Actual_Spend'])/sum(stargas[october]['Impressions'])"
   ]
  },
  {
   "cell_type": "code",
   "execution_count": 203,
   "metadata": {},
   "outputs": [
    {
     "data": {
      "text/plain": [
       "0.027822289881517477"
      ]
     },
     "execution_count": 203,
     "metadata": {},
     "output_type": "execute_result"
    }
   ],
   "source": [
    "CPI10"
   ]
  },
  {
   "cell_type": "code",
   "execution_count": 204,
   "metadata": {
    "collapsed": true
   },
   "outputs": [],
   "source": [
    "PPC11=sum(stargas[nov]['Actual_Spend'])/sum(stargas[nov]['Clicks'])"
   ]
  },
  {
   "cell_type": "code",
   "execution_count": 205,
   "metadata": {},
   "outputs": [
    {
     "data": {
      "text/plain": [
       "4.941907122826697"
      ]
     },
     "execution_count": 205,
     "metadata": {},
     "output_type": "execute_result"
    }
   ],
   "source": [
    "PPC11"
   ]
  },
  {
   "cell_type": "code",
   "execution_count": 206,
   "metadata": {
    "collapsed": true
   },
   "outputs": [],
   "source": [
    "CPI11=sum(stargas[nov]['Actual_Spend'])/sum(stargas[nov]['Impressions'])"
   ]
  },
  {
   "cell_type": "code",
   "execution_count": 207,
   "metadata": {},
   "outputs": [
    {
     "data": {
      "text/plain": [
       "0.03141118057768719"
      ]
     },
     "execution_count": 207,
     "metadata": {},
     "output_type": "execute_result"
    }
   ],
   "source": [
    "CPI11"
   ]
  },
  {
   "cell_type": "code",
   "execution_count": 208,
   "metadata": {
    "collapsed": true
   },
   "outputs": [],
   "source": [
    "PPC12=sum(stargas[dec]['Actual_Spend'])/sum(stargas[dec]['Clicks'])"
   ]
  },
  {
   "cell_type": "code",
   "execution_count": 209,
   "metadata": {},
   "outputs": [
    {
     "data": {
      "text/plain": [
       "4.219748601004923"
      ]
     },
     "execution_count": 209,
     "metadata": {},
     "output_type": "execute_result"
    }
   ],
   "source": [
    "PPC12"
   ]
  },
  {
   "cell_type": "code",
   "execution_count": 210,
   "metadata": {
    "collapsed": true
   },
   "outputs": [],
   "source": [
    "CPI12=sum(stargas[dec]['Actual_Spend'])/sum(stargas[dec]['Impressions'])"
   ]
  },
  {
   "cell_type": "code",
   "execution_count": 211,
   "metadata": {},
   "outputs": [
    {
     "data": {
      "text/plain": [
       "0.03682011130292281"
      ]
     },
     "execution_count": 211,
     "metadata": {},
     "output_type": "execute_result"
    }
   ],
   "source": [
    "CPI12"
   ]
  },
  {
   "cell_type": "code",
   "execution_count": 17,
   "metadata": {
    "collapsed": true
   },
   "outputs": [],
   "source": [
    "MONTH_WISE=['JAN','FEB','MAR','APRIL','MAY','JUNE','JULY','AUG','SEP','OCT','NOV','DEC']"
   ]
  },
  {
   "cell_type": "code",
   "execution_count": 225,
   "metadata": {
    "collapsed": true
   },
   "outputs": [],
   "source": [
    "Group1=list(zip(PPC,CPI)) "
   ]
  },
  {
   "cell_type": "code",
   "execution_count": 226,
   "metadata": {
    "collapsed": true
   },
   "outputs": [],
   "source": [
    "table1=pd.DataFrame(data=Group1,columns=['PPC','CPI'],index=MONTH_WISE)"
   ]
  },
  {
   "cell_type": "code",
   "execution_count": 242,
   "metadata": {},
   "outputs": [
    {
     "data": {
      "text/html": [
       "<div>\n",
       "<style scoped>\n",
       "    .dataframe tbody tr th:only-of-type {\n",
       "        vertical-align: middle;\n",
       "    }\n",
       "\n",
       "    .dataframe tbody tr th {\n",
       "        vertical-align: top;\n",
       "    }\n",
       "\n",
       "    .dataframe thead th {\n",
       "        text-align: right;\n",
       "    }\n",
       "</style>\n",
       "<table border=\"1\" class=\"dataframe\">\n",
       "  <thead>\n",
       "    <tr style=\"text-align: right;\">\n",
       "      <th></th>\n",
       "      <th>PPC</th>\n",
       "      <th>CPI</th>\n",
       "    </tr>\n",
       "  </thead>\n",
       "  <tbody>\n",
       "    <tr>\n",
       "      <th>JAN</th>\n",
       "      <td>3.577448</td>\n",
       "      <td>0.038920</td>\n",
       "    </tr>\n",
       "    <tr>\n",
       "      <th>FEB</th>\n",
       "      <td>3.868172</td>\n",
       "      <td>0.072909</td>\n",
       "    </tr>\n",
       "    <tr>\n",
       "      <th>MAR</th>\n",
       "      <td>3.941922</td>\n",
       "      <td>0.038920</td>\n",
       "    </tr>\n",
       "    <tr>\n",
       "      <th>APRIL</th>\n",
       "      <td>4.443518</td>\n",
       "      <td>0.031889</td>\n",
       "    </tr>\n",
       "    <tr>\n",
       "      <th>MAY</th>\n",
       "      <td>5.433536</td>\n",
       "      <td>0.059963</td>\n",
       "    </tr>\n",
       "    <tr>\n",
       "      <th>JUNE</th>\n",
       "      <td>5.782936</td>\n",
       "      <td>0.034483</td>\n",
       "    </tr>\n",
       "    <tr>\n",
       "      <th>JULY</th>\n",
       "      <td>4.814082</td>\n",
       "      <td>0.036328</td>\n",
       "    </tr>\n",
       "    <tr>\n",
       "      <th>AUG</th>\n",
       "      <td>4.144907</td>\n",
       "      <td>0.050407</td>\n",
       "    </tr>\n",
       "    <tr>\n",
       "      <th>SEP</th>\n",
       "      <td>4.407277</td>\n",
       "      <td>0.052039</td>\n",
       "    </tr>\n",
       "    <tr>\n",
       "      <th>OCT</th>\n",
       "      <td>4.336758</td>\n",
       "      <td>0.027822</td>\n",
       "    </tr>\n",
       "    <tr>\n",
       "      <th>NOV</th>\n",
       "      <td>4.941907</td>\n",
       "      <td>0.031411</td>\n",
       "    </tr>\n",
       "    <tr>\n",
       "      <th>DEC</th>\n",
       "      <td>4.219749</td>\n",
       "      <td>0.036820</td>\n",
       "    </tr>\n",
       "  </tbody>\n",
       "</table>\n",
       "</div>"
      ],
      "text/plain": [
       "            PPC       CPI\n",
       "JAN    3.577448  0.038920\n",
       "FEB    3.868172  0.072909\n",
       "MAR    3.941922  0.038920\n",
       "APRIL  4.443518  0.031889\n",
       "MAY    5.433536  0.059963\n",
       "JUNE   5.782936  0.034483\n",
       "JULY   4.814082  0.036328\n",
       "AUG    4.144907  0.050407\n",
       "SEP    4.407277  0.052039\n",
       "OCT    4.336758  0.027822\n",
       "NOV    4.941907  0.031411\n",
       "DEC    4.219749  0.036820"
      ]
     },
     "execution_count": 242,
     "metadata": {},
     "output_type": "execute_result"
    }
   ],
   "source": [
    "table1.head(12) # pay per clicks and cost per impression month wise"
   ]
  },
  {
   "cell_type": "code",
   "execution_count": 836,
   "metadata": {
    "collapsed": true
   },
   "outputs": [],
   "source": [
    "Device=stargas.groupby('Device')"
   ]
  },
  {
   "cell_type": "code",
   "execution_count": 90,
   "metadata": {
    "collapsed": true
   },
   "outputs": [],
   "source": [
    "Device_counts=Device.aggregate(sum)"
   ]
  },
  {
   "cell_type": "code",
   "execution_count": 91,
   "metadata": {},
   "outputs": [
    {
     "data": {
      "text/html": [
       "<div>\n",
       "<style scoped>\n",
       "    .dataframe tbody tr th:only-of-type {\n",
       "        vertical-align: middle;\n",
       "    }\n",
       "\n",
       "    .dataframe tbody tr th {\n",
       "        vertical-align: top;\n",
       "    }\n",
       "\n",
       "    .dataframe thead th {\n",
       "        text-align: right;\n",
       "    }\n",
       "</style>\n",
       "<table border=\"1\" class=\"dataframe\">\n",
       "  <thead>\n",
       "    <tr style=\"text-align: right;\">\n",
       "      <th></th>\n",
       "      <th>Year</th>\n",
       "      <th>Month</th>\n",
       "      <th>Clicks</th>\n",
       "      <th>Impressions</th>\n",
       "      <th>Actual_Spend</th>\n",
       "      <th>Conversions</th>\n",
       "    </tr>\n",
       "    <tr>\n",
       "      <th>Device</th>\n",
       "      <th></th>\n",
       "      <th></th>\n",
       "      <th></th>\n",
       "      <th></th>\n",
       "      <th></th>\n",
       "      <th></th>\n",
       "    </tr>\n",
       "  </thead>\n",
       "  <tbody>\n",
       "    <tr>\n",
       "      <th>Computer</th>\n",
       "      <td>8644</td>\n",
       "      <td>3161</td>\n",
       "      <td>0</td>\n",
       "      <td>0</td>\n",
       "      <td>0.00</td>\n",
       "      <td>1819</td>\n",
       "    </tr>\n",
       "    <tr>\n",
       "      <th>Computers</th>\n",
       "      <td>13591</td>\n",
       "      <td>4931</td>\n",
       "      <td>123091</td>\n",
       "      <td>9057465</td>\n",
       "      <td>493684.53</td>\n",
       "      <td>6453</td>\n",
       "    </tr>\n",
       "    <tr>\n",
       "      <th>Mobile devices with full browsers</th>\n",
       "      <td>13591</td>\n",
       "      <td>4931</td>\n",
       "      <td>193857</td>\n",
       "      <td>7939728</td>\n",
       "      <td>788931.89</td>\n",
       "      <td>17895</td>\n",
       "    </tr>\n",
       "    <tr>\n",
       "      <th>Smartphone</th>\n",
       "      <td>3680</td>\n",
       "      <td>1342</td>\n",
       "      <td>0</td>\n",
       "      <td>0</td>\n",
       "      <td>0.00</td>\n",
       "      <td>501</td>\n",
       "    </tr>\n",
       "    <tr>\n",
       "      <th>Tablet</th>\n",
       "      <td>1955</td>\n",
       "      <td>789</td>\n",
       "      <td>0</td>\n",
       "      <td>0</td>\n",
       "      <td>0.00</td>\n",
       "      <td>205</td>\n",
       "    </tr>\n",
       "    <tr>\n",
       "      <th>Tablets with full browsers</th>\n",
       "      <td>13591</td>\n",
       "      <td>4931</td>\n",
       "      <td>34052</td>\n",
       "      <td>1900503</td>\n",
       "      <td>136552.30</td>\n",
       "      <td>1315</td>\n",
       "    </tr>\n",
       "  </tbody>\n",
       "</table>\n",
       "</div>"
      ],
      "text/plain": [
       "                                    Year  Month  Clicks  Impressions  \\\n",
       "Device                                                                 \n",
       "Computer                            8644   3161       0            0   \n",
       "Computers                          13591   4931  123091      9057465   \n",
       "Mobile devices with full browsers  13591   4931  193857      7939728   \n",
       "Smartphone                          3680   1342       0            0   \n",
       "Tablet                              1955    789       0            0   \n",
       "Tablets with full browsers         13591   4931   34052      1900503   \n",
       "\n",
       "                                   Actual_Spend  Conversions  \n",
       "Device                                                        \n",
       "Computer                                   0.00         1819  \n",
       "Computers                             493684.53         6453  \n",
       "Mobile devices with full browsers     788931.89        17895  \n",
       "Smartphone                                 0.00          501  \n",
       "Tablet                                     0.00          205  \n",
       "Tablets with full browsers            136552.30         1315  "
      ]
     },
     "execution_count": 91,
     "metadata": {},
     "output_type": "execute_result"
    }
   ],
   "source": [
    "Device_counts"
   ]
  },
  {
   "cell_type": "code",
   "execution_count": null,
   "metadata": {
    "collapsed": true
   },
   "outputs": [],
   "source": [
    "Month_counts.plot(kind='bar',tick_label=MONTH_WISE,figsize=(15,10))"
   ]
  },
  {
   "cell_type": "code",
   "execution_count": 803,
   "metadata": {},
   "outputs": [
    {
     "data": {
      "text/plain": [
       "<matplotlib.axes._subplots.AxesSubplot at 0x1a16546438>"
      ]
     },
     "execution_count": 803,
     "metadata": {},
     "output_type": "execute_result"
    },
    {
     "data": {
      "image/png": "[encoded data removed]",
      "text/plain": [
       "<matplotlib.figure.Figure at 0x1a165b6be0>"
      ]
     },
     "metadata": {},
     "output_type": "display_data"
    }
   ],
   "source": [
    "Month_counts.plot(kind='bar',tick_label=MONTH_WISE,figsize=(15,10))"
   ]
  },
  {
   "cell_type": "code",
   "execution_count": 839,
   "metadata": {},
   "outputs": [
    {
     "data": {
      "text/plain": [
       "<matplotlib.axes._subplots.AxesSubplot at 0x1a16c7a3c8>"
      ]
     },
     "execution_count": 839,
     "metadata": {},
     "output_type": "execute_result"
    },
    {
     "data": {
      "image/png": "[encoded data removed]",
      "text/plain": [
       "<matplotlib.figure.Figure at 0x1a16c73710>"
      ]
     },
     "metadata": {},
     "output_type": "display_data"
    }
   ],
   "source": [
    "stargas['Device'].value_counts().plot(kind='bar')"
   ]
  },
  {
   "cell_type": "code",
   "execution_count": 235,
   "metadata": {},
   "outputs": [
    {
     "data": {
      "text/plain": [
       "<matplotlib.axes._subplots.AxesSubplot at 0x12ae0fb00>"
      ]
     },
     "execution_count": 235,
     "metadata": {},
     "output_type": "execute_result"
    },
    {
     "data": {
      "image/png": "[encoded data removed]",
      "text/plain": [
       "<matplotlib.figure.Figure at 0x12ad93f60>"
      ]
     },
     "metadata": {},
     "output_type": "display_data"
    }
   ],
   "source": [
    "Device_counts.plot(kind='bar',figsize=(15,10))"
   ]
  },
  {
   "cell_type": "code",
   "execution_count": 243,
   "metadata": {
    "collapsed": true
   },
   "outputs": [],
   "source": [
    "\n",
    "%matplotlib inline"
   ]
  },
  {
   "cell_type": "code",
   "execution_count": 271,
   "metadata": {},
   "outputs": [
    {
     "data": {
      "text/plain": [
       "<matplotlib.axes._subplots.AxesSubplot at 0x12a624588>"
      ]
     },
     "execution_count": 271,
     "metadata": {},
     "output_type": "execute_result"
    },
    {
     "data": {
      "image/png": "[encoded data removed]",
      "text/plain": [
       "<matplotlib.figure.Figure at 0x12a590be0>"
      ]
     },
     "metadata": {},
     "output_type": "display_data"
    }
   ],
   "source": [
    "Month_counts['Clicks'].plot(figsize=(15,10))"
   ]
  },
  {
   "cell_type": "code",
   "execution_count": 809,
   "metadata": {},
   "outputs": [
    {
     "data": {
      "text/plain": [
       "<matplotlib.axes._subplots.AxesSubplot at 0x1a16857908>"
      ]
     },
     "execution_count": 809,
     "metadata": {},
     "output_type": "execute_result"
    },
    {
     "data": {
      "image/png": "[encoded data removed]",
      "text/plain": [
       "<matplotlib.figure.Figure at 0x1a1683bb70>"
      ]
     },
     "metadata": {},
     "output_type": "display_data"
    }
   ],
   "source": [
    "Month_counts['Clicks'].plot(kind='bar',figsize=(15,10),title=\"Clicks per Month\")"
   ]
  },
  {
   "cell_type": "code",
   "execution_count": 273,
   "metadata": {},
   "outputs": [
    {
     "data": {
      "text/plain": [
       "<matplotlib.axes._subplots.AxesSubplot at 0x12a4e55c0>"
      ]
     },
     "execution_count": 273,
     "metadata": {},
     "output_type": "execute_result"
    },
    {
     "data": {
      "image/png": "[encoded data removed]",
      "text/plain": [
       "<matplotlib.figure.Figure at 0x12a4111d0>"
      ]
     },
     "metadata": {},
     "output_type": "display_data"
    }
   ],
   "source": [
    "Month_counts['Impressions'].plot(figsize=(15,10))"
   ]
  },
  {
   "cell_type": "code",
   "execution_count": 274,
   "metadata": {},
   "outputs": [
    {
     "data": {
      "text/plain": [
       "<matplotlib.axes._subplots.AxesSubplot at 0x12a3d6d30>"
      ]
     },
     "execution_count": 274,
     "metadata": {},
     "output_type": "execute_result"
    },
    {
     "data": {
      "image/png": "[encoded data removed]",
      "text/plain": [
       "<matplotlib.figure.Figure at 0x12a33ca90>"
      ]
     },
     "metadata": {},
     "output_type": "display_data"
    }
   ],
   "source": [
    "Month_counts['Impressions'].plot(kind='bar',figsize=(15,10))"
   ]
  },
  {
   "cell_type": "code",
   "execution_count": 277,
   "metadata": {},
   "outputs": [
    {
     "data": {
      "text/plain": [
       "<matplotlib.axes._subplots.AxesSubplot at 0x12a4b8358>"
      ]
     },
     "execution_count": 277,
     "metadata": {},
     "output_type": "execute_result"
    },
    {
     "data": {
      "image/png": "[encoded data removed]",
      "text/plain": [
       "<matplotlib.figure.Figure at 0x12a300198>"
      ]
     },
     "metadata": {},
     "output_type": "display_data"
    }
   ],
   "source": [
    "Month_counts['Actual_Spend'].plot(figsize=(15,10))"
   ]
  },
  {
   "cell_type": "code",
   "execution_count": 278,
   "metadata": {},
   "outputs": [
    {
     "data": {
      "text/plain": [
       "<matplotlib.axes._subplots.AxesSubplot at 0x12a25eba8>"
      ]
     },
     "execution_count": 278,
     "metadata": {},
     "output_type": "execute_result"
    },
    {
     "data": {
      "image/png": "[encoded data removed]",
      "text/plain": [
       "<matplotlib.figure.Figure at 0x12a669f98>"
      ]
     },
     "metadata": {},
     "output_type": "display_data"
    }
   ],
   "source": [
    "Month_counts['Actual_Spend'].plot(kind='bar',figsize=(15,10))"
   ]
  },
  {
   "cell_type": "code",
   "execution_count": 281,
   "metadata": {},
   "outputs": [
    {
     "data": {
      "text/plain": [
       "<matplotlib.axes._subplots.AxesSubplot at 0x12a246588>"
      ]
     },
     "execution_count": 281,
     "metadata": {},
     "output_type": "execute_result"
    },
    {
     "data": {
      "image/png": "[encoded data removed]",
      "text/plain": [
       "<matplotlib.figure.Figure at 0x12a1cbe80>"
      ]
     },
     "metadata": {},
     "output_type": "display_data"
    }
   ],
   "source": [
    "Device_counts['Conversions'].plot(kind='bar',figsize=(15,10))"
   ]
  },
  {
   "cell_type": "code",
   "execution_count": 282,
   "metadata": {},
   "outputs": [
    {
     "data": {
      "text/plain": [
       "<matplotlib.axes._subplots.AxesSubplot at 0x12a0e8e10>"
      ]
     },
     "execution_count": 282,
     "metadata": {},
     "output_type": "execute_result"
    },
    {
     "data": {
      "image/png": "[encoded data removed]",
      "text/plain": [
       "<matplotlib.figure.Figure at 0x12a0a8ef0>"
      ]
     },
     "metadata": {},
     "output_type": "display_data"
    }
   ],
   "source": [
    "Device_counts['Clicks'].plot(kind='bar',figsize=(15,10))"
   ]
  },
  {
   "cell_type": "code",
   "execution_count": 283,
   "metadata": {},
   "outputs": [
    {
     "data": {
      "text/plain": [
       "<matplotlib.axes._subplots.AxesSubplot at 0x12a0d5438>"
      ]
     },
     "execution_count": 283,
     "metadata": {},
     "output_type": "execute_result"
    },
    {
     "data": {
      "image/png": "[encoded data removed]",
      "text/plain": [
       "<matplotlib.figure.Figure at 0x12a0adc50>"
      ]
     },
     "metadata": {},
     "output_type": "display_data"
    }
   ],
   "source": [
    "Device_counts['Impressions'].plot(kind='bar',figsize=(15,10))"
   ]
  },
  {
   "cell_type": "code",
   "execution_count": 284,
   "metadata": {},
   "outputs": [
    {
     "data": {
      "text/plain": [
       "<matplotlib.axes._subplots.AxesSubplot at 0x12a006710>"
      ]
     },
     "execution_count": 284,
     "metadata": {},
     "output_type": "execute_result"
    },
    {
     "data": {
      "image/png": "[encoded data removed]",
      "text/plain": [
       "<matplotlib.figure.Figure at 0x129f519b0>"
      ]
     },
     "metadata": {},
     "output_type": "display_data"
    }
   ],
   "source": [
    "Device_counts['Actual_Spend'].plot(kind='bar',figsize=(15,10))"
   ]
  },
  {
   "cell_type": "code",
   "execution_count": 165,
   "metadata": {
    "collapsed": true
   },
   "outputs": [],
   "source": [
    "Media_groups = stargas.groupby('MediaType')"
   ]
  },
  {
   "cell_type": "code",
   "execution_count": 167,
   "metadata": {},
   "outputs": [
    {
     "data": {
      "text/html": [
       "<div>\n",
       "<style scoped>\n",
       "    .dataframe tbody tr th:only-of-type {\n",
       "        vertical-align: middle;\n",
       "    }\n",
       "\n",
       "    .dataframe tbody tr th {\n",
       "        vertical-align: top;\n",
       "    }\n",
       "\n",
       "    .dataframe thead th {\n",
       "        text-align: right;\n",
       "    }\n",
       "</style>\n",
       "<table border=\"1\" class=\"dataframe\">\n",
       "  <thead>\n",
       "    <tr style=\"text-align: right;\">\n",
       "      <th></th>\n",
       "      <th>MediaType</th>\n",
       "      <th>Month</th>\n",
       "      <th>Clicks</th>\n",
       "      <th>Impressions</th>\n",
       "      <th>Actual_Spend</th>\n",
       "      <th>Conversions</th>\n",
       "    </tr>\n",
       "  </thead>\n",
       "  <tbody>\n",
       "    <tr>\n",
       "      <th>0</th>\n",
       "      <td>SEM</td>\n",
       "      <td>1</td>\n",
       "      <td>124</td>\n",
       "      <td>15696</td>\n",
       "      <td>389.22</td>\n",
       "      <td>7</td>\n",
       "    </tr>\n",
       "    <tr>\n",
       "      <th>1</th>\n",
       "      <td>SEM</td>\n",
       "      <td>1</td>\n",
       "      <td>195</td>\n",
       "      <td>10540</td>\n",
       "      <td>643.87</td>\n",
       "      <td>11</td>\n",
       "    </tr>\n",
       "    <tr>\n",
       "      <th>2</th>\n",
       "      <td>SEM</td>\n",
       "      <td>1</td>\n",
       "      <td>67</td>\n",
       "      <td>4468</td>\n",
       "      <td>220.83</td>\n",
       "      <td>4</td>\n",
       "    </tr>\n",
       "    <tr>\n",
       "      <th>3</th>\n",
       "      <td>SEM</td>\n",
       "      <td>1</td>\n",
       "      <td>181</td>\n",
       "      <td>19544</td>\n",
       "      <td>537.48</td>\n",
       "      <td>11</td>\n",
       "    </tr>\n",
       "    <tr>\n",
       "      <th>4</th>\n",
       "      <td>SEM</td>\n",
       "      <td>1</td>\n",
       "      <td>306</td>\n",
       "      <td>14584</td>\n",
       "      <td>1062.53</td>\n",
       "      <td>9</td>\n",
       "    </tr>\n",
       "    <tr>\n",
       "      <th>5</th>\n",
       "      <td>SEM</td>\n",
       "      <td>1</td>\n",
       "      <td>73</td>\n",
       "      <td>5503</td>\n",
       "      <td>248.76</td>\n",
       "      <td>3</td>\n",
       "    </tr>\n",
       "    <tr>\n",
       "      <th>6</th>\n",
       "      <td>SEM</td>\n",
       "      <td>1</td>\n",
       "      <td>210</td>\n",
       "      <td>20546</td>\n",
       "      <td>635.13</td>\n",
       "      <td>17</td>\n",
       "    </tr>\n",
       "    <tr>\n",
       "      <th>7</th>\n",
       "      <td>SEM</td>\n",
       "      <td>1</td>\n",
       "      <td>330</td>\n",
       "      <td>14060</td>\n",
       "      <td>1085.62</td>\n",
       "      <td>13</td>\n",
       "    </tr>\n",
       "    <tr>\n",
       "      <th>8</th>\n",
       "      <td>SEM</td>\n",
       "      <td>1</td>\n",
       "      <td>91</td>\n",
       "      <td>5980</td>\n",
       "      <td>303.14</td>\n",
       "      <td>1</td>\n",
       "    </tr>\n",
       "    <tr>\n",
       "      <th>9</th>\n",
       "      <td>SEM</td>\n",
       "      <td>1</td>\n",
       "      <td>553</td>\n",
       "      <td>40216</td>\n",
       "      <td>1666.82</td>\n",
       "      <td>24</td>\n",
       "    </tr>\n",
       "    <tr>\n",
       "      <th>10</th>\n",
       "      <td>SEM</td>\n",
       "      <td>1</td>\n",
       "      <td>656</td>\n",
       "      <td>25760</td>\n",
       "      <td>2136.50</td>\n",
       "      <td>23</td>\n",
       "    </tr>\n",
       "    <tr>\n",
       "      <th>11</th>\n",
       "      <td>SEM</td>\n",
       "      <td>1</td>\n",
       "      <td>188</td>\n",
       "      <td>7218</td>\n",
       "      <td>531.59</td>\n",
       "      <td>14</td>\n",
       "    </tr>\n",
       "    <tr>\n",
       "      <th>12</th>\n",
       "      <td>SEM</td>\n",
       "      <td>1</td>\n",
       "      <td>513</td>\n",
       "      <td>41850</td>\n",
       "      <td>1521.68</td>\n",
       "      <td>20</td>\n",
       "    </tr>\n",
       "    <tr>\n",
       "      <th>13</th>\n",
       "      <td>SEM</td>\n",
       "      <td>1</td>\n",
       "      <td>752</td>\n",
       "      <td>26900</td>\n",
       "      <td>2363.75</td>\n",
       "      <td>38</td>\n",
       "    </tr>\n",
       "    <tr>\n",
       "      <th>14</th>\n",
       "      <td>SEM</td>\n",
       "      <td>1</td>\n",
       "      <td>156</td>\n",
       "      <td>7248</td>\n",
       "      <td>451.55</td>\n",
       "      <td>14</td>\n",
       "    </tr>\n",
       "    <tr>\n",
       "      <th>15</th>\n",
       "      <td>SEM</td>\n",
       "      <td>1</td>\n",
       "      <td>415</td>\n",
       "      <td>34904</td>\n",
       "      <td>1251.56</td>\n",
       "      <td>14</td>\n",
       "    </tr>\n",
       "    <tr>\n",
       "      <th>16</th>\n",
       "      <td>SEM</td>\n",
       "      <td>1</td>\n",
       "      <td>479</td>\n",
       "      <td>22238</td>\n",
       "      <td>1557.61</td>\n",
       "      <td>4</td>\n",
       "    </tr>\n",
       "    <tr>\n",
       "      <th>17</th>\n",
       "      <td>SEM</td>\n",
       "      <td>1</td>\n",
       "      <td>132</td>\n",
       "      <td>6188</td>\n",
       "      <td>378.43</td>\n",
       "      <td>6</td>\n",
       "    </tr>\n",
       "    <tr>\n",
       "      <th>18</th>\n",
       "      <td>SEM</td>\n",
       "      <td>1</td>\n",
       "      <td>344</td>\n",
       "      <td>29212</td>\n",
       "      <td>1085.77</td>\n",
       "      <td>14</td>\n",
       "    </tr>\n",
       "    <tr>\n",
       "      <th>19</th>\n",
       "      <td>SEM</td>\n",
       "      <td>1</td>\n",
       "      <td>444</td>\n",
       "      <td>18558</td>\n",
       "      <td>1521.93</td>\n",
       "      <td>20</td>\n",
       "    </tr>\n",
       "    <tr>\n",
       "      <th>20</th>\n",
       "      <td>SEM</td>\n",
       "      <td>1</td>\n",
       "      <td>103</td>\n",
       "      <td>5215</td>\n",
       "      <td>305.58</td>\n",
       "      <td>2</td>\n",
       "    </tr>\n",
       "    <tr>\n",
       "      <th>21</th>\n",
       "      <td>SEM</td>\n",
       "      <td>1</td>\n",
       "      <td>265</td>\n",
       "      <td>25097</td>\n",
       "      <td>854.01</td>\n",
       "      <td>11</td>\n",
       "    </tr>\n",
       "    <tr>\n",
       "      <th>22</th>\n",
       "      <td>SEM</td>\n",
       "      <td>1</td>\n",
       "      <td>374</td>\n",
       "      <td>16512</td>\n",
       "      <td>1252.09</td>\n",
       "      <td>3</td>\n",
       "    </tr>\n",
       "    <tr>\n",
       "      <th>23</th>\n",
       "      <td>SEM</td>\n",
       "      <td>1</td>\n",
       "      <td>85</td>\n",
       "      <td>4384</td>\n",
       "      <td>231.13</td>\n",
       "      <td>4</td>\n",
       "    </tr>\n",
       "    <tr>\n",
       "      <th>24</th>\n",
       "      <td>SEM</td>\n",
       "      <td>1</td>\n",
       "      <td>181</td>\n",
       "      <td>17597</td>\n",
       "      <td>555.50</td>\n",
       "      <td>12</td>\n",
       "    </tr>\n",
       "    <tr>\n",
       "      <th>25</th>\n",
       "      <td>SEM</td>\n",
       "      <td>1</td>\n",
       "      <td>276</td>\n",
       "      <td>12652</td>\n",
       "      <td>978.71</td>\n",
       "      <td>15</td>\n",
       "    </tr>\n",
       "    <tr>\n",
       "      <th>26</th>\n",
       "      <td>SEM</td>\n",
       "      <td>1</td>\n",
       "      <td>72</td>\n",
       "      <td>4565</td>\n",
       "      <td>248.69</td>\n",
       "      <td>4</td>\n",
       "    </tr>\n",
       "    <tr>\n",
       "      <th>27</th>\n",
       "      <td>SEM</td>\n",
       "      <td>1</td>\n",
       "      <td>151</td>\n",
       "      <td>18001</td>\n",
       "      <td>518.99</td>\n",
       "      <td>14</td>\n",
       "    </tr>\n",
       "    <tr>\n",
       "      <th>28</th>\n",
       "      <td>SEM</td>\n",
       "      <td>1</td>\n",
       "      <td>220</td>\n",
       "      <td>12053</td>\n",
       "      <td>786.53</td>\n",
       "      <td>7</td>\n",
       "    </tr>\n",
       "    <tr>\n",
       "      <th>29</th>\n",
       "      <td>SEM</td>\n",
       "      <td>1</td>\n",
       "      <td>69</td>\n",
       "      <td>4990</td>\n",
       "      <td>233.41</td>\n",
       "      <td>7</td>\n",
       "    </tr>\n",
       "    <tr>\n",
       "      <th>...</th>\n",
       "      <td>...</td>\n",
       "      <td>...</td>\n",
       "      <td>...</td>\n",
       "      <td>...</td>\n",
       "      <td>...</td>\n",
       "      <td>...</td>\n",
       "    </tr>\n",
       "    <tr>\n",
       "      <th>4096</th>\n",
       "      <td>SEM</td>\n",
       "      <td>3</td>\n",
       "      <td>0</td>\n",
       "      <td>0</td>\n",
       "      <td>0.00</td>\n",
       "      <td>1</td>\n",
       "    </tr>\n",
       "    <tr>\n",
       "      <th>4097</th>\n",
       "      <td>SEM</td>\n",
       "      <td>3</td>\n",
       "      <td>132</td>\n",
       "      <td>5377</td>\n",
       "      <td>415.76</td>\n",
       "      <td>0</td>\n",
       "    </tr>\n",
       "    <tr>\n",
       "      <th>4098</th>\n",
       "      <td>SEM</td>\n",
       "      <td>3</td>\n",
       "      <td>0</td>\n",
       "      <td>0</td>\n",
       "      <td>0.00</td>\n",
       "      <td>1</td>\n",
       "    </tr>\n",
       "    <tr>\n",
       "      <th>4099</th>\n",
       "      <td>SEM</td>\n",
       "      <td>3</td>\n",
       "      <td>96</td>\n",
       "      <td>5475</td>\n",
       "      <td>306.07</td>\n",
       "      <td>0</td>\n",
       "    </tr>\n",
       "    <tr>\n",
       "      <th>4100</th>\n",
       "      <td>SEM</td>\n",
       "      <td>3</td>\n",
       "      <td>0</td>\n",
       "      <td>0</td>\n",
       "      <td>0.00</td>\n",
       "      <td>1</td>\n",
       "    </tr>\n",
       "    <tr>\n",
       "      <th>4101</th>\n",
       "      <td>SEM</td>\n",
       "      <td>3</td>\n",
       "      <td>115</td>\n",
       "      <td>5487</td>\n",
       "      <td>352.77</td>\n",
       "      <td>0</td>\n",
       "    </tr>\n",
       "    <tr>\n",
       "      <th>4102</th>\n",
       "      <td>SEM</td>\n",
       "      <td>3</td>\n",
       "      <td>0</td>\n",
       "      <td>0</td>\n",
       "      <td>0.00</td>\n",
       "      <td>2</td>\n",
       "    </tr>\n",
       "    <tr>\n",
       "      <th>4103</th>\n",
       "      <td>SEM</td>\n",
       "      <td>3</td>\n",
       "      <td>113</td>\n",
       "      <td>5925</td>\n",
       "      <td>338.53</td>\n",
       "      <td>0</td>\n",
       "    </tr>\n",
       "    <tr>\n",
       "      <th>4104</th>\n",
       "      <td>SEM</td>\n",
       "      <td>3</td>\n",
       "      <td>97</td>\n",
       "      <td>5397</td>\n",
       "      <td>293.65</td>\n",
       "      <td>0</td>\n",
       "    </tr>\n",
       "    <tr>\n",
       "      <th>4105</th>\n",
       "      <td>SEM</td>\n",
       "      <td>3</td>\n",
       "      <td>0</td>\n",
       "      <td>0</td>\n",
       "      <td>0.00</td>\n",
       "      <td>2</td>\n",
       "    </tr>\n",
       "    <tr>\n",
       "      <th>4106</th>\n",
       "      <td>SEM</td>\n",
       "      <td>3</td>\n",
       "      <td>96</td>\n",
       "      <td>4522</td>\n",
       "      <td>261.22</td>\n",
       "      <td>0</td>\n",
       "    </tr>\n",
       "    <tr>\n",
       "      <th>4107</th>\n",
       "      <td>SEM</td>\n",
       "      <td>3</td>\n",
       "      <td>0</td>\n",
       "      <td>0</td>\n",
       "      <td>0.00</td>\n",
       "      <td>1</td>\n",
       "    </tr>\n",
       "    <tr>\n",
       "      <th>4108</th>\n",
       "      <td>SEM</td>\n",
       "      <td>3</td>\n",
       "      <td>99</td>\n",
       "      <td>4389</td>\n",
       "      <td>257.26</td>\n",
       "      <td>0</td>\n",
       "    </tr>\n",
       "    <tr>\n",
       "      <th>4109</th>\n",
       "      <td>SEM</td>\n",
       "      <td>3</td>\n",
       "      <td>0</td>\n",
       "      <td>0</td>\n",
       "      <td>0.00</td>\n",
       "      <td>1</td>\n",
       "    </tr>\n",
       "    <tr>\n",
       "      <th>4110</th>\n",
       "      <td>SEM</td>\n",
       "      <td>3</td>\n",
       "      <td>130</td>\n",
       "      <td>7210</td>\n",
       "      <td>344.31</td>\n",
       "      <td>0</td>\n",
       "    </tr>\n",
       "    <tr>\n",
       "      <th>4111</th>\n",
       "      <td>SEM</td>\n",
       "      <td>3</td>\n",
       "      <td>0</td>\n",
       "      <td>0</td>\n",
       "      <td>0.00</td>\n",
       "      <td>1</td>\n",
       "    </tr>\n",
       "    <tr>\n",
       "      <th>4112</th>\n",
       "      <td>SEM</td>\n",
       "      <td>3</td>\n",
       "      <td>161</td>\n",
       "      <td>6111</td>\n",
       "      <td>491.21</td>\n",
       "      <td>0</td>\n",
       "    </tr>\n",
       "    <tr>\n",
       "      <th>4113</th>\n",
       "      <td>SEM</td>\n",
       "      <td>3</td>\n",
       "      <td>0</td>\n",
       "      <td>0</td>\n",
       "      <td>0.00</td>\n",
       "      <td>3</td>\n",
       "    </tr>\n",
       "    <tr>\n",
       "      <th>4114</th>\n",
       "      <td>SEM</td>\n",
       "      <td>3</td>\n",
       "      <td>124</td>\n",
       "      <td>7851</td>\n",
       "      <td>373.13</td>\n",
       "      <td>0</td>\n",
       "    </tr>\n",
       "    <tr>\n",
       "      <th>4115</th>\n",
       "      <td>SEM</td>\n",
       "      <td>3</td>\n",
       "      <td>0</td>\n",
       "      <td>0</td>\n",
       "      <td>0.00</td>\n",
       "      <td>4</td>\n",
       "    </tr>\n",
       "    <tr>\n",
       "      <th>4116</th>\n",
       "      <td>SEM</td>\n",
       "      <td>3</td>\n",
       "      <td>0</td>\n",
       "      <td>0</td>\n",
       "      <td>0.00</td>\n",
       "      <td>1</td>\n",
       "    </tr>\n",
       "    <tr>\n",
       "      <th>4117</th>\n",
       "      <td>SEM</td>\n",
       "      <td>3</td>\n",
       "      <td>102</td>\n",
       "      <td>6282</td>\n",
       "      <td>333.11</td>\n",
       "      <td>0</td>\n",
       "    </tr>\n",
       "    <tr>\n",
       "      <th>4118</th>\n",
       "      <td>SEM</td>\n",
       "      <td>3</td>\n",
       "      <td>0</td>\n",
       "      <td>0</td>\n",
       "      <td>0.00</td>\n",
       "      <td>1</td>\n",
       "    </tr>\n",
       "    <tr>\n",
       "      <th>4119</th>\n",
       "      <td>SEM</td>\n",
       "      <td>3</td>\n",
       "      <td>95</td>\n",
       "      <td>5717</td>\n",
       "      <td>283.62</td>\n",
       "      <td>0</td>\n",
       "    </tr>\n",
       "    <tr>\n",
       "      <th>4120</th>\n",
       "      <td>SEM</td>\n",
       "      <td>3</td>\n",
       "      <td>78</td>\n",
       "      <td>3799</td>\n",
       "      <td>246.51</td>\n",
       "      <td>0</td>\n",
       "    </tr>\n",
       "    <tr>\n",
       "      <th>4121</th>\n",
       "      <td>SEM</td>\n",
       "      <td>3</td>\n",
       "      <td>0</td>\n",
       "      <td>0</td>\n",
       "      <td>0.00</td>\n",
       "      <td>1</td>\n",
       "    </tr>\n",
       "    <tr>\n",
       "      <th>4122</th>\n",
       "      <td>SEM</td>\n",
       "      <td>3</td>\n",
       "      <td>0</td>\n",
       "      <td>0</td>\n",
       "      <td>0.00</td>\n",
       "      <td>0</td>\n",
       "    </tr>\n",
       "    <tr>\n",
       "      <th>4123</th>\n",
       "      <td>SEM</td>\n",
       "      <td>3</td>\n",
       "      <td>0</td>\n",
       "      <td>0</td>\n",
       "      <td>0.00</td>\n",
       "      <td>2</td>\n",
       "    </tr>\n",
       "    <tr>\n",
       "      <th>4124</th>\n",
       "      <td>SEM</td>\n",
       "      <td>3</td>\n",
       "      <td>71</td>\n",
       "      <td>3965</td>\n",
       "      <td>223.23</td>\n",
       "      <td>0</td>\n",
       "    </tr>\n",
       "    <tr>\n",
       "      <th>4125</th>\n",
       "      <td>SEM</td>\n",
       "      <td>3</td>\n",
       "      <td>0</td>\n",
       "      <td>0</td>\n",
       "      <td>0.00</td>\n",
       "      <td>2</td>\n",
       "    </tr>\n",
       "  </tbody>\n",
       "</table>\n",
       "<p>4126 rows × 6 columns</p>\n",
       "</div>"
      ],
      "text/plain": [
       "     MediaType  Month  Clicks  Impressions  Actual_Spend  Conversions\n",
       "0          SEM      1     124        15696        389.22            7\n",
       "1          SEM      1     195        10540        643.87           11\n",
       "2          SEM      1      67         4468        220.83            4\n",
       "3          SEM      1     181        19544        537.48           11\n",
       "4          SEM      1     306        14584       1062.53            9\n",
       "5          SEM      1      73         5503        248.76            3\n",
       "6          SEM      1     210        20546        635.13           17\n",
       "7          SEM      1     330        14060       1085.62           13\n",
       "8          SEM      1      91         5980        303.14            1\n",
       "9          SEM      1     553        40216       1666.82           24\n",
       "10         SEM      1     656        25760       2136.50           23\n",
       "11         SEM      1     188         7218        531.59           14\n",
       "12         SEM      1     513        41850       1521.68           20\n",
       "13         SEM      1     752        26900       2363.75           38\n",
       "14         SEM      1     156         7248        451.55           14\n",
       "15         SEM      1     415        34904       1251.56           14\n",
       "16         SEM      1     479        22238       1557.61            4\n",
       "17         SEM      1     132         6188        378.43            6\n",
       "18         SEM      1     344        29212       1085.77           14\n",
       "19         SEM      1     444        18558       1521.93           20\n",
       "20         SEM      1     103         5215        305.58            2\n",
       "21         SEM      1     265        25097        854.01           11\n",
       "22         SEM      1     374        16512       1252.09            3\n",
       "23         SEM      1      85         4384        231.13            4\n",
       "24         SEM      1     181        17597        555.50           12\n",
       "25         SEM      1     276        12652        978.71           15\n",
       "26         SEM      1      72         4565        248.69            4\n",
       "27         SEM      1     151        18001        518.99           14\n",
       "28         SEM      1     220        12053        786.53            7\n",
       "29         SEM      1      69         4990        233.41            7\n",
       "...        ...    ...     ...          ...           ...          ...\n",
       "4096       SEM      3       0            0          0.00            1\n",
       "4097       SEM      3     132         5377        415.76            0\n",
       "4098       SEM      3       0            0          0.00            1\n",
       "4099       SEM      3      96         5475        306.07            0\n",
       "4100       SEM      3       0            0          0.00            1\n",
       "4101       SEM      3     115         5487        352.77            0\n",
       "4102       SEM      3       0            0          0.00            2\n",
       "4103       SEM      3     113         5925        338.53            0\n",
       "4104       SEM      3      97         5397        293.65            0\n",
       "4105       SEM      3       0            0          0.00            2\n",
       "4106       SEM      3      96         4522        261.22            0\n",
       "4107       SEM      3       0            0          0.00            1\n",
       "4108       SEM      3      99         4389        257.26            0\n",
       "4109       SEM      3       0            0          0.00            1\n",
       "4110       SEM      3     130         7210        344.31            0\n",
       "4111       SEM      3       0            0          0.00            1\n",
       "4112       SEM      3     161         6111        491.21            0\n",
       "4113       SEM      3       0            0          0.00            3\n",
       "4114       SEM      3     124         7851        373.13            0\n",
       "4115       SEM      3       0            0          0.00            4\n",
       "4116       SEM      3       0            0          0.00            1\n",
       "4117       SEM      3     102         6282        333.11            0\n",
       "4118       SEM      3       0            0          0.00            1\n",
       "4119       SEM      3      95         5717        283.62            0\n",
       "4120       SEM      3      78         3799        246.51            0\n",
       "4121       SEM      3       0            0          0.00            1\n",
       "4122       SEM      3       0            0          0.00            0\n",
       "4123       SEM      3       0            0          0.00            2\n",
       "4124       SEM      3      71         3965        223.23            0\n",
       "4125       SEM      3       0            0          0.00            2\n",
       "\n",
       "[4126 rows x 6 columns]"
      ]
     },
     "execution_count": 167,
     "metadata": {},
     "output_type": "execute_result"
    }
   ],
   "source": [
    "Media_groups.get_group('SEM')"
   ]
  },
  {
   "cell_type": "code",
   "execution_count": 603,
   "metadata": {
    "collapsed": true
   },
   "outputs": [],
   "source": [
    "Traffic = stargas.groupby('Traffic_Source_Final')"
   ]
  },
  {
   "cell_type": "code",
   "execution_count": 604,
   "metadata": {
    "collapsed": true
   },
   "outputs": [],
   "source": [
    "Traffic_counts=Traffic.aggregate(sum)"
   ]
  },
  {
   "cell_type": "code",
   "execution_count": 606,
   "metadata": {
    "collapsed": true
   },
   "outputs": [],
   "source": [
    "cond=stargas['Year']==17"
   ]
  },
  {
   "cell_type": "code",
   "execution_count": 610,
   "metadata": {},
   "outputs": [
    {
     "data": {
      "text/html": [
       "<div>\n",
       "<style scoped>\n",
       "    .dataframe tbody tr th:only-of-type {\n",
       "        vertical-align: middle;\n",
       "    }\n",
       "\n",
       "    .dataframe tbody tr th {\n",
       "        vertical-align: top;\n",
       "    }\n",
       "\n",
       "    .dataframe thead th {\n",
       "        text-align: right;\n",
       "    }\n",
       "</style>\n",
       "<table border=\"1\" class=\"dataframe\">\n",
       "  <thead>\n",
       "    <tr style=\"text-align: right;\">\n",
       "      <th></th>\n",
       "      <th>Year</th>\n",
       "      <th>Month</th>\n",
       "      <th>Clicks</th>\n",
       "      <th>Impressions</th>\n",
       "      <th>Actual_Spend</th>\n",
       "      <th>Conversions</th>\n",
       "    </tr>\n",
       "    <tr>\n",
       "      <th>Traffic_Source_Final</th>\n",
       "      <th></th>\n",
       "      <th></th>\n",
       "      <th></th>\n",
       "      <th></th>\n",
       "      <th></th>\n",
       "      <th></th>\n",
       "    </tr>\n",
       "  </thead>\n",
       "  <tbody>\n",
       "    <tr>\n",
       "      <th>Adwords</th>\n",
       "      <td>40773</td>\n",
       "      <td>14793</td>\n",
       "      <td>351000</td>\n",
       "      <td>18897696</td>\n",
       "      <td>1419168.72</td>\n",
       "      <td>25663</td>\n",
       "    </tr>\n",
       "    <tr>\n",
       "      <th>Bing</th>\n",
       "      <td>27852</td>\n",
       "      <td>10220</td>\n",
       "      <td>77940</td>\n",
       "      <td>5027260</td>\n",
       "      <td>259370.37</td>\n",
       "      <td>2525</td>\n",
       "    </tr>\n",
       "    <tr>\n",
       "      <th>DCM</th>\n",
       "      <td>12247</td>\n",
       "      <td>4681</td>\n",
       "      <td>12209</td>\n",
       "      <td>25302157</td>\n",
       "      <td>249411.64</td>\n",
       "      <td>1445</td>\n",
       "    </tr>\n",
       "    <tr>\n",
       "      <th>Facebook</th>\n",
       "      <td>9164</td>\n",
       "      <td>3738</td>\n",
       "      <td>16383</td>\n",
       "      <td>1457508</td>\n",
       "      <td>34021.58</td>\n",
       "      <td>251</td>\n",
       "    </tr>\n",
       "  </tbody>\n",
       "</table>\n",
       "</div>"
      ],
      "text/plain": [
       "                       Year  Month  Clicks  Impressions  Actual_Spend  \\\n",
       "Traffic_Source_Final                                                    \n",
       "Adwords               40773  14793  351000     18897696    1419168.72   \n",
       "Bing                  27852  10220   77940      5027260     259370.37   \n",
       "DCM                   12247   4681   12209     25302157     249411.64   \n",
       "Facebook               9164   3738   16383      1457508      34021.58   \n",
       "\n",
       "                      Conversions  \n",
       "Traffic_Source_Final               \n",
       "Adwords                     25663  \n",
       "Bing                         2525  \n",
       "DCM                          1445  \n",
       "Facebook                      251  "
      ]
     },
     "execution_count": 610,
     "metadata": {},
     "output_type": "execute_result"
    }
   ],
   "source": [
    "Traffic_counts"
   ]
  },
  {
   "cell_type": "code",
   "execution_count": null,
   "metadata": {},
   "outputs": [],
   "source": [
    "#Linear Programming Model"
   ]
  },
  {
   "cell_type": "code",
   "execution_count": 597,
   "metadata": {
    "collapsed": true
   },
   "outputs": [],
   "source": [
    "c = [-0.01649546,-0.00673206,-0.00210477,-0.00554307]\n",
    "A= [[1.0,1.0,1.0,1.0],[-10.6287265,0.0,0.0,0.0],[0.0,-14.7469492,0.0,0.0],[0.0,0.0,-87.0776054,0.0],[0.0,0.0,0.0,-43.6720415],\n",
    "    [-0.20812002,0.0,0.0,0.0],[0.0,-0.27602498,0.0,0.0],[0.0,0.0,-0.04120044,0.0],[0.0,0.0,0.0,-0.49814672],[-0.01649546,0.0,0.0,0.0],[0.0,-0.00673206,0.0,0.0],[0.0,0.0,-0.00210477,0.0],[0.0,0.0,0.0,-0.00554307]]\n",
    "b= [1000000.0,-1000000.0,-1000000.0,-1000000.0,-100000.0,-500.0,-500.0,-500.0,-500.0,-100.0,-100.0,-100.0,-100.0]"
   ]
  },
  {
   "cell_type": "code",
   "execution_count": 598,
   "metadata": {
    "collapsed": true
   },
   "outputs": [],
   "source": [
    "x1_bounds=[10000,None]\n",
    "x2_bounds=[10000,None]\n",
    "x3_bounds=[10000,None]\n",
    "x4_bounds=[10000,None]\n"
   ]
  },
  {
   "cell_type": "code",
   "execution_count": 599,
   "metadata": {},
   "outputs": [
    {
     "name": "stdout",
     "output_type": "stream",
     "text": [
      "Primal Feasibility  Dual Feasibility    Duality Gap         Step             Path Parameter      Objective          \n",
      "1.0                 1.0                 0.96912464          -                1.0                 -2208.505704564     \n",
      "5.136111438588e-05  5.136111614919e-05  4.512768186893e-05  0.9999486388856  5.136111083895e-05  -2742.348640071     \n",
      "1.090084718397e-06  1.090084755821e-06  9.577867382538e-07  0.9787891228589  1.090084643117e-06  -6321.263610821     \n",
      "5.419673280836e-07  5.419673466903e-07  4.761915387563e-07  0.5393624896542  5.419672906562e-07  -13326.66584827     \n",
      "2.491643472484e-09  2.491643558034e-09  2.189245548734e-09  0.9964576352432  2.491643300422e-09  -14848.0449886      \n",
      "1.261035824238e-13  1.261056765474e-13  1.107863800698e-13  0.999950226363   1.2610569797e-13    -14952.08733358     \n",
      "6.117415508442e-18  6.302224393347e-18  1.387778780781e-17  0.9999500240389  6.30528483798e-18   -14952.09262594     \n",
      "Optimization terminated successfully.\n"
     ]
    }
   ],
   "source": [
    "res = linprog(c,A_ub=A,b_ub=b,bounds=(x1_bounds,x2_bounds,x3_bounds,x4_bounds),options={\"disp\": True},method='interior-point')"
   ]
  },
  {
   "cell_type": "code",
   "execution_count": 557,
   "metadata": {},
   "outputs": [
    {
     "data": {
      "text/plain": [
       "scipy.optimize.optimize.OptimizeResult"
      ]
     },
     "execution_count": 557,
     "metadata": {},
     "output_type": "execute_result"
    }
   ],
   "source": [
    "scipy.optimize.OptimizeResult"
   ]
  },
  {
   "cell_type": "code",
   "execution_count": 600,
   "metadata": {},
   "outputs": [
    {
     "name": "stdout",
     "output_type": "stream",
     "text": [
      "     con: array([], dtype=float64)\n",
      "     fun: -14952.0926259441\n",
      " message: 'Optimization terminated successfully.'\n",
      "     nit: 6\n",
      "   slack: array([6.87665306e-06, 8.21125499e+06, 2.23765383e-05, 3.13715539e+06,\n",
      "       6.87867400e+05, 1.79864653e+05, 1.82174294e+04, 1.45747944e+03,\n",
      "       8.48683798e+03, 1.41955874e+04, 3.56505268e+02, 1.34096609e-08,\n",
      "       2.24673755e-08])\n",
      "  status: 0\n",
      " success: True\n",
      "       x: array([866637.69047218,  67810.63570914,  47511.12948845,  18040.54432336])\n"
     ]
    }
   ],
   "source": [
    "print(res)"
   ]
  },
  {
   "cell_type": "code",
   "execution_count": 613,
   "metadata": {},
   "outputs": [
    {
     "data": {
      "text/plain": [
       "14952.09262594419"
      ]
     },
     "execution_count": 613,
     "metadata": {},
     "output_type": "execute_result"
    }
   ],
   "source": [
    "Total_conv=866637.69047218*0.01649546+67810.63570914*0.00673206+47511.12948845*0.00210477+18040.54432336*0.00554307\n",
    "Total_conv"
   ]
  },
  {
   "cell_type": "code",
   "execution_count": 617,
   "metadata": {},
   "outputs": [
    {
     "data": {
      "text/plain": [
       "14295.587357676226"
      ]
     },
     "execution_count": 617,
     "metadata": {},
     "output_type": "execute_result"
    }
   ],
   "source": [
    "adwords_conv=866637.69047218*0.01649546\n",
    "adwords_conv"
   ]
  },
  {
   "cell_type": "code",
   "execution_count": 619,
   "metadata": {},
   "outputs": [
    {
     "data": {
      "text/plain": [
       "0.9560927500456474"
      ]
     },
     "execution_count": 619,
     "metadata": {},
     "output_type": "execute_result"
    }
   ],
   "source": [
    "r1=adwords_conv/Total_conv\n",
    "r1"
   ]
  },
  {
   "cell_type": "code",
   "execution_count": 620,
   "metadata": {
    "collapsed": true
   },
   "outputs": [],
   "source": [
    "bing_conv=67810.63570914*0.00673206"
   ]
  },
  {
   "cell_type": "code",
   "execution_count": 621,
   "metadata": {},
   "outputs": [
    {
     "data": {
      "text/plain": [
       "0.03053119584344775"
      ]
     },
     "execution_count": 621,
     "metadata": {},
     "output_type": "execute_result"
    }
   ],
   "source": [
    "r2=bing_conv/Total_conv\n",
    "r2"
   ]
  },
  {
   "cell_type": "code",
   "execution_count": 630,
   "metadata": {},
   "outputs": [
    {
     "data": {
      "text/plain": [
       "100.00000001340491"
      ]
     },
     "execution_count": 630,
     "metadata": {},
     "output_type": "execute_result"
    }
   ],
   "source": [
    "DCM_conv=47511.12948845*0.00210477\n",
    "DCM_conv"
   ]
  },
  {
   "cell_type": "code",
   "execution_count": 628,
   "metadata": {},
   "outputs": [
    {
     "data": {
      "text/plain": [
       "0.006688027055148754"
      ]
     },
     "execution_count": 628,
     "metadata": {},
     "output_type": "execute_result"
    }
   ],
   "source": [
    "r3=DCM_conv/Total_conv\n",
    "r3"
   ]
  },
  {
   "cell_type": "code",
   "execution_count": 631,
   "metadata": {},
   "outputs": [
    {
     "data": {
      "text/plain": [
       "100.00000002248711"
      ]
     },
     "execution_count": 631,
     "metadata": {},
     "output_type": "execute_result"
    }
   ],
   "source": [
    "FB_conv=18040.54432336*0.00554307\n",
    "FB_conv"
   ]
  },
  {
   "cell_type": "code",
   "execution_count": 629,
   "metadata": {},
   "outputs": [
    {
     "data": {
      "text/plain": [
       "0.006688027055756174"
      ]
     },
     "execution_count": 629,
     "metadata": {},
     "output_type": "execute_result"
    }
   ],
   "source": [
    "r4=FB_conv/Total_conv\n",
    "r4"
   ]
  },
  {
   "cell_type": "code",
   "execution_count": 632,
   "metadata": {},
   "outputs": [
    {
     "data": {
      "text/plain": [
       "210026.4002607441"
      ]
     },
     "execution_count": 632,
     "metadata": {},
     "output_type": "execute_result"
    }
   ],
   "source": [
    "Total_clicks=866637.69047218*.20812002+67810.63570914*0.27602498+47511.12948845*0.04120044+18040.54432336*0.49814672\n",
    "Total_clicks"
   ]
  },
  {
   "cell_type": "code",
   "execution_count": 633,
   "metadata": {
    "collapsed": true
   },
   "outputs": [],
   "source": [
    "adwords_clicks=866637.69047218*.20812002"
   ]
  },
  {
   "cell_type": "code",
   "execution_count": 635,
   "metadata": {},
   "outputs": [
    {
     "data": {
      "text/plain": [
       "0.8587713413642493"
      ]
     },
     "execution_count": 635,
     "metadata": {},
     "output_type": "execute_result"
    }
   ],
   "source": [
    "cr1=adwords_clicks/Total_clicks\n",
    "cr1"
   ]
  },
  {
   "cell_type": "code",
   "execution_count": 636,
   "metadata": {
    "collapsed": true
   },
   "outputs": [],
   "source": [
    "bing_clicks=67810.63570914*0.27602498"
   ]
  },
  {
   "cell_type": "code",
   "execution_count": 637,
   "metadata": {},
   "outputs": [
    {
     "data": {
      "text/plain": [
       "0.08911941233180824"
      ]
     },
     "execution_count": 637,
     "metadata": {},
     "output_type": "execute_result"
    }
   ],
   "source": [
    "cr2=bing_clicks/Total_clicks\n",
    "cr2"
   ]
  },
  {
   "cell_type": "code",
   "execution_count": 639,
   "metadata": {
    "collapsed": true
   },
   "outputs": [],
   "source": [
    "DCM_clicks=47511.12948845*0.04120044"
   ]
  },
  {
   "cell_type": "code",
   "execution_count": 641,
   "metadata": {},
   "outputs": [
    {
     "data": {
      "text/plain": [
       "0.009320158977114013"
      ]
     },
     "execution_count": 641,
     "metadata": {},
     "output_type": "execute_result"
    }
   ],
   "source": [
    "cr3=DCM_clicks/Total_clicks\n",
    "cr3"
   ]
  },
  {
   "cell_type": "code",
   "execution_count": 643,
   "metadata": {
    "collapsed": true
   },
   "outputs": [],
   "source": [
    "FB_clicks=18040.54432336*0.49814672"
   ]
  },
  {
   "cell_type": "code",
   "execution_count": 644,
   "metadata": {},
   "outputs": [
    {
     "data": {
      "text/plain": [
       "0.04278908732682845"
      ]
     },
     "execution_count": 644,
     "metadata": {},
     "output_type": "execute_result"
    }
   ],
   "source": [
    "cr4=FB_clicks/Total_clicks\n",
    "cr4"
   ]
  },
  {
   "cell_type": "code",
   "execution_count": 648,
   "metadata": {},
   "outputs": [
    {
     "data": {
      "text/plain": [
       "15136277.77271877"
      ]
     },
     "execution_count": 648,
     "metadata": {},
     "output_type": "execute_result"
    }
   ],
   "source": [
    "Total_imp=866637.69047218*10.6287265+67810.63570914*14.7469492+47511.12948845*87.0776054+18040.54432336*43.6720415\n",
    "Total_imp"
   ]
  },
  {
   "cell_type": "code",
   "execution_count": 647,
   "metadata": {
    "collapsed": true
   },
   "outputs": [],
   "source": [
    "adwords_imp=866637.69047218*10.6287265"
   ]
  },
  {
   "cell_type": "code",
   "execution_count": 649,
   "metadata": {},
   "outputs": [
    {
     "data": {
      "text/plain": [
       "0.6085548326301584"
      ]
     },
     "execution_count": 649,
     "metadata": {},
     "output_type": "execute_result"
    }
   ],
   "source": [
    "Ir1=adwords_imp/Total_imp\n",
    "Ir1"
   ]
  },
  {
   "cell_type": "code",
   "execution_count": 651,
   "metadata": {
    "collapsed": true
   },
   "outputs": [],
   "source": [
    "bing_imp=67810.63570914*14.7469492\n"
   ]
  },
  {
   "cell_type": "code",
   "execution_count": 653,
   "metadata": {},
   "outputs": [
    {
     "data": {
      "text/plain": [
       "0.06606644084087616"
      ]
     },
     "execution_count": 653,
     "metadata": {},
     "output_type": "execute_result"
    }
   ],
   "source": [
    "Ir2=bing_imp/Total_imp\n",
    "Ir2"
   ]
  },
  {
   "cell_type": "code",
   "execution_count": 655,
   "metadata": {
    "collapsed": true
   },
   "outputs": [],
   "source": [
    "DCM_imp=47511.12948845*87.0776054"
   ]
  },
  {
   "cell_type": "code",
   "execution_count": 657,
   "metadata": {},
   "outputs": [
    {
     "data": {
      "text/plain": [
       "0.2733271315329752"
      ]
     },
     "execution_count": 657,
     "metadata": {},
     "output_type": "execute_result"
    }
   ],
   "source": [
    "Ir3=DCM_imp/Total_imp\n",
    "Ir3"
   ]
  },
  {
   "cell_type": "code",
   "execution_count": 659,
   "metadata": {
    "collapsed": true
   },
   "outputs": [],
   "source": [
    "Fb_imp=18040.54432336*43.6720415"
   ]
  },
  {
   "cell_type": "code",
   "execution_count": 661,
   "metadata": {},
   "outputs": [
    {
     "data": {
      "text/plain": [
       "0.05205159499599029"
      ]
     },
     "execution_count": 661,
     "metadata": {},
     "output_type": "execute_result"
    }
   ],
   "source": [
    "Ir4=Fb_imp/Total_imp\n",
    "Ir4"
   ]
  },
  {
   "cell_type": "code",
   "execution_count": 590,
   "metadata": {
    "collapsed": true
   },
   "outputs": [],
   "source": [
    "c = [-0.00887773,-0.00336614,-0.00026383,-0.00346332]\n",
    "A= [[1.0,1.0,1.0,1.0],[-13.0881685,0.0,0.0,0.0],[0.0,-15.1430304,0.0,0.0],[0.0,0.0,-83.4449666,0.0],[0.0,0.0,0.0,-47.5492224],\n",
    "    [-0.1562806,0.0,0.0,0.0],[0.0,-0.22021831,0.0,0.0],[0.0,0.0,-0.04360438,0.0],[0.0,0.0,0.0,-0.79059825],[-0.00887773,0.0,0.0,0.0],[0.0,-0.00336614,0.0,0.0],[0.0,0.0,-0.00026383,0.0],[0.0,0.0,0.0,-0.00346332]]\n",
    "b= [1000000.0,-1000000.0,-1000000.0,-1000000.0,-100000.0,-500.0,-500.0,-500.0,-500.0,-100.0,-100.0,-100.0,-100.0]"
   ]
  },
  {
   "cell_type": "code",
   "execution_count": 591,
   "metadata": {},
   "outputs": [
    {
     "name": "stdout",
     "output_type": "stream",
     "text": [
      "Primal Feasibility  Dual Feasibility    Duality Gap         Step             Path Parameter      Objective          \n",
      "1.0                 1.0                 0.98402898          -                1.0                 -1100.607625377     \n",
      "5.228697059655e-05  5.228697015459e-05  5.703069363561e-05  0.9999477130294  5.22869805856e-05   -1352.477211015     \n",
      "1.56909405156e-06   1.569094038297e-06  1.711449735264e-06  0.9700372533392  1.569094351324e-06  -2370.708157416     \n",
      "7.526453015892e-07  7.526452952273e-07  8.209288671623e-07  0.5574724970468  7.526454453766e-07  -4639.789684402     \n",
      "5.769061501019e-09  5.76906145227e-09   6.29245832523e-09   0.9929567344912  5.769062603171e-09  -5049.798648124     \n",
      "2.951281651558e-13  2.951255006807e-13  3.218952882023e-13  0.9999502803145  2.951255359165e-13  -5092.47978076      \n",
      "1.489162566074e-17  1.475744530407e-17  2.775557561563e-17  0.9999499960005  1.475627692349e-17  -5092.482076936     \n",
      "Optimization terminated successfully.\n"
     ]
    }
   ],
   "source": [
    "res = linprog(c,A_ub=A,b_ub=b,bounds=(x1_bounds,x2_bounds,x3_bounds,x4_bounds),options={\"disp\": True},method='interior-point')"
   ]
  },
  {
   "cell_type": "code",
   "execution_count": 592,
   "metadata": {},
   "outputs": [
    {
     "name": "stdout",
     "output_type": "stream",
     "text": [
      "     con: array([], dtype=float64)\n",
      "     fun: -5092.482076936344\n",
      " message: 'Optimization terminated successfully.'\n",
      "     nit: 6\n",
      "   slack: array([6.07338734e-06, 5.88512317e+06, 2.10105209e-05, 3.06283086e+07,\n",
      "       1.27293760e+06, 8.17125097e+04, 1.40425522e+04, 1.60274533e+04,\n",
      "       2.23277563e+04, 4.57019236e+03, 1.22289721e+02, 1.46391699e-09,\n",
      "       3.51440121e-09])\n",
      "  status: 0\n",
      " success: True\n",
      "       x: array([526057.03891712,  66036.98028771, 379031.95239914,  28874.02838996])\n"
     ]
    }
   ],
   "source": [
    "print(res)"
   ]
  },
  {
   "cell_type": "code",
   "execution_count": 662,
   "metadata": {},
   "outputs": [
    {
     "data": {
      "text/plain": [
       "5092.482076936337"
      ]
     },
     "execution_count": 662,
     "metadata": {},
     "output_type": "execute_result"
    }
   ],
   "source": [
    "Total_conv=526057.03891712*0.00887773+66036.98028771*0.00336614+379031.95239914*0.00026383+28874.02838996*0.00346332\n",
    "Total_conv"
   ]
  },
  {
   "cell_type": "code",
   "execution_count": 667,
   "metadata": {},
   "outputs": [
    {
     "data": {
      "text/plain": [
       "4670.192356105684"
      ]
     },
     "execution_count": 667,
     "metadata": {},
     "output_type": "execute_result"
    }
   ],
   "source": [
    "ad_conv=526057.03891712*0.00887773\n",
    "ad_conv"
   ]
  },
  {
   "cell_type": "code",
   "execution_count": 666,
   "metadata": {},
   "outputs": [
    {
     "data": {
      "text/plain": [
       "0.9170758552606032"
      ]
     },
     "execution_count": 666,
     "metadata": {},
     "output_type": "execute_result"
    }
   ],
   "source": [
    "r1=ad_conv/Total_conv\n",
    "r1"
   ]
  },
  {
   "cell_type": "code",
   "execution_count": 668,
   "metadata": {
    "collapsed": true
   },
   "outputs": [],
   "source": [
    "bing_conv=66036.98028771*0.00336614"
   ]
  },
  {
   "cell_type": "code",
   "execution_count": 671,
   "metadata": {},
   "outputs": [
    {
     "data": {
      "text/plain": [
       "0.04365056517968204"
      ]
     },
     "execution_count": 671,
     "metadata": {},
     "output_type": "execute_result"
    }
   ],
   "source": [
    "r2=bing_conv/Total_conv\n",
    "r2"
   ]
  },
  {
   "cell_type": "code",
   "execution_count": 672,
   "metadata": {
    "collapsed": true
   },
   "outputs": [],
   "source": [
    "DCM_conv=379031.95239914*0.00026383"
   ]
  },
  {
   "cell_type": "code",
   "execution_count": 679,
   "metadata": {},
   "outputs": [
    {
     "data": {
      "text/plain": [
       "0.019636789779656057"
      ]
     },
     "execution_count": 679,
     "metadata": {},
     "output_type": "execute_result"
    }
   ],
   "source": [
    "r3=DCM_conv/Total_conv\n",
    "r3"
   ]
  },
  {
   "cell_type": "code",
   "execution_count": 676,
   "metadata": {
    "collapsed": true
   },
   "outputs": [],
   "source": [
    "Fb_conv=28874.02838996*0.00346332"
   ]
  },
  {
   "cell_type": "code",
   "execution_count": 678,
   "metadata": {},
   "outputs": [
    {
     "data": {
      "text/plain": [
       "0.019636789780058842"
      ]
     },
     "execution_count": 678,
     "metadata": {},
     "output_type": "execute_result"
    }
   ],
   "source": [
    "r4=Fb_conv/Total_conv\n",
    "r4"
   ]
  },
  {
   "cell_type": "code",
   "execution_count": 682,
   "metadata": {},
   "outputs": [
    {
     "data": {
      "text/plain": [
       "136110.27147276036"
      ]
     },
     "execution_count": 682,
     "metadata": {},
     "output_type": "execute_result"
    }
   ],
   "source": [
    "Total_clicks=526057.03891712*0.1562806+66036.98028771*0.22021831+379031.95239914*0.04360438+28874.02838996*0.79059825\n",
    "Total_clicks"
   ]
  },
  {
   "cell_type": "code",
   "execution_count": 683,
   "metadata": {
    "collapsed": true
   },
   "outputs": [],
   "source": [
    "adwords_clicks=526057.03891712*0.1562806"
   ]
  },
  {
   "cell_type": "code",
   "execution_count": 684,
   "metadata": {},
   "outputs": [
    {
     "data": {
      "text/plain": [
       "0.6040140011964047"
      ]
     },
     "execution_count": 684,
     "metadata": {},
     "output_type": "execute_result"
    }
   ],
   "source": [
    "cr1=adwords_clicks/Total_clicks\n",
    "cr1"
   ]
  },
  {
   "cell_type": "code",
   "execution_count": 686,
   "metadata": {
    "collapsed": true
   },
   "outputs": [],
   "source": [
    "bing_clicks=66036.98028771*0.22021831"
   ]
  },
  {
   "cell_type": "code",
   "execution_count": 689,
   "metadata": {},
   "outputs": [
    {
     "data": {
      "text/plain": [
       "0.10684389972268331"
      ]
     },
     "execution_count": 689,
     "metadata": {},
     "output_type": "execute_result"
    }
   ],
   "source": [
    "cr2=bing_clicks/Total_clicks\n",
    "cr2"
   ]
  },
  {
   "cell_type": "code",
   "execution_count": 690,
   "metadata": {
    "collapsed": true
   },
   "outputs": [],
   "source": [
    "DCM_clicks=379031.95239914*0.04360438"
   ]
  },
  {
   "cell_type": "code",
   "execution_count": 691,
   "metadata": {},
   "outputs": [
    {
     "data": {
      "text/plain": [
       "0.12142693645175513"
      ]
     },
     "execution_count": 691,
     "metadata": {},
     "output_type": "execute_result"
    }
   ],
   "source": [
    "cr3=DCM_clicks/Total_clicks\n",
    "cr3"
   ]
  },
  {
   "cell_type": "code",
   "execution_count": 692,
   "metadata": {
    "collapsed": true
   },
   "outputs": [],
   "source": [
    "Fb_clicks=28874.02838996*0.79059825"
   ]
  },
  {
   "cell_type": "code",
   "execution_count": 694,
   "metadata": {},
   "outputs": [
    {
     "data": {
      "text/plain": [
       "0.16771516262915684"
      ]
     },
     "execution_count": 694,
     "metadata": {},
     "output_type": "execute_result"
    }
   ],
   "source": [
    "cr4=Fb_clicks/Total_clicks\n",
    "cr4"
   ]
  },
  {
   "cell_type": "code",
   "execution_count": null,
   "metadata": {
    "collapsed": true
   },
   "outputs": [],
   "source": [
    "[-0.00887773,-0.00336614,-0.00026383,-0.00346332]\n",
    "A= [[1.0,1.0,1.0,1.0],[-13.0881685,0.0,0.0,0.0],[0.0,-15.1430304,0.0,0.0],[0.0,0.0,-83.4449666,0.0],[0.0,0.0,0.0,-47.5492224],\n",
    "    [-0.1562806,0.0,0.0,0.0],[0.0,-0.22021831,0.0,0.0],[0.0,0.0,-0.04360438,0.0],[0.0,0.0,0.0,-0.79059825],[-0.00887773,0.0,0.0,0.0],[0.0,-0.00336614,0.0,0.0],[0.0,0.0,-0.00026383,0.0],[0.0,0.0,0.0,-0.00346332]]\n",
    "b= [1000000.0,-1000000.0,-1000000.0,-1000000.0,-100000.0,-500.0,-500.0,-500.0,-500.0,-100.0,-100.0,-100.0,-100.0]"
   ]
  },
  {
   "cell_type": "code",
   "execution_count": 697,
   "metadata": {},
   "outputs": [
    {
     "data": {
      "text/plain": [
       "40886369.371756464"
      ]
     },
     "execution_count": 697,
     "metadata": {},
     "output_type": "execute_result"
    }
   ],
   "source": [
    "Total_imp=526057.03891712*13.0881685+66036.98028771*15.1430304+379031.95239914*83.4449666+28874.02838996*47.5492224\n",
    "Total_imp"
   ]
  },
  {
   "cell_type": "code",
   "execution_count": 698,
   "metadata": {
    "collapsed": true
   },
   "outputs": [],
   "source": [
    "adwords_imp=526057.03891712*13.0881685"
   ]
  },
  {
   "cell_type": "code",
   "execution_count": 699,
   "metadata": {},
   "outputs": [
    {
     "data": {
      "text/plain": [
       "0.16839654074823374"
      ]
     },
     "execution_count": 699,
     "metadata": {},
     "output_type": "execute_result"
    }
   ],
   "source": [
    "Ir1=adwords_imp/Total_imp\n",
    "Ir1"
   ]
  },
  {
   "cell_type": "code",
   "execution_count": 700,
   "metadata": {
    "collapsed": true
   },
   "outputs": [],
   "source": [
    "bing_imp=66036.98028771*15.1430304"
   ]
  },
  {
   "cell_type": "code",
   "execution_count": 702,
   "metadata": {},
   "outputs": [
    {
     "data": {
      "text/plain": [
       "0.024458028809762073"
      ]
     },
     "execution_count": 702,
     "metadata": {},
     "output_type": "execute_result"
    }
   ],
   "source": [
    "Ir2=bing_imp/Total_imp\n",
    "Ir2"
   ]
  },
  {
   "cell_type": "code",
   "execution_count": 703,
   "metadata": {
    "collapsed": true
   },
   "outputs": [],
   "source": [
    "DCM_imp=379031.95239914*83.4449666"
   ]
  },
  {
   "cell_type": "code",
   "execution_count": 704,
   "metadata": {},
   "outputs": [
    {
     "data": {
      "text/plain": [
       "0.7735660831290946"
      ]
     },
     "execution_count": 704,
     "metadata": {},
     "output_type": "execute_result"
    }
   ],
   "source": [
    "Ir3=DCM_imp/Total_imp\n",
    "Ir3"
   ]
  },
  {
   "cell_type": "code",
   "execution_count": 705,
   "metadata": {
    "collapsed": true
   },
   "outputs": [],
   "source": [
    "Fb_imp=28874.02838996*47.5492224"
   ]
  },
  {
   "cell_type": "code",
   "execution_count": 706,
   "metadata": {},
   "outputs": [
    {
     "data": {
      "text/plain": [
       "0.03357934731290965"
      ]
     },
     "execution_count": 706,
     "metadata": {},
     "output_type": "execute_result"
    }
   ],
   "source": [
    "Ir4=Fb_imp/Total_imp\n",
    "Ir4"
   ]
  }
 ],
 "metadata": {
  "kernelspec": {
   "display_name": "Python 3",
   "language": "python",
   "name": "python3"
  },
  "language_info": {
   "codemirror_mode": {
    "name": "ipython",
    "version": 3
   },
   "file_extension": ".py",
   "mimetype": "text/x-python",
   "name": "python",
   "nbconvert_exporter": "python",
   "pygments_lexer": "ipython3",
   "version": "3.6.4"
  }
 },
 "nbformat": 4,
 "nbformat_minor": 2
}
