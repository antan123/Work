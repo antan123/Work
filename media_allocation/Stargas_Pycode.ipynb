{
 "cells": [
  {
   "cell_type": "code",
   "execution_count": 140,
   "metadata": {},
   "outputs": [],
   "source": [
    "import pandas as pd\n",
    "import numpy as np\n",
    "import statsmodels.stats as sm\n",
    "import scipy\n",
    "from scipy.optimize import linprog"
   ]
  },
  {
   "cell_type": "code",
   "execution_count": 141,
   "metadata": {},
   "outputs": [],
   "source": [
    "stargas_entire = pd.ExcelFile(\"StarGas - All Traffic Sources.xlsx\")"
   ]
  },
  {
   "cell_type": "code",
   "execution_count": 142,
   "metadata": {},
   "outputs": [],
   "source": [
    "stargas = stargas_entire.parse('abc')"
   ]
  },
  {
   "cell_type": "code",
   "execution_count": 143,
   "metadata": {},
   "outputs": [
    {
     "name": "stdout",
     "output_type": "stream",
     "text": [
      "  Traffic_Source MediaType       Date                             Device  \\\n",
      "0        Adwords       SEM 2016-01-01                          Computers   \n",
      "1        Adwords       SEM 2016-01-01  Mobile devices with full browsers   \n",
      "2        Adwords       SEM 2016-01-01         Tablets with full browsers   \n",
      "3        Adwords       SEM 2016-01-02                          Computers   \n",
      "4        Adwords       SEM 2016-01-02  Mobile devices with full browsers   \n",
      "\n",
      "   Clicks  Impressions  Actual_Spend  Conversions Traffic_Source_Final  \n",
      "0     124        15696        389.22          7.0              Adwords  \n",
      "1     195        10540        643.87         11.0              Adwords  \n",
      "2      67         4468        220.83          4.0              Adwords  \n",
      "3     181        19544        537.48         11.0              Adwords  \n",
      "4     306        14584       1062.53          9.0              Adwords  \n"
     ]
    }
   ],
   "source": [
    "print(stargas.head())"
   ]
  },
  {
   "cell_type": "code",
   "execution_count": 144,
   "metadata": {},
   "outputs": [],
   "source": [
    "aggregations = {'Clicks': 'sum',\n",
    "               'Impressions': 'sum',\n",
    "               'Actual_Spend': 'sum',\n",
    "               'Conversions': 'sum'}"
   ]
  },
  {
   "cell_type": "code",
   "execution_count": 145,
   "metadata": {},
   "outputs": [],
   "source": [
    "stargas_agg = stargas[(stargas['Date'] >= '2017-01-01')].groupby('Traffic_Source_Final').agg(aggregations)"
   ]
  },
  {
   "cell_type": "code",
   "execution_count": 146,
   "metadata": {},
   "outputs": [],
   "source": [
    "stargas_agg['ClicksperSpend'] = stargas_agg['Clicks']/stargas_agg['Actual_Spend']\n",
    "stargas_agg['ImpressionsperSpend'] = stargas_agg['Impressions']/stargas_agg['Actual_Spend']\n",
    "stargas_agg['ConversionsperSpend'] = stargas_agg['Conversions']/stargas_agg['Actual_Spend']"
   ]
  },
  {
   "cell_type": "code",
   "execution_count": 147,
   "metadata": {},
   "outputs": [
    {
     "name": "stdout",
     "output_type": "stream",
     "text": [
      "    Description  Adwords  Bing  DCM  Facebook Sign  Quantity\n",
      "0  Total_Budget        1     1    1         1   <=   1000000\n",
      "1         Spend        1     0    0         0   <=     10000\n",
      "2         Spend        0     1    0         0   <=     10000\n",
      "3         Spend        0     0    1         0   <=     10000\n",
      "4         Spend        0     0    0         1   <=     10000\n"
     ]
    }
   ],
   "source": [
    "###Reading in the constraints file\n",
    "constraints = pd.read_csv('Constraints.txt',sep='|')\n",
    "print(constraints.head())"
   ]
  },
  {
   "cell_type": "code",
   "execution_count": 148,
   "metadata": {},
   "outputs": [],
   "source": [
    "c = -1*np.array(stargas_agg['ConversionsperSpend'])\n",
    "A = [[1.0,1.0,1.0,1.0],[-10.6287265,0.0,0.0,0.0],[0.0,-14.7469492,0.0,0.0],[0.0,0.0,-87.0776054,0.0],[0.0,0.0,0.0,-43.6720415],\n",
    "    [-0.20812002,0.0,0.0,0.0],[0.0,-0.27602498,0.0,0.0],[0.0,0.0,-0.04120044,0.0],[0.0,0.0,0.0,-0.49814672],[-0.01649546,0.0,0.0,0.0],[0.0,-0.00673206,0.0,0.0],[0.0,0.0,-0.00210477,0.0],[0.0,0.0,0.0,-0.00554307]]\n",
    "b= [1000000.0,-1000000.0,-1000000.0,-1000000.0,-100000.0,-500.0,-500.0,-500.0,-500.0,-100.0,-100.0,-100.0,-100.0]"
   ]
  },
  {
   "cell_type": "code",
   "execution_count": 149,
   "metadata": {},
   "outputs": [],
   "source": [
    "x1_bounds=[constraints['Quantity'][1],None]\n",
    "x2_bounds=[constraints['Quantity'][2],None]\n",
    "x3_bounds=[constraints['Quantity'][3],None]\n",
    "x4_bounds=[constraints['Quantity'][4],None]"
   ]
  },
  {
   "cell_type": "code",
   "execution_count": 150,
   "metadata": {},
   "outputs": [
    {
     "name": "stdout",
     "output_type": "stream",
     "text": [
      "[[-10.08597697   0.           0.           0.        ]\n",
      " [  0.         -14.33611238   0.           0.        ]\n",
      " [  0.           0.         -84.44362265   0.        ]\n",
      " [  0.           0.           0.         -42.84069111]]\n",
      "[[-0.22726002  0.          0.          0.        ]\n",
      " [ 0.         -0.29008897  0.          0.        ]\n",
      " [ 0.          0.         -0.03659837  0.        ]\n",
      " [ 0.          0.          0.         -0.4815473 ]]\n",
      "[[-0.01905944  0.          0.          0.        ]\n",
      " [ 0.         -0.00671416  0.          0.        ]\n",
      " [ 0.          0.         -0.00191835  0.        ]\n",
      " [ 0.          0.          0.         -0.00737767]]\n"
     ]
    }
   ],
   "source": [
    "###Inequality Constraints\n",
    "global A_ub, b_ub\n",
    "A_ub = np.ones((1,4))\n",
    "def inequality_matrix_construction(no_of_channels, stargas_agg, parameter):\n",
    "    global A_ub\n",
    "    type_spend = parameter\n",
    "    arr = np.zeros((4,4))\n",
    "    for i in range(no_of_channels):\n",
    "        arr[i][i] = -1*stargas_agg[type_spend][i]\n",
    "    print(arr)\n",
    "    A_ub = np.concatenate((A_ub,arr),axis = 0)\n",
    "\n",
    "\n",
    "inequality_matrix_construction(4, stargas_agg, 'ImpressionsperSpend')\n",
    "inequality_matrix_construction(4, stargas_agg, 'ClicksperSpend')\n",
    "inequality_matrix_construction(4, stargas_agg, 'ConversionsperSpend')\n",
    "\n",
    "\n",
    "all_constraints = list(constraints['Quantity'])\n",
    "b_ub = np.array(all_constraints[:1] + all_constraints[5:])\n",
    "b_ub[1:] = -1* b_ub[1:]"
   ]
  },
  {
   "cell_type": "code",
   "execution_count": 151,
   "metadata": {},
   "outputs": [
    {
     "name": "stdout",
     "output_type": "stream",
     "text": [
      "Primal Feasibility  Dual Feasibility    Duality Gap         Step             Path Parameter      Objective          \n",
      "1.0                 1.0                 0.9649303694421     -                1.0                 -490.6295194145     \n",
      "5.116575112794e-05  5.116576390531e-05  3.534656615456e-05  0.9999488342489  5.116574897709e-05  -1109.506602649     \n",
      "9.658813360566e-07  9.658815772614e-07  6.672546847275e-07  0.9811312391947  9.65881295454e-07   -5952.981539254     \n",
      "4.813103875546e-07  4.8131050775e-07    3.32501104372e-07   0.5382575877893  4.813103673219e-07  -15631.74874062     \n",
      "1.385676867244e-09  1.385677213283e-09  9.572598408392e-10  0.9981599388312  1.385676808995e-09  -17708.2840551      \n",
      "6.974271318535e-14  6.974323151928e-14  4.818367926873e-14  0.9999500910239  6.974322070846e-14  -17823.69783617     \n",
      "3.525685613193e-18  3.487880667216e-18  0.0                 0.999949989848   3.487161176713e-18  -17823.7036278      \n",
      "Optimization terminated successfully.\n"
     ]
    }
   ],
   "source": [
    "res = linprog(c,A_ub=A_ub,b_ub=b_ub,bounds=(x1_bounds,x2_bounds,x3_bounds,x4_bounds),options={\"disp\": True},method='interior-point')"
   ]
  },
  {
   "cell_type": "code",
   "execution_count": 152,
   "metadata": {},
   "outputs": [
    {
     "data": {
      "text/plain": [
       "scipy.optimize.optimize.OptimizeResult"
      ]
     },
     "execution_count": 152,
     "metadata": {},
     "output_type": "execute_result"
    }
   ],
   "source": [
    "scipy.optimize.OptimizeResult"
   ]
  },
  {
   "cell_type": "code",
   "execution_count": 153,
   "metadata": {},
   "outputs": [
    {
     "name": "stdout",
     "output_type": "stream",
     "text": [
      "[919423.60586158  14893.88729571  52128.09249189  13554.4143441 ]\n"
     ]
    }
   ],
   "source": [
    "print(res.x)"
   ]
  },
  {
   "cell_type": "code",
   "execution_count": 156,
   "metadata": {},
   "outputs": [],
   "source": [
    "total = np.sum(-1*(res.x)*np.transpose(c))"
   ]
  },
  {
   "cell_type": "code",
   "execution_count": 154,
   "metadata": {},
   "outputs": [
    {
     "name": "stdout",
     "output_type": "stream",
     "text": [
      "     con: array([], dtype=float64)\n",
      "     fun: -17823.703627800158\n",
      " message: 'Optimization terminated successfully.'\n",
      "     nit: 6\n",
      "   slack: array([6.72170427e-06, 9.17328531e+06, 1.13520442e+05, 4.30188497e+06,\n",
      "       4.80680478e+05, 2.08448229e+05, 3.82055249e+03, 1.40780347e+03,\n",
      "       6.02709163e+03, 1.74237036e+04, 1.94515195e-08, 1.21552119e-08,\n",
      "       1.08681206e-08])\n",
      "  status: 0\n",
      " success: True\n",
      "       x: array([919423.60586158,  14893.88729571,  52128.09249189,  13554.4143441 ])\n"
     ]
    }
   ],
   "source": [
    "print(res)"
   ]
  },
  {
   "cell_type": "code",
   "execution_count": 157,
   "metadata": {},
   "outputs": [
    {
     "data": {
      "text/plain": [
       "17823.703627800158"
      ]
     },
     "execution_count": 157,
     "metadata": {},
     "output_type": "execute_result"
    }
   ],
   "source": [
    "total"
   ]
  }
 ],
 "metadata": {
  "kernelspec": {
   "display_name": "Python 3",
   "language": "python",
   "name": "python3"
  },
  "language_info": {
   "codemirror_mode": {
    "name": "ipython",
    "version": 3
   },
   "file_extension": ".py",
   "mimetype": "text/x-python",
   "name": "python",
   "nbconvert_exporter": "python",
   "pygments_lexer": "ipython3",
   "version": "3.6.5"
  }
 },
 "nbformat": 4,
 "nbformat_minor": 2
}
