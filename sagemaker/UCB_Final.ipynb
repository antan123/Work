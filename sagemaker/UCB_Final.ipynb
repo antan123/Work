{
 "cells": [
  {
   "cell_type": "code",
   "execution_count": 33,
   "metadata": {},
   "outputs": [],
   "source": [
    "import pandas as pd\n",
    "import numpy as np\n",
    "import matplotlib.pyplot as plt"
   ]
  },
  {
   "cell_type": "code",
   "execution_count": 34,
   "metadata": {},
   "outputs": [],
   "source": [
    "raw_data = pd.ExcelFile('rbull1.xlsx')"
   ]
  },
  {
   "cell_type": "code",
   "execution_count": 35,
   "metadata": {},
   "outputs": [
    {
     "data": {
      "text/plain": [
       "['rbull1.csv']"
      ]
     },
     "execution_count": 35,
     "metadata": {},
     "output_type": "execute_result"
    }
   ],
   "source": [
    "raw_data.sheet_names"
   ]
  },
  {
   "cell_type": "code",
   "execution_count": 36,
   "metadata": {},
   "outputs": [],
   "source": [
    "data = raw_data.parse('rbull1.csv')"
   ]
  },
  {
   "cell_type": "code",
   "execution_count": 37,
   "metadata": {},
   "outputs": [
    {
     "data": {
      "text/html": [
       "<div>\n",
       "<style scoped>\n",
       "    .dataframe tbody tr th:only-of-type {\n",
       "        vertical-align: middle;\n",
       "    }\n",
       "\n",
       "    .dataframe tbody tr th {\n",
       "        vertical-align: top;\n",
       "    }\n",
       "\n",
       "    .dataframe thead th {\n",
       "        text-align: right;\n",
       "    }\n",
       "</style>\n",
       "<table border=\"1\" class=\"dataframe\">\n",
       "  <thead>\n",
       "    <tr style=\"text-align: right;\">\n",
       "      <th></th>\n",
       "      <th>date</th>\n",
       "      <th>id</th>\n",
       "      <th>clicks</th>\n",
       "      <th>conversions</th>\n",
       "      <th>cost</th>\n",
       "      <th>impressions</th>\n",
       "    </tr>\n",
       "  </thead>\n",
       "  <tbody>\n",
       "    <tr>\n",
       "      <th>0</th>\n",
       "      <td>2018-05-01</td>\n",
       "      <td>23842875301030600</td>\n",
       "      <td>2</td>\n",
       "      <td>1</td>\n",
       "      <td>4.360000</td>\n",
       "      <td>227</td>\n",
       "    </tr>\n",
       "    <tr>\n",
       "      <th>1</th>\n",
       "      <td>2018-05-01</td>\n",
       "      <td>23842872626260600</td>\n",
       "      <td>1</td>\n",
       "      <td>0</td>\n",
       "      <td>5.520258</td>\n",
       "      <td>263</td>\n",
       "    </tr>\n",
       "    <tr>\n",
       "      <th>2</th>\n",
       "      <td>2018-05-01</td>\n",
       "      <td>23842875301030600</td>\n",
       "      <td>5</td>\n",
       "      <td>2</td>\n",
       "      <td>5.340000</td>\n",
       "      <td>278</td>\n",
       "    </tr>\n",
       "    <tr>\n",
       "      <th>3</th>\n",
       "      <td>2018-05-01</td>\n",
       "      <td>23842860746290600</td>\n",
       "      <td>0</td>\n",
       "      <td>0</td>\n",
       "      <td>0.070000</td>\n",
       "      <td>1</td>\n",
       "    </tr>\n",
       "    <tr>\n",
       "      <th>4</th>\n",
       "      <td>2018-05-01</td>\n",
       "      <td>23842872626260600</td>\n",
       "      <td>5</td>\n",
       "      <td>1</td>\n",
       "      <td>13.080612</td>\n",
       "      <td>702</td>\n",
       "    </tr>\n",
       "  </tbody>\n",
       "</table>\n",
       "</div>"
      ],
      "text/plain": [
       "        date                 id  clicks  conversions       cost  impressions\n",
       "0 2018-05-01  23842875301030600       2            1   4.360000          227\n",
       "1 2018-05-01  23842872626260600       1            0   5.520258          263\n",
       "2 2018-05-01  23842875301030600       5            2   5.340000          278\n",
       "3 2018-05-01  23842860746290600       0            0   0.070000            1\n",
       "4 2018-05-01  23842872626260600       5            1  13.080612          702"
      ]
     },
     "execution_count": 37,
     "metadata": {},
     "output_type": "execute_result"
    }
   ],
   "source": [
    "data.head()"
   ]
  },
  {
   "cell_type": "code",
   "execution_count": 38,
   "metadata": {},
   "outputs": [],
   "source": [
    "data['ConversionperCost'] = (data['conversions']/data['cost']).replace([np.inf, -np.inf], np.nan)"
   ]
  },
  {
   "cell_type": "code",
   "execution_count": 39,
   "metadata": {},
   "outputs": [
    {
     "data": {
      "text/html": [
       "<div>\n",
       "<style scoped>\n",
       "    .dataframe tbody tr th:only-of-type {\n",
       "        vertical-align: middle;\n",
       "    }\n",
       "\n",
       "    .dataframe tbody tr th {\n",
       "        vertical-align: top;\n",
       "    }\n",
       "\n",
       "    .dataframe thead th {\n",
       "        text-align: right;\n",
       "    }\n",
       "</style>\n",
       "<table border=\"1\" class=\"dataframe\">\n",
       "  <thead>\n",
       "    <tr style=\"text-align: right;\">\n",
       "      <th></th>\n",
       "      <th>date</th>\n",
       "      <th>id</th>\n",
       "      <th>clicks</th>\n",
       "      <th>conversions</th>\n",
       "      <th>cost</th>\n",
       "      <th>impressions</th>\n",
       "      <th>ConversionperCost</th>\n",
       "    </tr>\n",
       "  </thead>\n",
       "  <tbody>\n",
       "    <tr>\n",
       "      <th>0</th>\n",
       "      <td>2018-05-01</td>\n",
       "      <td>23842875301030600</td>\n",
       "      <td>2</td>\n",
       "      <td>1</td>\n",
       "      <td>4.360000</td>\n",
       "      <td>227</td>\n",
       "      <td>0.229358</td>\n",
       "    </tr>\n",
       "    <tr>\n",
       "      <th>1</th>\n",
       "      <td>2018-05-01</td>\n",
       "      <td>23842872626260600</td>\n",
       "      <td>1</td>\n",
       "      <td>0</td>\n",
       "      <td>5.520258</td>\n",
       "      <td>263</td>\n",
       "      <td>0.000000</td>\n",
       "    </tr>\n",
       "    <tr>\n",
       "      <th>2</th>\n",
       "      <td>2018-05-01</td>\n",
       "      <td>23842875301030600</td>\n",
       "      <td>5</td>\n",
       "      <td>2</td>\n",
       "      <td>5.340000</td>\n",
       "      <td>278</td>\n",
       "      <td>0.374532</td>\n",
       "    </tr>\n",
       "    <tr>\n",
       "      <th>3</th>\n",
       "      <td>2018-05-01</td>\n",
       "      <td>23842860746290600</td>\n",
       "      <td>0</td>\n",
       "      <td>0</td>\n",
       "      <td>0.070000</td>\n",
       "      <td>1</td>\n",
       "      <td>0.000000</td>\n",
       "    </tr>\n",
       "    <tr>\n",
       "      <th>4</th>\n",
       "      <td>2018-05-01</td>\n",
       "      <td>23842872626260600</td>\n",
       "      <td>5</td>\n",
       "      <td>1</td>\n",
       "      <td>13.080612</td>\n",
       "      <td>702</td>\n",
       "      <td>0.076449</td>\n",
       "    </tr>\n",
       "  </tbody>\n",
       "</table>\n",
       "</div>"
      ],
      "text/plain": [
       "        date                 id  clicks  conversions       cost  impressions  \\\n",
       "0 2018-05-01  23842875301030600       2            1   4.360000          227   \n",
       "1 2018-05-01  23842872626260600       1            0   5.520258          263   \n",
       "2 2018-05-01  23842875301030600       5            2   5.340000          278   \n",
       "3 2018-05-01  23842860746290600       0            0   0.070000            1   \n",
       "4 2018-05-01  23842872626260600       5            1  13.080612          702   \n",
       "\n",
       "   ConversionperCost  \n",
       "0           0.229358  \n",
       "1           0.000000  \n",
       "2           0.374532  \n",
       "3           0.000000  \n",
       "4           0.076449  "
      ]
     },
     "execution_count": 39,
     "metadata": {},
     "output_type": "execute_result"
    }
   ],
   "source": [
    "data.head()"
   ]
  },
  {
   "cell_type": "code",
   "execution_count": 40,
   "metadata": {},
   "outputs": [],
   "source": [
    "opt_data = (data[['date','id','ConversionperCost']].copy(deep = True))"
   ]
  },
  {
   "cell_type": "code",
   "execution_count": 41,
   "metadata": {},
   "outputs": [],
   "source": [
    "data_final = pd.pivot_table(data=opt_data, values= 'ConversionperCost', columns='id',fill_value= 0,index='date',aggfunc='sum').reset_index()\n",
    "data_final.drop('date',inplace= True, axis=1)"
   ]
  },
  {
   "cell_type": "code",
   "execution_count": 42,
   "metadata": {},
   "outputs": [
    {
     "data": {
      "text/plain": [
       "231568"
      ]
     },
     "execution_count": 42,
     "metadata": {},
     "output_type": "execute_result"
    }
   ],
   "source": [
    "import gc\n",
    "del opt_data\n",
    "del raw_data\n",
    "del data\n",
    "gc.collect()"
   ]
  },
  {
   "cell_type": "code",
   "execution_count": 43,
   "metadata": {},
   "outputs": [
    {
     "name": "stdout",
     "output_type": "stream",
     "text": [
      "Experiment nnumber 0\n",
      "Experiment nnumber 1\n",
      "Experiment nnumber 2\n",
      "Experiment nnumber 3\n",
      "Experiment nnumber 4\n",
      "Experiment nnumber 5\n",
      "Experiment nnumber 6\n",
      "Experiment nnumber 7\n",
      "Experiment nnumber 8\n",
      "Experiment nnumber 9\n",
      "Experiment nnumber 10\n",
      "Experiment nnumber 11\n",
      "Experiment nnumber 12\n",
      "Experiment nnumber 13\n",
      "Experiment nnumber 14\n",
      "Experiment nnumber 15\n",
      "Experiment nnumber 16\n",
      "Experiment nnumber 17\n",
      "Experiment nnumber 18\n",
      "Experiment nnumber 19\n",
      "Experiment nnumber 20\n",
      "Experiment nnumber 21\n",
      "Experiment nnumber 22\n",
      "Experiment nnumber 23\n",
      "Experiment nnumber 24\n",
      "Experiment nnumber 25\n",
      "Experiment nnumber 26\n",
      "Experiment nnumber 27\n",
      "Experiment nnumber 28\n",
      "Experiment nnumber 29\n",
      "Experiment nnumber 30\n",
      "Experiment nnumber 31\n",
      "Experiment nnumber 32\n",
      "Experiment nnumber 33\n",
      "Experiment nnumber 34\n",
      "Experiment nnumber 35\n",
      "Experiment nnumber 36\n",
      "Experiment nnumber 37\n",
      "Experiment nnumber 38\n",
      "Experiment nnumber 39\n",
      "Experiment nnumber 40\n",
      "Experiment nnumber 41\n",
      "Experiment nnumber 42\n",
      "Experiment nnumber 43\n",
      "Experiment nnumber 44\n",
      "Experiment nnumber 45\n",
      "Experiment nnumber 46\n",
      "Experiment nnumber 47\n",
      "Experiment nnumber 48\n",
      "Experiment nnumber 49\n",
      "Experiment nnumber 50\n",
      "Experiment nnumber 51\n",
      "Experiment nnumber 52\n",
      "Experiment nnumber 53\n",
      "Experiment nnumber 54\n",
      "Experiment nnumber 55\n",
      "Experiment nnumber 56\n",
      "Experiment nnumber 57\n",
      "Experiment nnumber 58\n",
      "Experiment nnumber 59\n",
      "Experiment nnumber 60\n",
      "Experiment nnumber 61\n",
      "Experiment nnumber 62\n",
      "Experiment nnumber 63\n",
      "Experiment nnumber 64\n"
     ]
    },
    {
     "data": {
      "image/png": "[encoded data removed]",
      "text/plain": [
       "<Figure size 432x288 with 1 Axes>"
      ]
     },
     "metadata": {},
     "output_type": "display_data"
    }
   ],
   "source": [
    "import math\n",
    "N = data_final.shape[0]\n",
    "d = data_final.shape[1]\n",
    "ads_selected = []\n",
    "numbers_of_selections = [0] * d\n",
    "sums_of_rewards = [0] * d\n",
    "total_reward = 0\n",
    "for n in range(0, N):\n",
    "    print(\"Experiment nnumber {}\".format(n))\n",
    "    ad = 0\n",
    "    max_upper_bound = 0\n",
    "    for i in range(0, d):\n",
    "        if (numbers_of_selections[i] > 0):\n",
    "            average_reward = sums_of_rewards[i] / numbers_of_selections[i]\n",
    "            delta_i = math.sqrt(3/2 * math.log(n + 1) / numbers_of_selections[i])\n",
    "            upper_bound = average_reward + delta_i\n",
    "        else:\n",
    "            upper_bound = 1e400\n",
    "        if upper_bound > max_upper_bound:\n",
    "            max_upper_bound = upper_bound\n",
    "            ad = i\n",
    "    ads_selected.append(ad)\n",
    "    numbers_of_selections[ad] = numbers_of_selections[ad] + 1\n",
    "    reward = data_final.values[n, ad]\n",
    "    sums_of_rewards[ad] = sums_of_rewards[ad] + reward\n",
    "    total_reward = total_reward + reward\n",
    "\n",
    "# Visualising the results\n",
    "plt.hist(ads_selected)\n",
    "plt.title('Histogram of ads selections')\n",
    "plt.xlabel('Ads')\n",
    "plt.ylabel('Number of times each ad was selected')\n",
    "plt.show()"
   ]
  },
  {
   "cell_type": "code",
   "execution_count": 45,
   "metadata": {},
   "outputs": [
    {
     "data": {
      "text/plain": [
       "[0,\n",
       " 1,\n",
       " 2,\n",
       " 3,\n",
       " 4,\n",
       " 5,\n",
       " 6,\n",
       " 7,\n",
       " 8,\n",
       " 9,\n",
       " 10,\n",
       " 11,\n",
       " 12,\n",
       " 13,\n",
       " 14,\n",
       " 15,\n",
       " 16,\n",
       " 17,\n",
       " 18,\n",
       " 19,\n",
       " 20,\n",
       " 21,\n",
       " 22,\n",
       " 23,\n",
       " 24,\n",
       " 25,\n",
       " 26,\n",
       " 27,\n",
       " 28,\n",
       " 29,\n",
       " 30,\n",
       " 31,\n",
       " 32,\n",
       " 33,\n",
       " 34,\n",
       " 35,\n",
       " 36,\n",
       " 37,\n",
       " 38,\n",
       " 39,\n",
       " 40,\n",
       " 41,\n",
       " 42,\n",
       " 43,\n",
       " 44,\n",
       " 45,\n",
       " 46,\n",
       " 47,\n",
       " 48,\n",
       " 49,\n",
       " 50,\n",
       " 51,\n",
       " 52,\n",
       " 53,\n",
       " 54,\n",
       " 55,\n",
       " 56,\n",
       " 57,\n",
       " 58,\n",
       " 59,\n",
       " 60,\n",
       " 61,\n",
       " 62,\n",
       " 63,\n",
       " 64]"
      ]
     },
     "execution_count": 45,
     "metadata": {},
     "output_type": "execute_result"
    }
   ],
   "source": []
  },
  {
   "cell_type": "code",
   "execution_count": null,
   "metadata": {},
   "outputs": [],
   "source": []
  }
 ],
 "metadata": {
  "kernelspec": {
   "display_name": "Python 3",
   "language": "python",
   "name": "python3"
  },
  "language_info": {
   "codemirror_mode": {
    "name": "ipython",
    "version": 3
   },
   "file_extension": ".py",
   "mimetype": "text/x-python",
   "name": "python",
   "nbconvert_exporter": "python",
   "pygments_lexer": "ipython3",
   "version": "3.6.5"
  }
 },
 "nbformat": 4,
 "nbformat_minor": 2
}
