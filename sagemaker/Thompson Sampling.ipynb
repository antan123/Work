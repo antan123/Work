{
 "cells": [
  {
   "cell_type": "code",
   "execution_count": 49,
   "metadata": {},
   "outputs": [],
   "source": [
    "import pandas as pd\n",
    "import numpy as np\n",
    "import matplotlib.pyplot as plt"
   ]
  },
  {
   "cell_type": "code",
   "execution_count": 145,
   "metadata": {},
   "outputs": [],
   "source": [
    "cols =['DateStart','AdsetId','LinkClick','Conversions','Impressions','Spend']\n",
    "data = pd.read_csv('RagingBull_FB_Hourly.csv', usecols=cols)\n",
    "data.to_csv('Final_Set')\n",
    "data.fillna(0,inplace=True)"
   ]
  },
  {
   "cell_type": "code",
   "execution_count": 146,
   "metadata": {},
   "outputs": [],
   "source": [
    "data = pd.read_csv('Final_Set')\n",
    "data.fillna(0, inplace= True)"
   ]
  },
  {
   "cell_type": "code",
   "execution_count": 147,
   "metadata": {},
   "outputs": [],
   "source": [
    "data['CTR'] = (data['LinkClick']/data['Impressions']).replace([np.inf, -np.inf], 0)"
   ]
  },
  {
   "cell_type": "code",
   "execution_count": 148,
   "metadata": {
    "scrolled": true
   },
   "outputs": [
    {
     "data": {
      "text/html": [
       "<div>\n",
       "<style scoped>\n",
       "    .dataframe tbody tr th:only-of-type {\n",
       "        vertical-align: middle;\n",
       "    }\n",
       "\n",
       "    .dataframe tbody tr th {\n",
       "        vertical-align: top;\n",
       "    }\n",
       "\n",
       "    .dataframe thead th {\n",
       "        text-align: right;\n",
       "    }\n",
       "</style>\n",
       "<table border=\"1\" class=\"dataframe\">\n",
       "  <thead>\n",
       "    <tr style=\"text-align: right;\">\n",
       "      <th></th>\n",
       "      <th>Unnamed: 0</th>\n",
       "      <th>Spend</th>\n",
       "      <th>DateStart</th>\n",
       "      <th>LinkClick</th>\n",
       "      <th>Impressions</th>\n",
       "      <th>AdsetId</th>\n",
       "      <th>Conversions</th>\n",
       "      <th>CTR</th>\n",
       "    </tr>\n",
       "  </thead>\n",
       "  <tbody>\n",
       "    <tr>\n",
       "      <th>0</th>\n",
       "      <td>0</td>\n",
       "      <td>1.58</td>\n",
       "      <td>2018-07-12</td>\n",
       "      <td>0.0</td>\n",
       "      <td>27.0</td>\n",
       "      <td>6094650899637</td>\n",
       "      <td>0.0</td>\n",
       "      <td>0.0</td>\n",
       "    </tr>\n",
       "    <tr>\n",
       "      <th>1</th>\n",
       "      <td>1</td>\n",
       "      <td>0.02</td>\n",
       "      <td>2018-05-18</td>\n",
       "      <td>0.0</td>\n",
       "      <td>3.0</td>\n",
       "      <td>6093425908037</td>\n",
       "      <td>0.0</td>\n",
       "      <td>0.0</td>\n",
       "    </tr>\n",
       "    <tr>\n",
       "      <th>2</th>\n",
       "      <td>2</td>\n",
       "      <td>0.02</td>\n",
       "      <td>2018-05-26</td>\n",
       "      <td>0.0</td>\n",
       "      <td>2.0</td>\n",
       "      <td>6093224252437</td>\n",
       "      <td>0.0</td>\n",
       "      <td>0.0</td>\n",
       "    </tr>\n",
       "    <tr>\n",
       "      <th>3</th>\n",
       "      <td>3</td>\n",
       "      <td>0.04</td>\n",
       "      <td>2018-06-07</td>\n",
       "      <td>0.0</td>\n",
       "      <td>7.0</td>\n",
       "      <td>6094650898437</td>\n",
       "      <td>0.0</td>\n",
       "      <td>0.0</td>\n",
       "    </tr>\n",
       "    <tr>\n",
       "      <th>4</th>\n",
       "      <td>4</td>\n",
       "      <td>0.04</td>\n",
       "      <td>2018-06-04</td>\n",
       "      <td>0.0</td>\n",
       "      <td>2.0</td>\n",
       "      <td>6095173565837</td>\n",
       "      <td>0.0</td>\n",
       "      <td>0.0</td>\n",
       "    </tr>\n",
       "  </tbody>\n",
       "</table>\n",
       "</div>"
      ],
      "text/plain": [
       "   Unnamed: 0  Spend   DateStart  LinkClick  Impressions        AdsetId  \\\n",
       "0           0   1.58  2018-07-12        0.0         27.0  6094650899637   \n",
       "1           1   0.02  2018-05-18        0.0          3.0  6093425908037   \n",
       "2           2   0.02  2018-05-26        0.0          2.0  6093224252437   \n",
       "3           3   0.04  2018-06-07        0.0          7.0  6094650898437   \n",
       "4           4   0.04  2018-06-04        0.0          2.0  6095173565837   \n",
       "\n",
       "   Conversions  CTR  \n",
       "0          0.0  0.0  \n",
       "1          0.0  0.0  \n",
       "2          0.0  0.0  \n",
       "3          0.0  0.0  \n",
       "4          0.0  0.0  "
      ]
     },
     "execution_count": 148,
     "metadata": {},
     "output_type": "execute_result"
    }
   ],
   "source": [
    "data.head()"
   ]
  },
  {
   "cell_type": "code",
   "execution_count": 149,
   "metadata": {},
   "outputs": [],
   "source": [
    "data_total_IPS = pd.pivot_table(data = data, values= ['Spend','Impressions'], fill_value= 0, index='AdsetId',aggfunc='sum')"
   ]
  },
  {
   "cell_type": "code",
   "execution_count": 151,
   "metadata": {},
   "outputs": [],
   "source": [
    "data_total_IPS['IPS'] = (data_total_IPS['Impressions']/ data_total_IPS['Spend']).replace([np.inf, -np.inf], 0)"
   ]
  },
  {
   "cell_type": "code",
   "execution_count": 154,
   "metadata": {},
   "outputs": [],
   "source": [
    "data_total_IPS.drop(['Impressions','Spend'], axis=1, inplace=True)"
   ]
  },
  {
   "cell_type": "code",
   "execution_count": 158,
   "metadata": {},
   "outputs": [],
   "source": [
    "ads_IPS = data_total_IPS.values"
   ]
  },
  {
   "cell_type": "code",
   "execution_count": 57,
   "metadata": {},
   "outputs": [],
   "source": [
    "data_total_CTR = pd.pivot_table(data = data, values= ['LinkClick','Impressions'], fill_value= 0, index='AdsetId',aggfunc='sum')"
   ]
  },
  {
   "cell_type": "code",
   "execution_count": 58,
   "metadata": {},
   "outputs": [],
   "source": [
    "data_total_CTR['CTR_agg'] = (data_total_CTR['LinkClick']/data_total_CTR['Impressions']).replace([np.inf, -np.inf], 0)\n",
    "data_total_CTR.drop(['LinkClick','Impressions'],inplace = True, axis = 1)\n",
    "data_first_row = pd.pivot_table(data = data_total_CTR, values= ['CTR_agg'],columns='AdsetId').replace([np.inf, -np.inf], 0)"
   ]
  },
  {
   "cell_type": "code",
   "execution_count": 59,
   "metadata": {},
   "outputs": [
    {
     "data": {
      "text/html": [
       "<div>\n",
       "<style scoped>\n",
       "    .dataframe tbody tr th:only-of-type {\n",
       "        vertical-align: middle;\n",
       "    }\n",
       "\n",
       "    .dataframe tbody tr th {\n",
       "        vertical-align: top;\n",
       "    }\n",
       "\n",
       "    .dataframe thead th {\n",
       "        text-align: right;\n",
       "    }\n",
       "</style>\n",
       "<table border=\"1\" class=\"dataframe\">\n",
       "  <thead>\n",
       "    <tr style=\"text-align: right;\">\n",
       "      <th>AdsetId</th>\n",
       "      <th>6082903610237</th>\n",
       "      <th>6082903612037</th>\n",
       "      <th>6082903614437</th>\n",
       "      <th>6082903615637</th>\n",
       "      <th>6082903618837</th>\n",
       "      <th>6082903621237</th>\n",
       "      <th>6088935250037</th>\n",
       "      <th>6088935251437</th>\n",
       "      <th>6088935252837</th>\n",
       "      <th>6089948390437</th>\n",
       "      <th>...</th>\n",
       "      <th>23842904874210027</th>\n",
       "      <th>23842974432060616</th>\n",
       "      <th>23842974432080616</th>\n",
       "      <th>23842974432090616</th>\n",
       "      <th>23842974432100616</th>\n",
       "      <th>23842974432160616</th>\n",
       "      <th>23842974432170616</th>\n",
       "      <th>23843001848720616</th>\n",
       "      <th>23843001951860616</th>\n",
       "      <th>23843001969560616</th>\n",
       "    </tr>\n",
       "  </thead>\n",
       "  <tbody>\n",
       "    <tr>\n",
       "      <th>CTR_agg</th>\n",
       "      <td>0.013802</td>\n",
       "      <td>0.01367</td>\n",
       "      <td>0.010551</td>\n",
       "      <td>0.009154</td>\n",
       "      <td>0.012005</td>\n",
       "      <td>0.013056</td>\n",
       "      <td>0.009543</td>\n",
       "      <td>0.011484</td>\n",
       "      <td>0.010145</td>\n",
       "      <td>0.01272</td>\n",
       "      <td>...</td>\n",
       "      <td>0.013622</td>\n",
       "      <td>0.008832</td>\n",
       "      <td>0.012568</td>\n",
       "      <td>0.014083</td>\n",
       "      <td>0.0051</td>\n",
       "      <td>0.009281</td>\n",
       "      <td>0.009237</td>\n",
       "      <td>0.005055</td>\n",
       "      <td>0.004031</td>\n",
       "      <td>0.005489</td>\n",
       "    </tr>\n",
       "  </tbody>\n",
       "</table>\n",
       "<p>1 rows × 242 columns</p>\n",
       "</div>"
      ],
      "text/plain": [
       "AdsetId  6082903610237      6082903612037      6082903614437      \\\n",
       "CTR_agg           0.013802            0.01367           0.010551   \n",
       "\n",
       "AdsetId  6082903615637      6082903618837      6082903621237      \\\n",
       "CTR_agg           0.009154           0.012005           0.013056   \n",
       "\n",
       "AdsetId  6088935250037      6088935251437      6088935252837      \\\n",
       "CTR_agg           0.009543           0.011484           0.010145   \n",
       "\n",
       "AdsetId  6089948390437            ...          23842904874210027  \\\n",
       "CTR_agg            0.01272        ...                   0.013622   \n",
       "\n",
       "AdsetId  23842974432060616  23842974432080616  23842974432090616  \\\n",
       "CTR_agg           0.008832           0.012568           0.014083   \n",
       "\n",
       "AdsetId  23842974432100616  23842974432160616  23842974432170616  \\\n",
       "CTR_agg             0.0051           0.009281           0.009237   \n",
       "\n",
       "AdsetId  23843001848720616  23843001951860616  23843001969560616  \n",
       "CTR_agg           0.005055           0.004031           0.005489  \n",
       "\n",
       "[1 rows x 242 columns]"
      ]
     },
     "execution_count": 59,
     "metadata": {},
     "output_type": "execute_result"
    }
   ],
   "source": [
    "data_first_row.head()"
   ]
  },
  {
   "cell_type": "code",
   "execution_count": 60,
   "metadata": {},
   "outputs": [
    {
     "data": {
      "text/html": [
       "<div>\n",
       "<style scoped>\n",
       "    .dataframe tbody tr th:only-of-type {\n",
       "        vertical-align: middle;\n",
       "    }\n",
       "\n",
       "    .dataframe tbody tr th {\n",
       "        vertical-align: top;\n",
       "    }\n",
       "\n",
       "    .dataframe thead th {\n",
       "        text-align: right;\n",
       "    }\n",
       "</style>\n",
       "<table border=\"1\" class=\"dataframe\">\n",
       "  <thead>\n",
       "    <tr style=\"text-align: right;\">\n",
       "      <th></th>\n",
       "      <th>CTR_agg</th>\n",
       "    </tr>\n",
       "    <tr>\n",
       "      <th>AdsetId</th>\n",
       "      <th></th>\n",
       "    </tr>\n",
       "  </thead>\n",
       "  <tbody>\n",
       "    <tr>\n",
       "      <th>6082903610237</th>\n",
       "      <td>0.013802</td>\n",
       "    </tr>\n",
       "    <tr>\n",
       "      <th>6082903612037</th>\n",
       "      <td>0.013670</td>\n",
       "    </tr>\n",
       "    <tr>\n",
       "      <th>6082903614437</th>\n",
       "      <td>0.010551</td>\n",
       "    </tr>\n",
       "    <tr>\n",
       "      <th>6082903615637</th>\n",
       "      <td>0.009154</td>\n",
       "    </tr>\n",
       "    <tr>\n",
       "      <th>6082903618837</th>\n",
       "      <td>0.012005</td>\n",
       "    </tr>\n",
       "  </tbody>\n",
       "</table>\n",
       "</div>"
      ],
      "text/plain": [
       "                CTR_agg\n",
       "AdsetId                \n",
       "6082903610237  0.013802\n",
       "6082903612037  0.013670\n",
       "6082903614437  0.010551\n",
       "6082903615637  0.009154\n",
       "6082903618837  0.012005"
      ]
     },
     "execution_count": 60,
     "metadata": {},
     "output_type": "execute_result"
    }
   ],
   "source": [
    "data_total_CTR.head()"
   ]
  },
  {
   "cell_type": "code",
   "execution_count": 61,
   "metadata": {},
   "outputs": [],
   "source": [
    "data = data.join(data_total_CTR, on = ['AdsetId'])"
   ]
  },
  {
   "cell_type": "code",
   "execution_count": 62,
   "metadata": {},
   "outputs": [],
   "source": [
    "data = data[data['CTR_agg'] > 0]"
   ]
  },
  {
   "cell_type": "code",
   "execution_count": 63,
   "metadata": {},
   "outputs": [],
   "source": [
    "data.drop(['CTR_agg'], inplace= True, axis = 1)"
   ]
  },
  {
   "cell_type": "code",
   "execution_count": 64,
   "metadata": {},
   "outputs": [
    {
     "data": {
      "text/html": [
       "<div>\n",
       "<style scoped>\n",
       "    .dataframe tbody tr th:only-of-type {\n",
       "        vertical-align: middle;\n",
       "    }\n",
       "\n",
       "    .dataframe tbody tr th {\n",
       "        vertical-align: top;\n",
       "    }\n",
       "\n",
       "    .dataframe thead th {\n",
       "        text-align: right;\n",
       "    }\n",
       "</style>\n",
       "<table border=\"1\" class=\"dataframe\">\n",
       "  <thead>\n",
       "    <tr style=\"text-align: right;\">\n",
       "      <th></th>\n",
       "      <th>Unnamed: 0</th>\n",
       "      <th>DateStart</th>\n",
       "      <th>LinkClick</th>\n",
       "      <th>Impressions</th>\n",
       "      <th>AdsetId</th>\n",
       "      <th>Conversions</th>\n",
       "      <th>CTR</th>\n",
       "    </tr>\n",
       "  </thead>\n",
       "  <tbody>\n",
       "    <tr>\n",
       "      <th>0</th>\n",
       "      <td>0</td>\n",
       "      <td>2018-07-12</td>\n",
       "      <td>0.0</td>\n",
       "      <td>27.0</td>\n",
       "      <td>6094650899637</td>\n",
       "      <td>0.0</td>\n",
       "      <td>0.0</td>\n",
       "    </tr>\n",
       "    <tr>\n",
       "      <th>1</th>\n",
       "      <td>1</td>\n",
       "      <td>2018-05-18</td>\n",
       "      <td>0.0</td>\n",
       "      <td>3.0</td>\n",
       "      <td>6093425908037</td>\n",
       "      <td>0.0</td>\n",
       "      <td>0.0</td>\n",
       "    </tr>\n",
       "    <tr>\n",
       "      <th>2</th>\n",
       "      <td>2</td>\n",
       "      <td>2018-05-26</td>\n",
       "      <td>0.0</td>\n",
       "      <td>2.0</td>\n",
       "      <td>6093224252437</td>\n",
       "      <td>0.0</td>\n",
       "      <td>0.0</td>\n",
       "    </tr>\n",
       "    <tr>\n",
       "      <th>3</th>\n",
       "      <td>3</td>\n",
       "      <td>2018-06-07</td>\n",
       "      <td>0.0</td>\n",
       "      <td>7.0</td>\n",
       "      <td>6094650898437</td>\n",
       "      <td>0.0</td>\n",
       "      <td>0.0</td>\n",
       "    </tr>\n",
       "    <tr>\n",
       "      <th>4</th>\n",
       "      <td>4</td>\n",
       "      <td>2018-06-04</td>\n",
       "      <td>0.0</td>\n",
       "      <td>2.0</td>\n",
       "      <td>6095173565837</td>\n",
       "      <td>0.0</td>\n",
       "      <td>0.0</td>\n",
       "    </tr>\n",
       "  </tbody>\n",
       "</table>\n",
       "</div>"
      ],
      "text/plain": [
       "   Unnamed: 0   DateStart  LinkClick  Impressions        AdsetId  Conversions  \\\n",
       "0           0  2018-07-12        0.0         27.0  6094650899637          0.0   \n",
       "1           1  2018-05-18        0.0          3.0  6093425908037          0.0   \n",
       "2           2  2018-05-26        0.0          2.0  6093224252437          0.0   \n",
       "3           3  2018-06-07        0.0          7.0  6094650898437          0.0   \n",
       "4           4  2018-06-04        0.0          2.0  6095173565837          0.0   \n",
       "\n",
       "   CTR  \n",
       "0  0.0  \n",
       "1  0.0  \n",
       "2  0.0  \n",
       "3  0.0  \n",
       "4  0.0  "
      ]
     },
     "execution_count": 64,
     "metadata": {},
     "output_type": "execute_result"
    }
   ],
   "source": [
    "data.head()"
   ]
  },
  {
   "cell_type": "code",
   "execution_count": 65,
   "metadata": {},
   "outputs": [
    {
     "data": {
      "text/plain": [
       "(438872, 7)"
      ]
     },
     "execution_count": 65,
     "metadata": {},
     "output_type": "execute_result"
    }
   ],
   "source": [
    "data.shape"
   ]
  },
  {
   "cell_type": "code",
   "execution_count": 66,
   "metadata": {},
   "outputs": [
    {
     "data": {
      "text/plain": [
       "242"
      ]
     },
     "execution_count": 66,
     "metadata": {},
     "output_type": "execute_result"
    }
   ],
   "source": [
    "len(set(data['AdsetId']))"
   ]
  },
  {
   "cell_type": "code",
   "execution_count": 67,
   "metadata": {},
   "outputs": [],
   "source": [
    "opt_data = (data[['DateStart','AdsetId','CTR']].copy(deep = True))"
   ]
  },
  {
   "cell_type": "code",
   "execution_count": 68,
   "metadata": {},
   "outputs": [
    {
     "data": {
      "text/plain": [
       "(130, 242)"
      ]
     },
     "execution_count": 68,
     "metadata": {},
     "output_type": "execute_result"
    }
   ],
   "source": [
    "data_final = pd.pivot_table(data=opt_data, values= 'CTR', columns='AdsetId',fill_value= 0,index='DateStart',aggfunc='sum').reset_index()\n",
    "data_final.drop('DateStart',inplace= True, axis=1)\n",
    "data_final.shape"
   ]
  },
  {
   "cell_type": "code",
   "execution_count": 69,
   "metadata": {},
   "outputs": [],
   "source": [
    "# data_initial_set = pd.pivot_table(data = data, values= ['LinkClick','conversions'], fill_value= 0, index='id',aggfunc='sum')"
   ]
  },
  {
   "cell_type": "code",
   "execution_count": 70,
   "metadata": {},
   "outputs": [],
   "source": [
    "# data_initial_set['TotalClicksperConversion'] = (data_initial_set['LinkClick']/data_initial_set['Conversions']).replace([np.inf, -np.inf,np.NAN], 0)"
   ]
  },
  {
   "cell_type": "code",
   "execution_count": 71,
   "metadata": {},
   "outputs": [],
   "source": [
    "# data_initial_set = pd.pivot_table(data = data_initial_set, columns= 'id', values= 'TotalClicksperConversion', fill_value= 0).reset_index()"
   ]
  },
  {
   "cell_type": "code",
   "execution_count": 72,
   "metadata": {},
   "outputs": [],
   "source": [
    "# data_initial_set.drop('index',inplace= True,axis =1)"
   ]
  },
  {
   "cell_type": "code",
   "execution_count": 73,
   "metadata": {},
   "outputs": [],
   "source": [
    "# data_initial_set"
   ]
  },
  {
   "cell_type": "code",
   "execution_count": 74,
   "metadata": {},
   "outputs": [],
   "source": [
    "# import gc\n",
    "# del opt_data\n",
    "# # del raw_data\n",
    "# gc.collect()"
   ]
  },
  {
   "cell_type": "code",
   "execution_count": 75,
   "metadata": {
    "scrolled": true
   },
   "outputs": [
    {
     "data": {
      "text/plain": [
       "(243, 242)"
      ]
     },
     "execution_count": 75,
     "metadata": {},
     "output_type": "execute_result"
    }
   ],
   "source": [
    "len_data_final = data_final.shape[1]\n",
    "df = pd.DataFrame()\n",
    "appender = data_first_row.iloc[[0]]\n",
    "while len_data_final >= 0:\n",
    "    df = df.append(appender,ignore_index= True)\n",
    "    len_data_final -= 1\n",
    "df.shape "
   ]
  },
  {
   "cell_type": "code",
   "execution_count": 76,
   "metadata": {},
   "outputs": [
    {
     "data": {
      "text/plain": [
       "(373, 242)"
      ]
     },
     "execution_count": 76,
     "metadata": {},
     "output_type": "execute_result"
    }
   ],
   "source": [
    "data_final = df.append(data_final)\n",
    "data_final.shape"
   ]
  },
  {
   "cell_type": "code",
   "execution_count": 77,
   "metadata": {
    "scrolled": true
   },
   "outputs": [],
   "source": [
    "import random\n",
    "import math\n",
    "from collections import defaultdict\n",
    "N = data_final.shape[0]\n",
    "d = data_final.shape[1]\n",
    "Exp = 1000 ###Number of experiments\n",
    "experiment_data = defaultdict()\n",
    "for exp in range(Exp):\n",
    "    id_reward_map = defaultdict()\n",
    "    id_reward_map = {}\n",
    "    numbers_of_rewards_1 = [0] * d\n",
    "    numbers_of_rewards_0 = [0] * d\n",
    "    sums_of_rewards = [0] * d\n",
    "    total_reward = 0\n",
    "    reward = 0\n",
    "    for key, value in enumerate(data_final.columns):\n",
    "        id_reward_map[key] = [0, value, 0]\n",
    "\n",
    "    for n in range(0, N):\n",
    "        ad = 0\n",
    "        max_random = 0\n",
    "        for i in range(0, d):\n",
    "            random_beta = random.betavariate(numbers_of_rewards_1[i] + 1, numbers_of_rewards_0[i] + 1)\n",
    "    #         print(\"Ad id {}  Max random .{}  Random beta .{}\".format(i, max_random, random_beta))\n",
    "    #         print(\"\".format())\n",
    "            if random_beta > max_random:\n",
    "                max_random = random_beta\n",
    "                ad = i\n",
    "    #             print(ad)\n",
    "                id_reward_map[ad][0] += 1\n",
    "        #     print(ads_selected)\n",
    "                reward = data_final.values[n, ad]\n",
    "                if reward > 0:\n",
    "                    numbers_of_rewards_1[ad]+= 1\n",
    "                    id_reward_map[ad][2]+=reward\n",
    "                    sums_of_rewards[ad] = sums_of_rewards[ad] + reward\n",
    "                    total_reward += reward\n",
    "                else:\n",
    "                    numbers_of_rewards_0[ad]+= 1\n",
    "#             print(\"Reward {}\".format(reward))\n",
    "#             print(\"Total re\")\n",
    "                \n",
    "    experiment_data[exp] = {'id_reward_map': id_reward_map, 'total_reward': total_reward}\n",
    "\n",
    "    #Visualising the results\n",
    "    # plt.hist(id_reward_map[1])\n",
    "    # plt.title('Histogram of ads selections')\n",
    "    # plt.xlabel('Ads')\n",
    "    # plt.ylabel('Number of times each ad was selected')\n",
    "    # plt.show()"
   ]
  },
  {
   "cell_type": "code",
   "execution_count": 85,
   "metadata": {},
   "outputs": [],
   "source": [
    "val = sorted([(value['total_reward'],key) for (key,value) in experiment_data.items()], reverse=True)[:1]\n",
    "val\n",
    "total_weights = val[0][0]\n",
    "experiment_selected = val[0][1]"
   ]
  },
  {
   "cell_type": "code",
   "execution_count": 114,
   "metadata": {},
   "outputs": [],
   "source": [
    "# Weights_selected = \n",
    "ad_weights = defaultdict()\n",
    "for key, value in experiment_data.items():\n",
    "    for k,val in value['id_reward_map'].items():\n",
    "        ad_weights[val[1]] = (val[2], val[2]/total_reward)\n",
    "        "
   ]
  },
  {
   "cell_type": "code",
   "execution_count": 108,
   "metadata": {},
   "outputs": [],
   "source": [
    "# sum(ad_weights.values())"
   ]
  },
  {
   "cell_type": "code",
   "execution_count": 109,
   "metadata": {},
   "outputs": [
    {
     "name": "stdout",
     "output_type": "stream",
     "text": [
      "1.0000000000000002\n"
     ]
    }
   ],
   "source": [
    "print(sum(x[1] for x in ad_weights.values()))"
   ]
  },
  {
   "cell_type": "code",
   "execution_count": 110,
   "metadata": {},
   "outputs": [
    {
     "data": {
      "text/plain": [
       "209.3906160292191"
      ]
     },
     "execution_count": 110,
     "metadata": {},
     "output_type": "execute_result"
    }
   ],
   "source": [
    "total_reward"
   ]
  },
  {
   "cell_type": "code",
   "execution_count": 125,
   "metadata": {},
   "outputs": [
    {
     "data": {
      "text/plain": [
       "defaultdict(None,\n",
       "            {6082903610237: (4.7682042539023115, 0.02277181444099166),\n",
       "             6082903612037: (0.5467895641306048, 0.002611337482546514),\n",
       "             6082903614437: (0.274335804339592, 0.001310162840828121),\n",
       "             6082903615637: (0.10984516505988896, 0.0005245944978000389),\n",
       "             6082903618837: (0.389878717078887, 0.001861968432360321),\n",
       "             6082903621237: (0.261116367076632, 0.0012470299387255964),\n",
       "             6088935250037: (0.1049746192893401, 0.0005013339245092606),\n",
       "             6088935251437: (0.1378043178686265, 0.0006581207910931252),\n",
       "             6088935252837: (0.030433844161450466, 0.00014534483320495902),\n",
       "             6089948390437: (0.012720156555772993, 6.074845567099329e-05),\n",
       "             6089948393437: (0.13288780362421285, 0.0006346406832561648),\n",
       "             6093223857637: (0.018245768300725433, 8.713746894072538e-05),\n",
       "             6093223982237: (19.320053376097917, 0.09226800007791146),\n",
       "             6093224252437: (4.258696307174037, 0.020338525135146283),\n",
       "             6093225129837: (2.2301384439750382, 0.010650613128067959),\n",
       "             6093225348037: (34.435267883547226, 0.16445468539402935),\n",
       "             6093225829037: (5.425858994024319, 0.025912617752016046),\n",
       "             6093225992037: (15.735968785302418, 0.07515126075710368),\n",
       "             6093225992237: (0.6144889772855994, 0.0029346538490523924),\n",
       "             6093225992437: (0.3850644164554865, 0.0018389764725738867),\n",
       "             6093225992637: (2.242115675257432, 0.010707813548552525),\n",
       "             6093425908037: (0.7222997693403619, 0.00344953266310449),\n",
       "             6093539314437: (0.03167305236270754, 0.00015126299813878846),\n",
       "             6093539315037: (0.02055033089515848, 9.814351418829016e-05),\n",
       "             6093539315237: (0.018799494243694682, 8.978193292612184e-05),\n",
       "             6093539315637: (0.020830211299265697, 9.948015672468807e-05),\n",
       "             6094650889237: (0.07924039927730296, 0.00037843338340551747),\n",
       "             6094650898437: (0, 0.0),\n",
       "             6094650899037: (0, 0.0),\n",
       "             6094650899437: (17.09506200576392, 0.08164196815476399),\n",
       "             6094650899637: (3.610100295941606, 0.017240984168258238),\n",
       "             6095173565837: (0, 0.0),\n",
       "             6095175056437: (0.02522243082197372, 0.00012045635711991072),\n",
       "             6095175488237: (17.763421680633563, 0.08483389569929338),\n",
       "             6095649371037: (0, 0.0),\n",
       "             6095649684237: (1.239226244691815, 0.005918251105001234),\n",
       "             6095652130637: (0.031526771336553946, 0.00015056439459614843),\n",
       "             6095652240237: (0.004254193128155024, 2.03170190184711e-05),\n",
       "             6095652303237: (0, 0.0),\n",
       "             6095652381237: (0.01060070671378092, 5.0626465095750324e-05),\n",
       "             6095821149237: (0, 0.0),\n",
       "             6095821157237: (0, 0.0),\n",
       "             6095821791237: (0.00450382065684935, 2.1509180985555105e-05),\n",
       "             6095821791437: (0, 0.0),\n",
       "             6095907719437: (0.005840953703260402, 2.7895011791957926e-05),\n",
       "             6095907846437: (0, 0.0),\n",
       "             6095908288037: (0, 0.0),\n",
       "             6095909111037: (0, 0.0),\n",
       "             6095974804837: (0, 0.0),\n",
       "             6095974805037: (0, 0.0),\n",
       "             6095974805237: (1.5530967121047916, 0.007417222135150827),\n",
       "             6095974805437: (0.21086053701677193, 0.0010070199945700895),\n",
       "             6095974805837: (4.01885692274999, 0.01919310902733666),\n",
       "             6095974806437: (0.00920729015576717, 4.3971837565453994e-05),\n",
       "             6095974806637: (4.383109418285821, 0.020932692693707854),\n",
       "             6096181268837: (0, 0.0),\n",
       "             6096183109437: (0.0065307176045431075, 3.118916085347296e-05),\n",
       "             6096203161837: (0, 0.0),\n",
       "             6096203210637: (0.015371608638844054, 7.341116297541741e-05),\n",
       "             6096203254637: (0.006870019236053861, 3.28095851014412e-05),\n",
       "             6096204362837: (0.012092651046992397, 5.7751637949739574e-05),\n",
       "             6096204397637: (0, 0.0),\n",
       "             6096204431237: (4.045796643869038, 0.019321766756273707),\n",
       "             6096266172837: (0.5010394874426453, 0.002392845949565994),\n",
       "             6096390567637: (0, 0.0),\n",
       "             6096767321237: (0, 0.0),\n",
       "             6096769713437: (0.029944466625530835, 0.0001430076819744027),\n",
       "             6096770291437: (6.141513067913429, 0.02933041214729709),\n",
       "             6096770383837: (0, 0.0),\n",
       "             6096914657437: (0, 0.0),\n",
       "             6096915538437: (0, 0.0),\n",
       "             6097002343437: (9.533813429851971, 0.0455312354041768),\n",
       "             6097002343637: (0, 0.0),\n",
       "             6097011459037: (0.01477728520160439, 7.057281497057307e-05),\n",
       "             6097011461037: (0, 0.0),\n",
       "             6097011905837: (0.02717391304347826, 0.00012977617411320054),\n",
       "             6097011906637: (0.00815494393476045, 3.894608120175968e-05),\n",
       "             6097011987837: (0.00454809367137604, 2.1720618419410847e-05),\n",
       "             6097011988037: (0, 0.0),\n",
       "             6097012376637: (0, 0.0),\n",
       "             6097012377037: (0.018248175182481754, 8.71489636380617e-05),\n",
       "             6097238477437: (0.025592417061611375, 0.00012222332379040386),\n",
       "             6097338830637: (0, 0.0),\n",
       "             6097338831237: (1.1802572021749287, 0.0056366289213755),\n",
       "             6097838226437: (0.009801612007605714, 4.6810177998798014e-05),\n",
       "             6098431800037: (0, 0.0),\n",
       "             6098433929037: (0, 0.0),\n",
       "             6098501133637: (0.05671620650931275, 0.0002708631723085354),\n",
       "             6098502811837: (0, 0.0),\n",
       "             6098504734437: (0.005007153075822604, 2.391297743316199e-05),\n",
       "             6098504800437: (0, 0.0),\n",
       "             6098577052037: (0.029241219350563286, 0.00013964913951293245),\n",
       "             6099407524037: (0.8851486525618454, 0.004227260367954257),\n",
       "             6099407524637: (0, 0.0),\n",
       "             6099407525037: (0.006581275210530041, 3.143061200799785e-05),\n",
       "             6099407525437: (0.005616744920795121, 2.682424373789196e-05),\n",
       "             6099505823837: (0, 0.0),\n",
       "             6099576111037: (0.020226664567920667, 9.65977604512046e-05),\n",
       "             6099576111437: (0, 0.0),\n",
       "             6099576111637: (0.020814920915490812, 9.940713347242947e-05),\n",
       "             6099576111837: (0.015556054147034627, 7.429203104719784e-05),\n",
       "             6099576112037: (0.9459202312684202, 0.004517491037594651),\n",
       "             6099577763437: (0.038860103626943004, 0.00018558665313597592),\n",
       "             6099577763837: (2.7644934862446204, 0.013202566278609416),\n",
       "             6099577764037: (0.01090489817464507, 5.207921148254019e-05),\n",
       "             6099577764237: (0, 0.0),\n",
       "             6099577764437: (1.8285014418061303, 0.008732489910392998),\n",
       "             6099577764637: (0.01285410185033568, 6.138814668056554e-05),\n",
       "             6099577764837: (0, 0.0),\n",
       "             6099577765237: (0.07478188616535106, 0.00035714058052589964),\n",
       "             6100424197437: (0.013820775746767721, 6.60047523086666e-05),\n",
       "             6100424331437: (0, 0.0),\n",
       "             6100424483237: (0.030009233610341645, 0.00014331699375751418),\n",
       "             6100424830637: (0.0488841219421641, 0.00023345899099576955),\n",
       "             6100424862437: (0.021638950110198358, 0.00010334250178230901),\n",
       "             6100424877637: (0, 0.0),\n",
       "             6100660841037: (0.009764196071810456, 4.663148834925786e-05),\n",
       "             6100660841237: (0.007847411444141689, 3.747737884799304e-05),\n",
       "             6100660841437: (0.007285974499089253, 3.479608894255578e-05),\n",
       "             6100660842237: (0, 0.0),\n",
       "             6100660843437: (0.007015650296815974, 3.3505084563278545e-05),\n",
       "             6101602100237: (0.08906410282197236, 0.00042534906535421834),\n",
       "             6101602100437: (0, 0.0),\n",
       "             6101812273437: (0.003811434302908726, 1.8202507711123336e-05),\n",
       "             6102555182437: (0, 0.0),\n",
       "             6102564011437: (0.006396588486140725, 3.054859194477045e-05),\n",
       "             6102564024637: (0.011060259344012205, 5.282117963905707e-05),\n",
       "             6102929339437: (0.33022417519356884, 0.0015770724660721578),\n",
       "             6102929382637: (0.002727654217373059, 1.3026630653746358e-05),\n",
       "             6102929422437: (0.0029602750190985483, 1.413757251989488e-05),\n",
       "             23842792006890742: (0, 0.0),\n",
       "             23842792032510742: (0, 0.0),\n",
       "             23842792590100742: (0, 0.0),\n",
       "             23842792615770742: (0.009474565126427163, 4.524827953658176e-05),\n",
       "             23842792616820742: (0, 0.0),\n",
       "             23842793569860742: (5.195336032551478, 0.024811694674161056),\n",
       "             23842793654970742: (2.7519341048358528, 0.01314258564697015),\n",
       "             23842793657500742: (0.9120016672604409, 0.0043555040075586625),\n",
       "             23842793663640742: (0, 0.0),\n",
       "             23842795434700742: (0.01340113101744048, 6.400062845018059e-05),\n",
       "             23842795437410742: (0, 0.0),\n",
       "             23842795438820742: (0, 0.0),\n",
       "             23842795441640742: (0, 0.0),\n",
       "             23842798572830742: (0, 0.0),\n",
       "             23842804739490742: (0.019471488178025034, 9.299121683326971e-05),\n",
       "             23842804757580742: (0, 0.0),\n",
       "             23842804757940742: (0, 0.0),\n",
       "             23842804758420742: (0.009578544061302681, 4.574485830810134e-05),\n",
       "             23842804759230742: (0, 0.0),\n",
       "             23842804795440742: (0, 0.0),\n",
       "             23842804833090742: (0, 0.0),\n",
       "             23842804848190742: (0, 0.0),\n",
       "             23842804849930742: (0, 0.0),\n",
       "             23842804852030742: (0, 0.0),\n",
       "             23842804871800742: (0, 0.0),\n",
       "             23842804872310742: (0, 0.0),\n",
       "             23842804872600742: (0, 0.0),\n",
       "             23842804873020742: (0, 0.0),\n",
       "             23842804873290742: (0, 0.0),\n",
       "             23842806372910742: (0, 0.0),\n",
       "             23842806372960742: (0, 0.0),\n",
       "             23842806380090742: (0.01546671490593343, 7.386536798657276e-05),\n",
       "             23842806381580742: (0.009877826878086821, 4.7174162173095834e-05),\n",
       "             23842806382420742: (0.013739266198282592, 6.561548200596233e-05),\n",
       "             23842806385280742: (0.014098296455844919, 6.733012550035954e-05),\n",
       "             23842806400030742: (1.7880315169480583, 0.008539215132250961),\n",
       "             23842806402270742: (0.053456221198156684, 0.00025529425440296336),\n",
       "             23842806403010742: (1.1270479716457218, 0.005382514235921869),\n",
       "             23842806416110742: (0, 0.0),\n",
       "             23842806422440742: (0, 0.0),\n",
       "             23842807747800742: (1.5985745797112638, 0.0076344136620152695),\n",
       "             23842807748050742: (0, 0.0),\n",
       "             23842807748480742: (0.010277492291880781, 4.908286955154964e-05),\n",
       "             23842807749130742: (0, 0.0),\n",
       "             23842808513410742: (0, 0.0),\n",
       "             23842808515400742: (6.64286857057693, 0.03172476731072781),\n",
       "             23842828523080742: (0.052466990965948576, 0.00025056992505637),\n",
       "             23842828729650742: (2.7808646555649807, 0.013280751106711149),\n",
       "             23842828730200742: (0.01984373919657056, 9.476899955154388e-05),\n",
       "             23842828730500742: (0, 0.0),\n",
       "             23842828731000742: (0, 0.0),\n",
       "             23842828731480742: (0, 0.0),\n",
       "             23842828732620742: (0, 0.0),\n",
       "             23842828739510742: (0.010888627941378312, 5.200150870112954e-05),\n",
       "             23842828742380742: (0.04162690839694656, 0.00019880025755852305),\n",
       "             23842828743560742: (0, 0.0),\n",
       "             23842834422600742: (0, 0.0),\n",
       "             23842834432250742: (0, 0.0),\n",
       "             23842834432900742: (0, 0.0),\n",
       "             23842834436700742: (0.0281524926686217, 0.0001344496386824384),\n",
       "             23842834442040742: (0.028823109389249837, 0.00013765234534305853),\n",
       "             23842839291670742: (0, 0.0),\n",
       "             23842843528050742: (0, 0.0),\n",
       "             23842843530030742: (0, 0.0),\n",
       "             23842843530370742: (0, 0.0),\n",
       "             23842843533830742: (0, 0.0),\n",
       "             23842843535470742: (0, 0.0),\n",
       "             23842844250330742: (0.48458734596842007, 0.002314274417631013),\n",
       "             23842844250340742: (0.06160314413673339, 0.0002942020292262623),\n",
       "             23842844250350742: (3.6822833599149387, 0.01758571338937701),\n",
       "             23842844250370742: (0, 0.0),\n",
       "             23842844250380742: (0, 0.0),\n",
       "             23842846988130742: (0.07610484250117537, 0.00036345870671948083),\n",
       "             23842860746190616: (0.01517428386329787, 7.246878657246223e-05),\n",
       "             23842862097880742: (0.5287591835158731, 0.0025252286541918778),\n",
       "             23842862099200742: (0.025035323207347228, 0.00011956277545815955),\n",
       "             23842862099990742: (0, 0.0),\n",
       "             23842862100410742: (0.501737091540214, 0.0023961775415484703),\n",
       "             23842862101240742: (0.030104683195592286, 0.00014377283837491253),\n",
       "             23842872626270616: (0, 0.0),\n",
       "             23842875301050616: (0, 0.0),\n",
       "             23842880266880638: (0, 0.0),\n",
       "             23842880266890638: (0, 0.0),\n",
       "             23842880266900638: (0.039778096138019324, 0.00018997076799501152),\n",
       "             23842880266910638: (0, 0.0),\n",
       "             23842880266920638: (0, 0.0),\n",
       "             23842885287240027: (0, 0.0),\n",
       "             23842885373920027: (1.0488841222806822, 0.005009222199978232),\n",
       "             23842885383130027: (4.382950672009281, 0.020931934559081048),\n",
       "             23842885384190027: (0, 0.0),\n",
       "             23842885396050027: (0, 0.0),\n",
       "             23842888662150638: (0, 0.0),\n",
       "             23842888662840638: (0, 0.0),\n",
       "             23842888662850638: (0.2352877063344983, 0.0011236783710577814),\n",
       "             23842888662860638: (3.820037974130462, 0.018243596807592372),\n",
       "             23842888662870638: (0, 0.0),\n",
       "             23842901761550742: (0, 0.0),\n",
       "             23842901761560742: (0, 0.0),\n",
       "             23842904867950027: (0.0191273374888691, 9.134763463420922e-05),\n",
       "             23842904869780027: (0.011482408361548653, 5.483726338503325e-05),\n",
       "             23842904870690027: (0.022319825419187315, 0.00010659420103178229),\n",
       "             23842904872500027: (0.011461022199277233, 5.473512813811065e-05),\n",
       "             23842904874210027: (0, 0.0),\n",
       "             23842974432060616: (0.008831541855438097, 4.217735265751218e-05),\n",
       "             23842974432080616: (0.02513635285748162, 0.00012004526914412442),\n",
       "             23842974432090616: (0.014082767140210006, 6.725596116611476e-05),\n",
       "             23842974432100616: (0, 0.0),\n",
       "             23842974432160616: (0, 0.0),\n",
       "             23842974432170616: (0, 0.0),\n",
       "             23843001848720616: (0.010110371556154688, 4.828474049068107e-05),\n",
       "             23843001951860616: (0, 0.0),\n",
       "             23843001969560616: (0, 0.0)})"
      ]
     },
     "execution_count": 125,
     "metadata": {},
     "output_type": "execute_result"
    }
   ],
   "source": [
    "ad_weights"
   ]
  },
  {
   "cell_type": "code",
   "execution_count": 93,
   "metadata": {},
   "outputs": [],
   "source": [
    "import scipy\n",
    "from scipy.optimize import linprog"
   ]
  },
  {
   "cell_type": "code",
   "execution_count": 117,
   "metadata": {},
   "outputs": [],
   "source": [
    "ads = []\n",
    "ads_CTR = []\n",
    "ad_weight_ratio = []\n",
    "for key, value in ad_weights.items():\n",
    "    ads.append(key)\n",
    "    ads_CTR.append(value[0])\n",
    "    ad_weight_ratio.append(value[1])"
   ]
  },
  {
   "cell_type": "code",
   "execution_count": 122,
   "metadata": {},
   "outputs": [],
   "source": [
    "ads = np.array(ads)\n",
    "ads_CTR = np.array(-1 * ads_CTR)\n",
    "ad_weight_ratio = np.array(ad_weight_ratio)"
   ]
  },
  {
   "cell_type": "code",
   "execution_count": 126,
   "metadata": {},
   "outputs": [
    {
     "data": {
      "text/html": [
       "<div>\n",
       "<style scoped>\n",
       "    .dataframe tbody tr th:only-of-type {\n",
       "        vertical-align: middle;\n",
       "    }\n",
       "\n",
       "    .dataframe tbody tr th {\n",
       "        vertical-align: top;\n",
       "    }\n",
       "\n",
       "    .dataframe thead th {\n",
       "        text-align: right;\n",
       "    }\n",
       "</style>\n",
       "<table border=\"1\" class=\"dataframe\">\n",
       "  <thead>\n",
       "    <tr style=\"text-align: right;\">\n",
       "      <th></th>\n",
       "      <th>Unnamed: 0</th>\n",
       "      <th>DateStart</th>\n",
       "      <th>LinkClick</th>\n",
       "      <th>Impressions</th>\n",
       "      <th>AdsetId</th>\n",
       "      <th>Conversions</th>\n",
       "      <th>CTR</th>\n",
       "    </tr>\n",
       "  </thead>\n",
       "  <tbody>\n",
       "    <tr>\n",
       "      <th>0</th>\n",
       "      <td>0</td>\n",
       "      <td>2018-07-12</td>\n",
       "      <td>0.0</td>\n",
       "      <td>27.0</td>\n",
       "      <td>6094650899637</td>\n",
       "      <td>0.0</td>\n",
       "      <td>0.0</td>\n",
       "    </tr>\n",
       "    <tr>\n",
       "      <th>1</th>\n",
       "      <td>1</td>\n",
       "      <td>2018-05-18</td>\n",
       "      <td>0.0</td>\n",
       "      <td>3.0</td>\n",
       "      <td>6093425908037</td>\n",
       "      <td>0.0</td>\n",
       "      <td>0.0</td>\n",
       "    </tr>\n",
       "    <tr>\n",
       "      <th>2</th>\n",
       "      <td>2</td>\n",
       "      <td>2018-05-26</td>\n",
       "      <td>0.0</td>\n",
       "      <td>2.0</td>\n",
       "      <td>6093224252437</td>\n",
       "      <td>0.0</td>\n",
       "      <td>0.0</td>\n",
       "    </tr>\n",
       "    <tr>\n",
       "      <th>3</th>\n",
       "      <td>3</td>\n",
       "      <td>2018-06-07</td>\n",
       "      <td>0.0</td>\n",
       "      <td>7.0</td>\n",
       "      <td>6094650898437</td>\n",
       "      <td>0.0</td>\n",
       "      <td>0.0</td>\n",
       "    </tr>\n",
       "    <tr>\n",
       "      <th>4</th>\n",
       "      <td>4</td>\n",
       "      <td>2018-06-04</td>\n",
       "      <td>0.0</td>\n",
       "      <td>2.0</td>\n",
       "      <td>6095173565837</td>\n",
       "      <td>0.0</td>\n",
       "      <td>0.0</td>\n",
       "    </tr>\n",
       "  </tbody>\n",
       "</table>\n",
       "</div>"
      ],
      "text/plain": [
       "   Unnamed: 0   DateStart  LinkClick  Impressions        AdsetId  Conversions  \\\n",
       "0           0  2018-07-12        0.0         27.0  6094650899637          0.0   \n",
       "1           1  2018-05-18        0.0          3.0  6093425908037          0.0   \n",
       "2           2  2018-05-26        0.0          2.0  6093224252437          0.0   \n",
       "3           3  2018-06-07        0.0          7.0  6094650898437          0.0   \n",
       "4           4  2018-06-04        0.0          2.0  6095173565837          0.0   \n",
       "\n",
       "   CTR  \n",
       "0  0.0  \n",
       "1  0.0  \n",
       "2  0.0  \n",
       "3  0.0  \n",
       "4  0.0  "
      ]
     },
     "execution_count": 126,
     "metadata": {},
     "output_type": "execute_result"
    }
   ],
   "source": [
    "data.head()"
   ]
  },
  {
   "cell_type": "code",
   "execution_count": 123,
   "metadata": {},
   "outputs": [
    {
     "data": {
      "text/plain": [
       "(242,)"
      ]
     },
     "execution_count": 123,
     "metadata": {},
     "output_type": "execute_result"
    }
   ],
   "source": [
    "ads_CTR"
   ]
  },
  {
   "cell_type": "code",
   "execution_count": 159,
   "metadata": {},
   "outputs": [],
   "source": [
    "IPS=np.zeros((len(set(data['AdsetId'])),len(set(data['AdsetId']))))\n",
    "np.fill_diagonal(IPS,ads_IPS*(-1))"
   ]
  },
  {
   "cell_type": "code",
   "execution_count": 160,
   "metadata": {},
   "outputs": [
    {
     "data": {
      "text/plain": [
       "array([[-37.41715923,   0.        ,   0.        , ...,   0.        ,\n",
       "          0.        ,   0.        ],\n",
       "       [  0.        , -37.9813683 ,   0.        , ...,   0.        ,\n",
       "          0.        ,   0.        ],\n",
       "       [  0.        ,   0.        , -34.35704858, ...,   0.        ,\n",
       "          0.        ,   0.        ],\n",
       "       ...,\n",
       "       [  0.        ,   0.        ,   0.        , ..., -63.63392666,\n",
       "          0.        ,   0.        ],\n",
       "       [  0.        ,   0.        ,   0.        , ...,   0.        ,\n",
       "        -65.65228897,   0.        ],\n",
       "       [  0.        ,   0.        ,   0.        , ...,   0.        ,\n",
       "          0.        , -53.54954416]])"
      ]
     },
     "execution_count": 160,
     "metadata": {},
     "output_type": "execute_result"
    }
   ],
   "source": [
    "IPS"
   ]
  },
  {
   "cell_type": "code",
   "execution_count": 161,
   "metadata": {},
   "outputs": [],
   "source": [
    "budget = np.ones_like(ads_CTR)"
   ]
  },
  {
   "cell_type": "code",
   "execution_count": 163,
   "metadata": {},
   "outputs": [
    {
     "data": {
      "text/plain": [
       "242"
      ]
     },
     "execution_count": 163,
     "metadata": {},
     "output_type": "execute_result"
    }
   ],
   "source": [
    "len(budget)"
   ]
  },
  {
   "cell_type": "code",
   "execution_count": 257,
   "metadata": {},
   "outputs": [],
   "source": [
    "A=np.vstack((budget,ad_weight_ratio,IPS))"
   ]
  },
  {
   "cell_type": "code",
   "execution_count": 258,
   "metadata": {},
   "outputs": [],
   "source": [
    "c = ((-1) * ads_CTR).reshape(-1,1)"
   ]
  },
  {
   "cell_type": "code",
   "execution_count": 331,
   "metadata": {},
   "outputs": [],
   "source": [
    "total_budget = 100000\n",
    "second_budget = 10\n",
    "b = np.hstack((total_budget, second_budget, ([-100] * len(budget)))).reshape(-1,1)\n",
    "bounds = [(None, None) for x in range(len(budget))]"
   ]
  },
  {
   "cell_type": "code",
   "execution_count": 332,
   "metadata": {},
   "outputs": [
    {
     "name": "stdout",
     "output_type": "stream",
     "text": [
      "Primal Feasibility  Dual Feasibility    Duality Gap         Step             Path Parameter      Objective          \n",
      "1.0                 1.0                 1.0                 -                1.0                 759.9155622302      \n",
      "0.3863755414826     0.3863755414826     0.3863755414969     0.6265433889136  0.3863755414827     973.5487460326      \n",
      "0.1296318092098     0.1296318092098     0.1296318092103     0.7063476843631  0.1296318092098     974.1673387926      \n",
      "0.01752971576716    0.01752971576716    0.017529715767      0.8763763647253  0.01752971576716    1069.263685284      \n",
      "0.00122260479656    0.00122260479656    0.001222604796552   0.930797642727   0.00122260479656    1661.049633592      \n",
      "4.262793501642e-05  4.26279350167e-05   4.26279350164e-05   0.969213485771   4.262793501671e-05  2041.180040817      \n",
      "3.091920842147e-05  3.091920842167e-05  3.091920842145e-05  0.3035426704615  3.091920842168e-05  614.028222365       \n",
      "3.47170571595e-07   3.471705716068e-07  3.471705716025e-07  0.9887944853011  3.471705716067e-07  563.2021385258      \n",
      "1.949968946526e-11  1.949798564145e-11  1.949798589931e-11  0.9999448426143  1.949798591724e-11  550.5255854289      \n",
      "1.195412528686e-15  9.749477059159e-16  9.748992942601e-16  0.99995          9.748992965537e-16  550.524946233       \n",
      "Optimization terminated successfully.\n"
     ]
    }
   ],
   "source": [
    "res = linprog(c,A_ub=A,b_ub=b,bounds=bounds,method='interior-point',options={\"disp\": True})"
   ]
  },
  {
   "cell_type": "code",
   "execution_count": 333,
   "metadata": {},
   "outputs": [
    {
     "name": "stdout",
     "output_type": "stream",
     "text": [
      "99072.47845831058\n"
     ]
    }
   ],
   "source": [
    "print(sum(res.x))"
   ]
  },
  {
   "cell_type": "code",
   "execution_count": null,
   "metadata": {},
   "outputs": [],
   "source": []
  }
 ],
 "metadata": {
  "kernelspec": {
   "display_name": "Python 3",
   "language": "python",
   "name": "python3"
  },
  "language_info": {
   "codemirror_mode": {
    "name": "ipython",
    "version": 3
   },
   "file_extension": ".py",
   "mimetype": "text/x-python",
   "name": "python",
   "nbconvert_exporter": "python",
   "pygments_lexer": "ipython3",
   "version": "3.6.5"
  }
 },
 "nbformat": 4,
 "nbformat_minor": 2
}
