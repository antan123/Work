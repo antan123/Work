{
 "cells": [
  {
   "cell_type": "code",
   "execution_count": 30,
   "metadata": {},
   "outputs": [],
   "source": [
    "import pandas as pd\n",
    "import numpy as np\n",
    "import matplotlib.pyplot as plt"
   ]
  },
  {
   "cell_type": "code",
   "execution_count": 31,
   "metadata": {},
   "outputs": [],
   "source": [
    "# raw_data = pd.ExcelFile('rbull1.xlsx')"
   ]
  },
  {
   "cell_type": "code",
   "execution_count": 32,
   "metadata": {},
   "outputs": [],
   "source": [
    "# raw_data.sheet_names"
   ]
  },
  {
   "cell_type": "code",
   "execution_count": 33,
   "metadata": {},
   "outputs": [],
   "source": [
    "# data = raw_data.parse('rbull1.csv')"
   ]
  },
  {
   "cell_type": "code",
   "execution_count": 34,
   "metadata": {},
   "outputs": [],
   "source": [
    "cols =['DateStart','AdsetId','LinkClick','Conversions','Impressions']\n",
    "data = pd.read_csv('RagingBull_FB_Hourly.csv', usecols=cols)\n",
    "data.to_csv('Final_Set')\n",
    "data.fillna(0,inplace=True)"
   ]
  },
  {
   "cell_type": "code",
   "execution_count": 35,
   "metadata": {},
   "outputs": [],
   "source": [
    "data['CTR'] = (data['LinkClick']/data['Impressions']).replace([np.inf, -np.inf], 0)"
   ]
  },
  {
   "cell_type": "code",
   "execution_count": 36,
   "metadata": {
    "scrolled": true
   },
   "outputs": [
    {
     "data": {
      "text/html": [
       "<div>\n",
       "<style scoped>\n",
       "    .dataframe tbody tr th:only-of-type {\n",
       "        vertical-align: middle;\n",
       "    }\n",
       "\n",
       "    .dataframe tbody tr th {\n",
       "        vertical-align: top;\n",
       "    }\n",
       "\n",
       "    .dataframe thead th {\n",
       "        text-align: right;\n",
       "    }\n",
       "</style>\n",
       "<table border=\"1\" class=\"dataframe\">\n",
       "  <thead>\n",
       "    <tr style=\"text-align: right;\">\n",
       "      <th></th>\n",
       "      <th>DateStart</th>\n",
       "      <th>LinkClick</th>\n",
       "      <th>Impressions</th>\n",
       "      <th>AdsetId</th>\n",
       "      <th>Conversions</th>\n",
       "      <th>CTR</th>\n",
       "    </tr>\n",
       "  </thead>\n",
       "  <tbody>\n",
       "    <tr>\n",
       "      <th>0</th>\n",
       "      <td>2018-07-12</td>\n",
       "      <td>0.0</td>\n",
       "      <td>27.0</td>\n",
       "      <td>6094650899637</td>\n",
       "      <td>0.0</td>\n",
       "      <td>0.0</td>\n",
       "    </tr>\n",
       "    <tr>\n",
       "      <th>1</th>\n",
       "      <td>2018-05-18</td>\n",
       "      <td>0.0</td>\n",
       "      <td>3.0</td>\n",
       "      <td>6093425908037</td>\n",
       "      <td>0.0</td>\n",
       "      <td>0.0</td>\n",
       "    </tr>\n",
       "    <tr>\n",
       "      <th>2</th>\n",
       "      <td>2018-05-26</td>\n",
       "      <td>0.0</td>\n",
       "      <td>2.0</td>\n",
       "      <td>6093224252437</td>\n",
       "      <td>0.0</td>\n",
       "      <td>0.0</td>\n",
       "    </tr>\n",
       "    <tr>\n",
       "      <th>3</th>\n",
       "      <td>2018-06-07</td>\n",
       "      <td>0.0</td>\n",
       "      <td>7.0</td>\n",
       "      <td>6094650898437</td>\n",
       "      <td>0.0</td>\n",
       "      <td>0.0</td>\n",
       "    </tr>\n",
       "    <tr>\n",
       "      <th>4</th>\n",
       "      <td>2018-06-04</td>\n",
       "      <td>0.0</td>\n",
       "      <td>2.0</td>\n",
       "      <td>6095173565837</td>\n",
       "      <td>0.0</td>\n",
       "      <td>0.0</td>\n",
       "    </tr>\n",
       "  </tbody>\n",
       "</table>\n",
       "</div>"
      ],
      "text/plain": [
       "    DateStart  LinkClick  Impressions        AdsetId  Conversions  CTR\n",
       "0  2018-07-12        0.0         27.0  6094650899637          0.0  0.0\n",
       "1  2018-05-18        0.0          3.0  6093425908037          0.0  0.0\n",
       "2  2018-05-26        0.0          2.0  6093224252437          0.0  0.0\n",
       "3  2018-06-07        0.0          7.0  6094650898437          0.0  0.0\n",
       "4  2018-06-04        0.0          2.0  6095173565837          0.0  0.0"
      ]
     },
     "execution_count": 36,
     "metadata": {},
     "output_type": "execute_result"
    }
   ],
   "source": [
    "data.head()"
   ]
  },
  {
   "cell_type": "code",
   "execution_count": 37,
   "metadata": {},
   "outputs": [],
   "source": [
    "data_total_CTR = pd.pivot_table(data = data, values= ['LinkClick','Impressions'], fill_value= 0, index='AdsetId',aggfunc='sum')"
   ]
  },
  {
   "cell_type": "code",
   "execution_count": 38,
   "metadata": {},
   "outputs": [],
   "source": [
    "data_total_CTR['CTR_agg'] = (data_total_CTR['LinkClick']/data_total_CTR['Impressions']).replace([np.inf, -np.inf], 0)\n",
    "data_total_CTR.drop(['LinkClick','Impressions'],inplace = True, axis = 1)\n",
    "data_first_row = pd.pivot_table(data = data_total_CTR, values= ['CTR_agg'],columns='AdsetId').replace([np.inf, -np.inf], 0)"
   ]
  },
  {
   "cell_type": "code",
   "execution_count": 39,
   "metadata": {},
   "outputs": [
    {
     "data": {
      "text/html": [
       "<div>\n",
       "<style scoped>\n",
       "    .dataframe tbody tr th:only-of-type {\n",
       "        vertical-align: middle;\n",
       "    }\n",
       "\n",
       "    .dataframe tbody tr th {\n",
       "        vertical-align: top;\n",
       "    }\n",
       "\n",
       "    .dataframe thead th {\n",
       "        text-align: right;\n",
       "    }\n",
       "</style>\n",
       "<table border=\"1\" class=\"dataframe\">\n",
       "  <thead>\n",
       "    <tr style=\"text-align: right;\">\n",
       "      <th>AdsetId</th>\n",
       "      <th>6082903610237</th>\n",
       "      <th>6082903612037</th>\n",
       "      <th>6082903614437</th>\n",
       "      <th>6082903615637</th>\n",
       "      <th>6082903618837</th>\n",
       "      <th>6082903621237</th>\n",
       "      <th>6088935250037</th>\n",
       "      <th>6088935251437</th>\n",
       "      <th>6088935252837</th>\n",
       "      <th>6089948390437</th>\n",
       "      <th>...</th>\n",
       "      <th>23842904874210027</th>\n",
       "      <th>23842974432060616</th>\n",
       "      <th>23842974432080616</th>\n",
       "      <th>23842974432090616</th>\n",
       "      <th>23842974432100616</th>\n",
       "      <th>23842974432160616</th>\n",
       "      <th>23842974432170616</th>\n",
       "      <th>23843001848720616</th>\n",
       "      <th>23843001951860616</th>\n",
       "      <th>23843001969560616</th>\n",
       "    </tr>\n",
       "  </thead>\n",
       "  <tbody>\n",
       "    <tr>\n",
       "      <th>CTR_agg</th>\n",
       "      <td>0.013802</td>\n",
       "      <td>0.01367</td>\n",
       "      <td>0.010551</td>\n",
       "      <td>0.009154</td>\n",
       "      <td>0.012005</td>\n",
       "      <td>0.013056</td>\n",
       "      <td>0.009543</td>\n",
       "      <td>0.011484</td>\n",
       "      <td>0.010145</td>\n",
       "      <td>0.01272</td>\n",
       "      <td>...</td>\n",
       "      <td>0.013622</td>\n",
       "      <td>0.008832</td>\n",
       "      <td>0.012568</td>\n",
       "      <td>0.014083</td>\n",
       "      <td>0.0051</td>\n",
       "      <td>0.009281</td>\n",
       "      <td>0.009237</td>\n",
       "      <td>0.005055</td>\n",
       "      <td>0.004031</td>\n",
       "      <td>0.005489</td>\n",
       "    </tr>\n",
       "  </tbody>\n",
       "</table>\n",
       "<p>1 rows × 242 columns</p>\n",
       "</div>"
      ],
      "text/plain": [
       "AdsetId  6082903610237      6082903612037      6082903614437      \\\n",
       "CTR_agg           0.013802            0.01367           0.010551   \n",
       "\n",
       "AdsetId  6082903615637      6082903618837      6082903621237      \\\n",
       "CTR_agg           0.009154           0.012005           0.013056   \n",
       "\n",
       "AdsetId  6088935250037      6088935251437      6088935252837      \\\n",
       "CTR_agg           0.009543           0.011484           0.010145   \n",
       "\n",
       "AdsetId  6089948390437            ...          23842904874210027  \\\n",
       "CTR_agg            0.01272        ...                   0.013622   \n",
       "\n",
       "AdsetId  23842974432060616  23842974432080616  23842974432090616  \\\n",
       "CTR_agg           0.008832           0.012568           0.014083   \n",
       "\n",
       "AdsetId  23842974432100616  23842974432160616  23842974432170616  \\\n",
       "CTR_agg             0.0051           0.009281           0.009237   \n",
       "\n",
       "AdsetId  23843001848720616  23843001951860616  23843001969560616  \n",
       "CTR_agg           0.005055           0.004031           0.005489  \n",
       "\n",
       "[1 rows x 242 columns]"
      ]
     },
     "execution_count": 39,
     "metadata": {},
     "output_type": "execute_result"
    }
   ],
   "source": [
    "data_first_row.head()"
   ]
  },
  {
   "cell_type": "code",
   "execution_count": 40,
   "metadata": {},
   "outputs": [
    {
     "data": {
      "text/html": [
       "<div>\n",
       "<style scoped>\n",
       "    .dataframe tbody tr th:only-of-type {\n",
       "        vertical-align: middle;\n",
       "    }\n",
       "\n",
       "    .dataframe tbody tr th {\n",
       "        vertical-align: top;\n",
       "    }\n",
       "\n",
       "    .dataframe thead th {\n",
       "        text-align: right;\n",
       "    }\n",
       "</style>\n",
       "<table border=\"1\" class=\"dataframe\">\n",
       "  <thead>\n",
       "    <tr style=\"text-align: right;\">\n",
       "      <th></th>\n",
       "      <th>CTR_agg</th>\n",
       "    </tr>\n",
       "    <tr>\n",
       "      <th>AdsetId</th>\n",
       "      <th></th>\n",
       "    </tr>\n",
       "  </thead>\n",
       "  <tbody>\n",
       "    <tr>\n",
       "      <th>6082903610237</th>\n",
       "      <td>0.013802</td>\n",
       "    </tr>\n",
       "    <tr>\n",
       "      <th>6082903612037</th>\n",
       "      <td>0.013670</td>\n",
       "    </tr>\n",
       "    <tr>\n",
       "      <th>6082903614437</th>\n",
       "      <td>0.010551</td>\n",
       "    </tr>\n",
       "    <tr>\n",
       "      <th>6082903615637</th>\n",
       "      <td>0.009154</td>\n",
       "    </tr>\n",
       "    <tr>\n",
       "      <th>6082903618837</th>\n",
       "      <td>0.012005</td>\n",
       "    </tr>\n",
       "  </tbody>\n",
       "</table>\n",
       "</div>"
      ],
      "text/plain": [
       "                CTR_agg\n",
       "AdsetId                \n",
       "6082903610237  0.013802\n",
       "6082903612037  0.013670\n",
       "6082903614437  0.010551\n",
       "6082903615637  0.009154\n",
       "6082903618837  0.012005"
      ]
     },
     "execution_count": 40,
     "metadata": {},
     "output_type": "execute_result"
    }
   ],
   "source": [
    "data_total_CTR.head()"
   ]
  },
  {
   "cell_type": "code",
   "execution_count": 41,
   "metadata": {},
   "outputs": [],
   "source": [
    "data = data.join(data_total_CTR, on = ['AdsetId'])"
   ]
  },
  {
   "cell_type": "code",
   "execution_count": 42,
   "metadata": {},
   "outputs": [],
   "source": [
    "data = data[data['CTR_agg'] > 0]"
   ]
  },
  {
   "cell_type": "code",
   "execution_count": 43,
   "metadata": {},
   "outputs": [],
   "source": [
    "data.drop(['CTR_agg'], inplace= True, axis = 1)"
   ]
  },
  {
   "cell_type": "code",
   "execution_count": 44,
   "metadata": {},
   "outputs": [
    {
     "data": {
      "text/html": [
       "<div>\n",
       "<style scoped>\n",
       "    .dataframe tbody tr th:only-of-type {\n",
       "        vertical-align: middle;\n",
       "    }\n",
       "\n",
       "    .dataframe tbody tr th {\n",
       "        vertical-align: top;\n",
       "    }\n",
       "\n",
       "    .dataframe thead th {\n",
       "        text-align: right;\n",
       "    }\n",
       "</style>\n",
       "<table border=\"1\" class=\"dataframe\">\n",
       "  <thead>\n",
       "    <tr style=\"text-align: right;\">\n",
       "      <th></th>\n",
       "      <th>DateStart</th>\n",
       "      <th>LinkClick</th>\n",
       "      <th>Impressions</th>\n",
       "      <th>AdsetId</th>\n",
       "      <th>Conversions</th>\n",
       "      <th>CTR</th>\n",
       "    </tr>\n",
       "  </thead>\n",
       "  <tbody>\n",
       "    <tr>\n",
       "      <th>0</th>\n",
       "      <td>2018-07-12</td>\n",
       "      <td>0.0</td>\n",
       "      <td>27.0</td>\n",
       "      <td>6094650899637</td>\n",
       "      <td>0.0</td>\n",
       "      <td>0.0</td>\n",
       "    </tr>\n",
       "    <tr>\n",
       "      <th>1</th>\n",
       "      <td>2018-05-18</td>\n",
       "      <td>0.0</td>\n",
       "      <td>3.0</td>\n",
       "      <td>6093425908037</td>\n",
       "      <td>0.0</td>\n",
       "      <td>0.0</td>\n",
       "    </tr>\n",
       "    <tr>\n",
       "      <th>2</th>\n",
       "      <td>2018-05-26</td>\n",
       "      <td>0.0</td>\n",
       "      <td>2.0</td>\n",
       "      <td>6093224252437</td>\n",
       "      <td>0.0</td>\n",
       "      <td>0.0</td>\n",
       "    </tr>\n",
       "    <tr>\n",
       "      <th>3</th>\n",
       "      <td>2018-06-07</td>\n",
       "      <td>0.0</td>\n",
       "      <td>7.0</td>\n",
       "      <td>6094650898437</td>\n",
       "      <td>0.0</td>\n",
       "      <td>0.0</td>\n",
       "    </tr>\n",
       "    <tr>\n",
       "      <th>4</th>\n",
       "      <td>2018-06-04</td>\n",
       "      <td>0.0</td>\n",
       "      <td>2.0</td>\n",
       "      <td>6095173565837</td>\n",
       "      <td>0.0</td>\n",
       "      <td>0.0</td>\n",
       "    </tr>\n",
       "  </tbody>\n",
       "</table>\n",
       "</div>"
      ],
      "text/plain": [
       "    DateStart  LinkClick  Impressions        AdsetId  Conversions  CTR\n",
       "0  2018-07-12        0.0         27.0  6094650899637          0.0  0.0\n",
       "1  2018-05-18        0.0          3.0  6093425908037          0.0  0.0\n",
       "2  2018-05-26        0.0          2.0  6093224252437          0.0  0.0\n",
       "3  2018-06-07        0.0          7.0  6094650898437          0.0  0.0\n",
       "4  2018-06-04        0.0          2.0  6095173565837          0.0  0.0"
      ]
     },
     "execution_count": 44,
     "metadata": {},
     "output_type": "execute_result"
    }
   ],
   "source": [
    "data.head()"
   ]
  },
  {
   "cell_type": "code",
   "execution_count": 45,
   "metadata": {},
   "outputs": [
    {
     "data": {
      "text/plain": [
       "(438872, 6)"
      ]
     },
     "execution_count": 45,
     "metadata": {},
     "output_type": "execute_result"
    }
   ],
   "source": [
    "data.shape"
   ]
  },
  {
   "cell_type": "code",
   "execution_count": 46,
   "metadata": {},
   "outputs": [
    {
     "data": {
      "text/plain": [
       "242"
      ]
     },
     "execution_count": 46,
     "metadata": {},
     "output_type": "execute_result"
    }
   ],
   "source": [
    "len(set(data['AdsetId']))"
   ]
  },
  {
   "cell_type": "code",
   "execution_count": 47,
   "metadata": {},
   "outputs": [],
   "source": [
    "opt_data = (data[['DateStart','AdsetId','CTR']].copy(deep = True))"
   ]
  },
  {
   "cell_type": "code",
   "execution_count": 48,
   "metadata": {},
   "outputs": [
    {
     "data": {
      "text/plain": [
       "(130, 242)"
      ]
     },
     "execution_count": 48,
     "metadata": {},
     "output_type": "execute_result"
    }
   ],
   "source": [
    "data_final = pd.pivot_table(data=opt_data, values= 'CTR', columns='AdsetId',fill_value= 0,index='DateStart',aggfunc='sum').reset_index()\n",
    "data_final.drop('DateStart',inplace= True, axis=1)\n",
    "data_final.shape"
   ]
  },
  {
   "cell_type": "code",
   "execution_count": 49,
   "metadata": {},
   "outputs": [],
   "source": [
    "# data_initial_set = pd.pivot_table(data = data, values= ['LinkClick','conversions'], fill_value= 0, index='id',aggfunc='sum')"
   ]
  },
  {
   "cell_type": "code",
   "execution_count": 50,
   "metadata": {},
   "outputs": [],
   "source": [
    "# data_initial_set['TotalClicksperConversion'] = (data_initial_set['LinkClick']/data_initial_set['Conversions']).replace([np.inf, -np.inf,np.NAN], 0)"
   ]
  },
  {
   "cell_type": "code",
   "execution_count": 51,
   "metadata": {},
   "outputs": [],
   "source": [
    "# data_initial_set = pd.pivot_table(data = data_initial_set, columns= 'id', values= 'TotalClicksperConversion', fill_value= 0).reset_index()"
   ]
  },
  {
   "cell_type": "code",
   "execution_count": 52,
   "metadata": {},
   "outputs": [],
   "source": [
    "# data_initial_set.drop('index',inplace= True,axis =1)"
   ]
  },
  {
   "cell_type": "code",
   "execution_count": 53,
   "metadata": {},
   "outputs": [],
   "source": [
    "# data_initial_set"
   ]
  },
  {
   "cell_type": "code",
   "execution_count": 54,
   "metadata": {},
   "outputs": [],
   "source": [
    "# import gc\n",
    "# del opt_data\n",
    "# # del raw_data\n",
    "# gc.collect()"
   ]
  },
  {
   "cell_type": "code",
   "execution_count": 55,
   "metadata": {
    "scrolled": true
   },
   "outputs": [
    {
     "data": {
      "text/plain": [
       "(243, 242)"
      ]
     },
     "execution_count": 55,
     "metadata": {},
     "output_type": "execute_result"
    }
   ],
   "source": [
    "len_data_final = data_final.shape[1]\n",
    "df = pd.DataFrame()\n",
    "appender = data_first_row.iloc[[0]]\n",
    "while len_data_final >= 0:\n",
    "    df = df.append(appender,ignore_index= True)\n",
    "    len_data_final -= 1\n",
    "df.shape "
   ]
  },
  {
   "cell_type": "code",
   "execution_count": 56,
   "metadata": {},
   "outputs": [
    {
     "data": {
      "text/plain": [
       "(373, 242)"
      ]
     },
     "execution_count": 56,
     "metadata": {},
     "output_type": "execute_result"
    }
   ],
   "source": [
    "data_final = df.append(data_final)\n",
    "data_final.shape"
   ]
  },
  {
   "cell_type": "code",
   "execution_count": 81,
   "metadata": {
    "scrolled": true
   },
   "outputs": [],
   "source": [
    "import random\n",
    "import math\n",
    "from collections import defaultdict\n",
    "reward = 0\n",
    "N = data_final.shape[0]\n",
    "d = data_final.shape[1]\n",
    "Exp = 5 ###Number of experiments\n",
    "experiment_data = defaultdict()\n",
    "for exp in range(Exp):\n",
    "    id_reward_map = defaultdict()\n",
    "    id_reward_map = {}\n",
    "    numbers_of_rewards_1 = [0] * d\n",
    "    numbers_of_rewards_0 = [0] * d\n",
    "    sums_of_rewards = [0] * d\n",
    "    total_reward = 0\n",
    "\n",
    "    for key, value in enumerate(data_final.columns):\n",
    "        id_reward_map[key] = [0, value, 0]\n",
    "\n",
    "    for n in range(0, N):\n",
    "        ad = 0\n",
    "        max_random = 0\n",
    "        for i in range(0, d):\n",
    "            random_beta = random.betavariate(numbers_of_rewards_1[i] + 1, numbers_of_rewards_0[i] + 1)\n",
    "    #         print(\"Ad id {}  Max random .{}  Random beta .{}\".format(i, max_random, random_beta))\n",
    "    #         print(\"\".format())\n",
    "            if random_beta > max_random:\n",
    "                max_random = random_beta\n",
    "                ad = i\n",
    "    #             print(ad)\n",
    "                id_reward_map[ad][0] += 1\n",
    "        #     print(ads_selected)\n",
    "                reward = data_final.values[n, ad]\n",
    "                if reward > 0:\n",
    "                    numbers_of_rewards_1[ad]+= 1\n",
    "                    id_reward_map[ad][2]+=reward\n",
    "                    sums_of_rewards[ad] = sums_of_rewards[ad] + reward\n",
    "                    total_reward += reward\n",
    "                else:\n",
    "                    numbers_of_rewards_0[ad]+= 1\n",
    "#             print(\"Reward {}\".format(reward))\n",
    "#             print(\"Total re\")\n",
    "                \n",
    "    experiment_data[exp] = {'id_reward_map': id_reward_map, 'total_reward': total_reward}\n",
    "\n",
    "    #Visualising the results\n",
    "    # plt.hist(id_reward_map[1])\n",
    "    # plt.title('Histogram of ads selections')\n",
    "    # plt.xlabel('Ads')\n",
    "    # plt.ylabel('Number of times each ad was selected')\n",
    "    # plt.show()"
   ]
  },
  {
   "cell_type": "code",
   "execution_count": 82,
   "metadata": {},
   "outputs": [
    {
     "data": {
      "text/plain": [
       "[(255.99764996033838, 4)]"
      ]
     },
     "execution_count": 82,
     "metadata": {},
     "output_type": "execute_result"
    }
   ],
   "source": [
    "val = sorted([(value['total_reward'],key) for (key,value) in experiment_data.items()], reverse=True)[:1]\n",
    "val"
   ]
  },
  {
   "cell_type": "code",
   "execution_count": 83,
   "metadata": {},
   "outputs": [],
   "source": [
    "total_weights = val[0][0]\n",
    "experiment_selected = val[0][1]\n",
    "# Weights_selected = \n",
    "ad_weights = defaultdict()\n",
    "for key, value in experiment_data.items():\n",
    "    for k,val in value['id_reward_map'].items():\n",
    "        ad_weights[val[1]] = val[2]"
   ]
  },
  {
   "cell_type": "code",
   "execution_count": 84,
   "metadata": {},
   "outputs": [
    {
     "data": {
      "text/plain": [
       "255.9976499603385"
      ]
     },
     "execution_count": 84,
     "metadata": {},
     "output_type": "execute_result"
    }
   ],
   "source": [
    "sum(ad_weights.values())"
   ]
  },
  {
   "cell_type": "code",
   "execution_count": 85,
   "metadata": {},
   "outputs": [
    {
     "name": "stdout",
     "output_type": "stream",
     "text": [
      "255.9976499603385\n"
     ]
    }
   ],
   "source": [
    "print(sum(sums_of_rewards))"
   ]
  },
  {
   "cell_type": "code",
   "execution_count": 86,
   "metadata": {},
   "outputs": [
    {
     "data": {
      "text/plain": [
       "255.99764996033838"
      ]
     },
     "execution_count": 86,
     "metadata": {},
     "output_type": "execute_result"
    }
   ],
   "source": [
    "total_reward"
   ]
  },
  {
   "cell_type": "code",
   "execution_count": null,
   "metadata": {},
   "outputs": [],
   "source": []
  }
 ],
 "metadata": {
  "kernelspec": {
   "display_name": "Python 3",
   "language": "python",
   "name": "python3"
  },
  "language_info": {
   "codemirror_mode": {
    "name": "ipython",
    "version": 3
   },
   "file_extension": ".py",
   "mimetype": "text/x-python",
   "name": "python",
   "nbconvert_exporter": "python",
   "pygments_lexer": "ipython3",
   "version": "3.6.5"
  }
 },
 "nbformat": 4,
 "nbformat_minor": 2
}
