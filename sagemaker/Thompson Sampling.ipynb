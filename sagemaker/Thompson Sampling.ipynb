{
 "cells": [
  {
   "cell_type": "code",
   "execution_count": 199,
   "metadata": {},
   "outputs": [],
   "source": [
    "import pandas as pd\n",
    "import numpy as np\n",
    "import matplotlib.pyplot as plt"
   ]
  },
  {
   "cell_type": "code",
   "execution_count": 200,
   "metadata": {},
   "outputs": [],
   "source": [
    "# cols =['DateStart','AdsetId','LinkClick','Conversions','Impressions','Spend']\n",
    "# data = pd.read_csv('RagingBull_FB_Hourly.csv', usecols=cols)\n",
    "# data.to_csv('Final_Set')\n",
    "# data.fillna(0,inplace=True)"
   ]
  },
  {
   "cell_type": "code",
   "execution_count": 201,
   "metadata": {},
   "outputs": [],
   "source": [
    "data = pd.read_csv('Final_Set')\n",
    "data.fillna(0, inplace= True)"
   ]
  },
  {
   "cell_type": "code",
   "execution_count": 202,
   "metadata": {},
   "outputs": [],
   "source": [
    "data['CTR'] = (data['LinkClick']/data['Impressions']).replace([np.inf, -np.inf], 0)"
   ]
  },
  {
   "cell_type": "code",
   "execution_count": 203,
   "metadata": {
    "scrolled": true
   },
   "outputs": [
    {
     "data": {
      "text/html": [
       "<div>\n",
       "<style scoped>\n",
       "    .dataframe tbody tr th:only-of-type {\n",
       "        vertical-align: middle;\n",
       "    }\n",
       "\n",
       "    .dataframe tbody tr th {\n",
       "        vertical-align: top;\n",
       "    }\n",
       "\n",
       "    .dataframe thead th {\n",
       "        text-align: right;\n",
       "    }\n",
       "</style>\n",
       "<table border=\"1\" class=\"dataframe\">\n",
       "  <thead>\n",
       "    <tr style=\"text-align: right;\">\n",
       "      <th></th>\n",
       "      <th>Unnamed: 0</th>\n",
       "      <th>Spend</th>\n",
       "      <th>DateStart</th>\n",
       "      <th>LinkClick</th>\n",
       "      <th>Impressions</th>\n",
       "      <th>AdsetId</th>\n",
       "      <th>Conversions</th>\n",
       "      <th>CTR</th>\n",
       "    </tr>\n",
       "  </thead>\n",
       "  <tbody>\n",
       "    <tr>\n",
       "      <th>0</th>\n",
       "      <td>0</td>\n",
       "      <td>1.58</td>\n",
       "      <td>2018-07-12</td>\n",
       "      <td>0.0</td>\n",
       "      <td>27.0</td>\n",
       "      <td>6094650899637</td>\n",
       "      <td>0.0</td>\n",
       "      <td>0.0</td>\n",
       "    </tr>\n",
       "    <tr>\n",
       "      <th>1</th>\n",
       "      <td>1</td>\n",
       "      <td>0.02</td>\n",
       "      <td>2018-05-18</td>\n",
       "      <td>0.0</td>\n",
       "      <td>3.0</td>\n",
       "      <td>6093425908037</td>\n",
       "      <td>0.0</td>\n",
       "      <td>0.0</td>\n",
       "    </tr>\n",
       "    <tr>\n",
       "      <th>2</th>\n",
       "      <td>2</td>\n",
       "      <td>0.02</td>\n",
       "      <td>2018-05-26</td>\n",
       "      <td>0.0</td>\n",
       "      <td>2.0</td>\n",
       "      <td>6093224252437</td>\n",
       "      <td>0.0</td>\n",
       "      <td>0.0</td>\n",
       "    </tr>\n",
       "    <tr>\n",
       "      <th>3</th>\n",
       "      <td>3</td>\n",
       "      <td>0.04</td>\n",
       "      <td>2018-06-07</td>\n",
       "      <td>0.0</td>\n",
       "      <td>7.0</td>\n",
       "      <td>6094650898437</td>\n",
       "      <td>0.0</td>\n",
       "      <td>0.0</td>\n",
       "    </tr>\n",
       "    <tr>\n",
       "      <th>4</th>\n",
       "      <td>4</td>\n",
       "      <td>0.04</td>\n",
       "      <td>2018-06-04</td>\n",
       "      <td>0.0</td>\n",
       "      <td>2.0</td>\n",
       "      <td>6095173565837</td>\n",
       "      <td>0.0</td>\n",
       "      <td>0.0</td>\n",
       "    </tr>\n",
       "  </tbody>\n",
       "</table>\n",
       "</div>"
      ],
      "text/plain": [
       "   Unnamed: 0  Spend   DateStart  LinkClick  Impressions        AdsetId  \\\n",
       "0           0   1.58  2018-07-12        0.0         27.0  6094650899637   \n",
       "1           1   0.02  2018-05-18        0.0          3.0  6093425908037   \n",
       "2           2   0.02  2018-05-26        0.0          2.0  6093224252437   \n",
       "3           3   0.04  2018-06-07        0.0          7.0  6094650898437   \n",
       "4           4   0.04  2018-06-04        0.0          2.0  6095173565837   \n",
       "\n",
       "   Conversions  CTR  \n",
       "0          0.0  0.0  \n",
       "1          0.0  0.0  \n",
       "2          0.0  0.0  \n",
       "3          0.0  0.0  \n",
       "4          0.0  0.0  "
      ]
     },
     "execution_count": 203,
     "metadata": {},
     "output_type": "execute_result"
    }
   ],
   "source": [
    "data.head()"
   ]
  },
  {
   "cell_type": "code",
   "execution_count": 204,
   "metadata": {},
   "outputs": [],
   "source": [
    "data_total_IPS = pd.pivot_table(data = data, values= ['Spend','Impressions'], fill_value= 0, index='AdsetId',aggfunc='sum')"
   ]
  },
  {
   "cell_type": "code",
   "execution_count": 205,
   "metadata": {},
   "outputs": [],
   "source": [
    "data_total_IPS['IPS'] = (data_total_IPS['Impressions']/ data_total_IPS['Spend']).replace([np.inf, -np.inf], 0)"
   ]
  },
  {
   "cell_type": "code",
   "execution_count": 206,
   "metadata": {},
   "outputs": [],
   "source": [
    "data_total_IPS.drop(['Impressions','Spend'], axis=1, inplace=True)"
   ]
  },
  {
   "cell_type": "code",
   "execution_count": 207,
   "metadata": {},
   "outputs": [],
   "source": [
    "ads_IPS = data_total_IPS.values"
   ]
  },
  {
   "cell_type": "code",
   "execution_count": 208,
   "metadata": {},
   "outputs": [],
   "source": [
    "data_total_CTR = pd.pivot_table(data = data, values= ['LinkClick','Impressions'], fill_value= 0, index='AdsetId',aggfunc='sum')"
   ]
  },
  {
   "cell_type": "code",
   "execution_count": 209,
   "metadata": {},
   "outputs": [],
   "source": [
    "data_total_CTR['CTR_agg'] = (data_total_CTR['LinkClick']/data_total_CTR['Impressions']).replace([np.inf, -np.inf], 0)\n",
    "data_total_CTR.drop(['LinkClick','Impressions'],inplace = True, axis = 1)\n",
    "data_first_row = pd.pivot_table(data = data_total_CTR, values= ['CTR_agg'],columns='AdsetId').replace([np.inf, -np.inf], 0)"
   ]
  },
  {
   "cell_type": "code",
   "execution_count": 210,
   "metadata": {},
   "outputs": [
    {
     "data": {
      "text/html": [
       "<div>\n",
       "<style scoped>\n",
       "    .dataframe tbody tr th:only-of-type {\n",
       "        vertical-align: middle;\n",
       "    }\n",
       "\n",
       "    .dataframe tbody tr th {\n",
       "        vertical-align: top;\n",
       "    }\n",
       "\n",
       "    .dataframe thead th {\n",
       "        text-align: right;\n",
       "    }\n",
       "</style>\n",
       "<table border=\"1\" class=\"dataframe\">\n",
       "  <thead>\n",
       "    <tr style=\"text-align: right;\">\n",
       "      <th></th>\n",
       "      <th>CTR_agg</th>\n",
       "    </tr>\n",
       "    <tr>\n",
       "      <th>AdsetId</th>\n",
       "      <th></th>\n",
       "    </tr>\n",
       "  </thead>\n",
       "  <tbody>\n",
       "    <tr>\n",
       "      <th>6082903610237</th>\n",
       "      <td>0.013802</td>\n",
       "    </tr>\n",
       "    <tr>\n",
       "      <th>6082903612037</th>\n",
       "      <td>0.013670</td>\n",
       "    </tr>\n",
       "    <tr>\n",
       "      <th>6082903614437</th>\n",
       "      <td>0.010551</td>\n",
       "    </tr>\n",
       "    <tr>\n",
       "      <th>6082903615637</th>\n",
       "      <td>0.009154</td>\n",
       "    </tr>\n",
       "    <tr>\n",
       "      <th>6082903618837</th>\n",
       "      <td>0.012005</td>\n",
       "    </tr>\n",
       "  </tbody>\n",
       "</table>\n",
       "</div>"
      ],
      "text/plain": [
       "                CTR_agg\n",
       "AdsetId                \n",
       "6082903610237  0.013802\n",
       "6082903612037  0.013670\n",
       "6082903614437  0.010551\n",
       "6082903615637  0.009154\n",
       "6082903618837  0.012005"
      ]
     },
     "execution_count": 210,
     "metadata": {},
     "output_type": "execute_result"
    }
   ],
   "source": [
    "data_total_CTR.head()"
   ]
  },
  {
   "cell_type": "code",
   "execution_count": 211,
   "metadata": {},
   "outputs": [],
   "source": [
    "data = data.join(data_total_CTR, on = ['AdsetId'])"
   ]
  },
  {
   "cell_type": "code",
   "execution_count": 212,
   "metadata": {},
   "outputs": [],
   "source": [
    "data = data[data['CTR_agg'] > 0]"
   ]
  },
  {
   "cell_type": "code",
   "execution_count": 213,
   "metadata": {},
   "outputs": [],
   "source": [
    "data.drop(['CTR_agg'], inplace= True, axis = 1)"
   ]
  },
  {
   "cell_type": "code",
   "execution_count": 214,
   "metadata": {},
   "outputs": [
    {
     "data": {
      "text/html": [
       "<div>\n",
       "<style scoped>\n",
       "    .dataframe tbody tr th:only-of-type {\n",
       "        vertical-align: middle;\n",
       "    }\n",
       "\n",
       "    .dataframe tbody tr th {\n",
       "        vertical-align: top;\n",
       "    }\n",
       "\n",
       "    .dataframe thead th {\n",
       "        text-align: right;\n",
       "    }\n",
       "</style>\n",
       "<table border=\"1\" class=\"dataframe\">\n",
       "  <thead>\n",
       "    <tr style=\"text-align: right;\">\n",
       "      <th></th>\n",
       "      <th>Unnamed: 0</th>\n",
       "      <th>Spend</th>\n",
       "      <th>DateStart</th>\n",
       "      <th>LinkClick</th>\n",
       "      <th>Impressions</th>\n",
       "      <th>AdsetId</th>\n",
       "      <th>Conversions</th>\n",
       "      <th>CTR</th>\n",
       "    </tr>\n",
       "  </thead>\n",
       "  <tbody>\n",
       "    <tr>\n",
       "      <th>0</th>\n",
       "      <td>0</td>\n",
       "      <td>1.58</td>\n",
       "      <td>2018-07-12</td>\n",
       "      <td>0.0</td>\n",
       "      <td>27.0</td>\n",
       "      <td>6094650899637</td>\n",
       "      <td>0.0</td>\n",
       "      <td>0.0</td>\n",
       "    </tr>\n",
       "    <tr>\n",
       "      <th>1</th>\n",
       "      <td>1</td>\n",
       "      <td>0.02</td>\n",
       "      <td>2018-05-18</td>\n",
       "      <td>0.0</td>\n",
       "      <td>3.0</td>\n",
       "      <td>6093425908037</td>\n",
       "      <td>0.0</td>\n",
       "      <td>0.0</td>\n",
       "    </tr>\n",
       "    <tr>\n",
       "      <th>2</th>\n",
       "      <td>2</td>\n",
       "      <td>0.02</td>\n",
       "      <td>2018-05-26</td>\n",
       "      <td>0.0</td>\n",
       "      <td>2.0</td>\n",
       "      <td>6093224252437</td>\n",
       "      <td>0.0</td>\n",
       "      <td>0.0</td>\n",
       "    </tr>\n",
       "    <tr>\n",
       "      <th>3</th>\n",
       "      <td>3</td>\n",
       "      <td>0.04</td>\n",
       "      <td>2018-06-07</td>\n",
       "      <td>0.0</td>\n",
       "      <td>7.0</td>\n",
       "      <td>6094650898437</td>\n",
       "      <td>0.0</td>\n",
       "      <td>0.0</td>\n",
       "    </tr>\n",
       "    <tr>\n",
       "      <th>4</th>\n",
       "      <td>4</td>\n",
       "      <td>0.04</td>\n",
       "      <td>2018-06-04</td>\n",
       "      <td>0.0</td>\n",
       "      <td>2.0</td>\n",
       "      <td>6095173565837</td>\n",
       "      <td>0.0</td>\n",
       "      <td>0.0</td>\n",
       "    </tr>\n",
       "  </tbody>\n",
       "</table>\n",
       "</div>"
      ],
      "text/plain": [
       "   Unnamed: 0  Spend   DateStart  LinkClick  Impressions        AdsetId  \\\n",
       "0           0   1.58  2018-07-12        0.0         27.0  6094650899637   \n",
       "1           1   0.02  2018-05-18        0.0          3.0  6093425908037   \n",
       "2           2   0.02  2018-05-26        0.0          2.0  6093224252437   \n",
       "3           3   0.04  2018-06-07        0.0          7.0  6094650898437   \n",
       "4           4   0.04  2018-06-04        0.0          2.0  6095173565837   \n",
       "\n",
       "   Conversions  CTR  \n",
       "0          0.0  0.0  \n",
       "1          0.0  0.0  \n",
       "2          0.0  0.0  \n",
       "3          0.0  0.0  \n",
       "4          0.0  0.0  "
      ]
     },
     "execution_count": 214,
     "metadata": {},
     "output_type": "execute_result"
    }
   ],
   "source": [
    "data.head()"
   ]
  },
  {
   "cell_type": "code",
   "execution_count": 215,
   "metadata": {},
   "outputs": [
    {
     "data": {
      "text/plain": [
       "(438872, 8)"
      ]
     },
     "execution_count": 215,
     "metadata": {},
     "output_type": "execute_result"
    }
   ],
   "source": [
    "data.shape"
   ]
  },
  {
   "cell_type": "code",
   "execution_count": 216,
   "metadata": {},
   "outputs": [
    {
     "data": {
      "text/plain": [
       "242"
      ]
     },
     "execution_count": 216,
     "metadata": {},
     "output_type": "execute_result"
    }
   ],
   "source": [
    "len(set(data['AdsetId']))"
   ]
  },
  {
   "cell_type": "code",
   "execution_count": 217,
   "metadata": {},
   "outputs": [],
   "source": [
    "opt_data = (data[['DateStart','AdsetId','CTR']].copy(deep = True))"
   ]
  },
  {
   "cell_type": "code",
   "execution_count": 218,
   "metadata": {},
   "outputs": [
    {
     "data": {
      "text/plain": [
       "(130, 242)"
      ]
     },
     "execution_count": 218,
     "metadata": {},
     "output_type": "execute_result"
    }
   ],
   "source": [
    "data_final = pd.pivot_table(data=opt_data, values= 'CTR', columns='AdsetId',fill_value= 0,index='DateStart',aggfunc='sum').reset_index()\n",
    "data_final.drop('DateStart',inplace= True, axis=1)\n",
    "data_final.shape"
   ]
  },
  {
   "cell_type": "code",
   "execution_count": 219,
   "metadata": {},
   "outputs": [],
   "source": [
    "# data_initial_set = pd.pivot_table(data = data, values= ['LinkClick','conversions'], fill_value= 0, index='id',aggfunc='sum')"
   ]
  },
  {
   "cell_type": "code",
   "execution_count": 220,
   "metadata": {},
   "outputs": [],
   "source": [
    "# data_initial_set['TotalClicksperConversion'] = (data_initial_set['LinkClick']/data_initial_set['Conversions']).replace([np.inf, -np.inf,np.NAN], 0)"
   ]
  },
  {
   "cell_type": "code",
   "execution_count": 221,
   "metadata": {},
   "outputs": [],
   "source": [
    "# data_initial_set = pd.pivot_table(data = data_initial_set, columns= 'id', values= 'TotalClicksperConversion', fill_value= 0).reset_index()"
   ]
  },
  {
   "cell_type": "code",
   "execution_count": 222,
   "metadata": {},
   "outputs": [],
   "source": [
    "# data_initial_set.drop('index',inplace= True,axis =1)"
   ]
  },
  {
   "cell_type": "code",
   "execution_count": 223,
   "metadata": {},
   "outputs": [],
   "source": [
    "# data_initial_set"
   ]
  },
  {
   "cell_type": "code",
   "execution_count": 224,
   "metadata": {},
   "outputs": [],
   "source": [
    "# import gc\n",
    "# del opt_data\n",
    "# # del raw_data\n",
    "# gc.collect()"
   ]
  },
  {
   "cell_type": "code",
   "execution_count": 225,
   "metadata": {
    "scrolled": true
   },
   "outputs": [
    {
     "data": {
      "text/plain": [
       "(243, 242)"
      ]
     },
     "execution_count": 225,
     "metadata": {},
     "output_type": "execute_result"
    }
   ],
   "source": [
    "len_data_final = data_final.shape[1]\n",
    "df = pd.DataFrame()\n",
    "appender = data_first_row.iloc[[0]]\n",
    "while len_data_final >= 0:\n",
    "    df = df.append(appender,ignore_index= True)\n",
    "    len_data_final -= 1\n",
    "df.shape "
   ]
  },
  {
   "cell_type": "code",
   "execution_count": 226,
   "metadata": {},
   "outputs": [
    {
     "data": {
      "text/plain": [
       "(373, 242)"
      ]
     },
     "execution_count": 226,
     "metadata": {},
     "output_type": "execute_result"
    }
   ],
   "source": [
    "data_final = df.append(data_final)\n",
    "data_final.shape"
   ]
  },
  {
   "cell_type": "code",
   "execution_count": 227,
   "metadata": {
    "scrolled": true
   },
   "outputs": [],
   "source": [
    "import random\n",
    "import math\n",
    "from collections import defaultdict\n",
    "N = data_final.shape[0]\n",
    "d = data_final.shape[1]\n",
    "Exp = 10 ###Number of experiments\n",
    "experiment_data = defaultdict()\n",
    "for exp in range(Exp):\n",
    "    id_reward_map = defaultdict()\n",
    "    id_reward_map = {}\n",
    "    numbers_of_rewards_1 = [0] * d\n",
    "    numbers_of_rewards_0 = [0] * d\n",
    "    sums_of_rewards = [0] * d\n",
    "    total_reward = 0\n",
    "    reward = 0\n",
    "    for key, value in enumerate(data_final.columns):\n",
    "        id_reward_map[key] = [0, value, 0]\n",
    "\n",
    "    for n in range(0, N):\n",
    "        ad = 0\n",
    "        max_random = 0\n",
    "        for i in range(0, d):\n",
    "            random_beta = random.betavariate(numbers_of_rewards_1[i] + 1, numbers_of_rewards_0[i] + 1)\n",
    "    #         print(\"Ad id {}  Max random .{}  Random beta .{}\".format(i, max_random, random_beta))\n",
    "    #         print(\"\".format())\n",
    "            if random_beta > max_random:\n",
    "                max_random = random_beta\n",
    "                ad = i\n",
    "    #             print(ad)\n",
    "                id_reward_map[ad][0] += 1\n",
    "        #     print(ads_selected)\n",
    "                reward = data_final.values[n, ad]\n",
    "                if reward > 0:\n",
    "                    numbers_of_rewards_1[ad]+= 1\n",
    "                    id_reward_map[ad][2]+=reward\n",
    "                    sums_of_rewards[ad] = sums_of_rewards[ad] + reward\n",
    "                    total_reward += reward\n",
    "                else:\n",
    "                    numbers_of_rewards_0[ad]+= 1\n",
    "#             print(\"Reward {}\".format(reward))\n",
    "#             print(\"Total re\")\n",
    "                \n",
    "    experiment_data[exp] = {'id_reward_map': id_reward_map, 'total_reward': total_reward}\n",
    "\n",
    "    #Visualising the results\n",
    "    # plt.hist(id_reward_map[1])\n",
    "    # plt.title('Histogram of ads selections')\n",
    "    # plt.xlabel('Ads')\n",
    "    # plt.ylabel('Number of times each ad was selected')\n",
    "    # plt.show()"
   ]
  },
  {
   "cell_type": "code",
   "execution_count": 228,
   "metadata": {},
   "outputs": [],
   "source": [
    "val = sorted([(value['total_reward'],key) for (key,value) in experiment_data.items()], reverse=True)[:1]\n",
    "val\n",
    "total_weights = val[0][0]\n",
    "experiment_selected = val[0][1]"
   ]
  },
  {
   "cell_type": "code",
   "execution_count": 229,
   "metadata": {},
   "outputs": [],
   "source": [
    "# Weights_selected = \n",
    "ad_weights = defaultdict()\n",
    "for key, value in experiment_data.items():\n",
    "    for k,val in value['id_reward_map'].items():\n",
    "        ad_weights[val[1]] = (val[2], val[2]/total_reward)\n",
    "        "
   ]
  },
  {
   "cell_type": "code",
   "execution_count": 310,
   "metadata": {},
   "outputs": [],
   "source": [
    "pd.DataFrame(id_reward_map).to_csv('Reward_Map')"
   ]
  },
  {
   "cell_type": "code",
   "execution_count": 308,
   "metadata": {},
   "outputs": [
    {
     "name": "stdout",
     "output_type": "stream",
     "text": [
      "defaultdict(None, {6082903610237: (4.7682042539023115, 0.012424399750250647), 6082903612037: (0.6288079987501952, 0.0016384704862912934), 6082903614437: (0.7623700848520973, 0.0019864901307621334), 6082903615637: (0.09153763754990747, 0.00023851750901460127), 6082903618837: (0.08403151181693135, 0.00021895897047132995), 6082903621237: (0.0913907284768212, 0.00023813471143426085), 6088935250037: (0.047715736040609136, 0.00012433179188177363), 6088935251437: (2.794815422692565, 0.007282386028509585), 6088935252837: (0.040578458881933954, 0.00010573435355367757), 6089948390437: (0, 0.0), 6089948393437: (2.205720302452544, 0.005747394472979224), 6093223857637: (3.4617640990351983, 0.009020238797924773), 6093223982237: (15.005360173531567, 0.03909912060496772), 6093224252437: (4.490203804756338, 0.011700020397559947), 6093225129837: (7.826027171825392, 0.020392098337546228), 6093225348037: (14.265701694040168, 0.03717180957999584), 6093225829037: (71.62266444529958, 0.18662552333369423), 6093225992037: (6.9841238813941615, 0.018198370369033056), 6093225992237: (0.028002405934638777, 7.29652227074816e-05), 6093225992437: (3.6535973174918746, 0.009520094186781555), 6093225992637: (0, 0.0), 6093425908037: (0.004134817988662312, 1.0773999780656292e-05), 6093539314437: (0, 0.0), 6093539315037: (0.14385231626610934, 0.00037483265965943305), 6093539315237: (5.50461928105903, 0.014343259386349241), 6093539315637: (0.010415105649632848, 2.7138400358212416e-05), 6094650889237: (3.3932210707617076, 0.008841637811470465), 6094650898437: (2.5144456082017683, 0.006551832875236751), 6094650899037: (0.0074076737746772625, 1.9302004548298454e-05), 6094650899437: (28.972660441137275, 0.07549339247670946), 6094650899637: (76.29911293357321, 0.19881083720363094), 6095173565837: (0, 0.0), 6095175056437: (0.02522243082197372, 6.572150573222166e-05), 6095175488237: (0.022910191622207955, 5.9696557427505426e-05), 6095649371037: (0.006483808691217717, 1.6894710627781928e-05), 6095649684237: (14.19567644288167, 0.03698934639958724), 6095652130637: (0.009007648953301127, 2.3471022935762196e-05), 6095652240237: (0, 0.0), 6095652303237: (0, 0.0), 6095652381237: (0, 0.0), 6095821149237: (0.026373003119387468, 6.871952540659562e-05), 6095821157237: (0.24361873990306945, 0.0006347917266192861), 6095821791237: (0, 0.0), 6095821791437: (0.0039515449893113945, 1.0296449557110464e-05), 6095907719437: (2.0323478587813413, 0.005295641898813393), 6095907846437: (0.010085173100555109, 2.6278702731583646e-05), 6095908288037: (0, 0.0), 6095909111037: (0.017472335468841, 4.5527261181754555e-05), 6095974804837: (0.007128103986458155, 1.8573536005013127e-05), 6095974805037: (1.2377983375264976, 0.0032253025534799075), 6095974805237: (0.011449636777621165, 2.98340542362285e-05), 6095974805437: (0.012164098365449282, 3.169571030226439e-05), 6095974805837: (5.326827149800071, 0.013879990534264617), 6095974806437: (0, 0.0), 6095974806637: (59.11261369884896, 0.1540283728985761), 6096181268837: (0, 0.0), 6096183109437: (0.0065307176045431075, 1.7016940100340183e-05), 6096203161837: (0, 0.0), 6096203210637: (0, 0.0), 6096203254637: (0, 0.0), 6096204362837: (0.03627795314097719, 9.45286250217745e-05), 6096204397637: (0.025555655538558444, 6.65897816837236e-05), 6096204431237: (0.02123730378578024, 5.533755221079314e-05), 6096266172837: (0, 0.0), 6096390567637: (2.8083077166707424, 0.007317542587458498), 6096767321237: (0, 0.0), 6096769713437: (0, 0.0), 6096770291437: (0.35488821906721846, 0.0009247240398179429), 6096770383837: (0.006745683905636648, 1.7577072828595915e-05), 6096914657437: (0.004937243471536494, 1.286486133736447e-05), 6096915538437: (0, 0.0), 6097002343437: (0, 0.0), 6097002343637: (0.09967255460055523, 0.00025971447457866253), 6097011459037: (0.007388642600802195, 1.9252415457867427e-05), 6097011461037: (1.6524760079278153, 0.0043058185863977805), 6097011905837: (0, 0.0), 6097011906637: (0.00815494393476045, 2.1249149153672465e-05), 6097011987837: (0, 0.0), 6097011988037: (0.004786142976525108, 1.2471142265672902e-05), 6097012376637: (0.0008116883116883117, 2.114997495916466e-06), 6097012377037: (0.006082725060827251, 1.5849616271101496e-05), 6097238477437: (0, 0.0), 6097338830637: (0.0060414269275028765, 1.5742006678466858e-05), 6097338831237: (1.8295009560991375, 0.004767088407221394), 6097838226437: (1.5891117436876343, 0.00414071178583314), 6098431800037: (0, 0.0), 6098433929037: (0, 0.0), 6098501133637: (0.014179051627328187, 3.694602750148391e-05), 6098502811837: (0, 0.0), 6098504734437: (0, 0.0), 6098504800437: (0, 0.0), 6098577052037: (0.04386182902584493, 0.00011428975534096513), 6099407524037: (0.00537708156154838, 1.401093729483254e-05), 6099407524637: (0, 0.0), 6099407525037: (0, 0.0), 6099407525437: (1.061290732906836, 0.0027653807628059642), 6099505823837: (0.05571358509073075, 0.00014517160252108298), 6099576111037: (0, 0.0), 6099576111437: (1.115393377761265, 0.0029063547755419214), 6099576111637: (0.605651844157898, 0.0015781330288306891), 6099576111837: (0, 0.0), 6099576112037: (0.013187383973144291, 3.4362061987655386e-05), 6099577763437: (0, 0.0), 6099577763837: (0, 0.0), 6099577764037: (0.01090489817464507, 2.8414641433761184e-05), 6099577764237: (0.03584586406155221, 9.34027404823066e-05), 6099577764437: (0, 0.0), 6099577764637: (1.0440530554461593, 0.0027204649445789963), 6099577764837: (0, 0.0), 6099577765237: (0, 0.0), 6100424197437: (0, 0.0), 6100424331437: (0.0173053152039555, 4.509206033321039e-05), 6100424483237: (0, 0.0), 6100424830637: (0.00977682438843282, 2.5475245610646153e-05), 6100424862437: (0.043277900220396716, 0.00011276822553262323), 6100424877637: (0.012972697982024758, 3.380265965662796e-05), 6100660841037: (0.02929258821543137, 7.632702089264501e-05), 6100660841237: (0.007847411444141689, 2.0447818842264216e-05), 6100660841437: (0.007285974499089253, 1.8984895555330316e-05), 6100660842237: (0, 0.0), 6100660843437: (0, 0.0), 6101602100237: (0.04453205141098618, 0.0001160361383378232), 6101602100437: (0, 0.0), 6101812273437: (0, 0.0), 6102555182437: (0.010771992818671455, 2.8068333015824985e-05), 6102564011437: (0.006396588486140725, 1.666744295289394e-05), 6102564024637: (0, 0.0), 6102929339437: (0, 0.0), 6102929382637: (0.005455308434746118, 1.4214771252454098e-05), 6102929422437: (0.005920550038197097, 1.5427040558449516e-05), 23842792006890742: (0, 0.0), 23842792032510742: (0, 0.0), 23842792590100742: (0, 0.0), 23842792615770742: (0, 0.0), 23842792616820742: (0, 0.0), 23842793569860742: (13.56110629556607, 0.03533586161579844), 23842793654970742: (0, 0.0), 23842793657500742: (0, 0.0), 23842793663640742: (0.024456135361865493, 6.372478734177205e-05), 23842795434700742: (0, 0.0), 23842795437410742: (0.012213976499690785, 3.18256766052192e-05), 23842795438820742: (0, 0.0), 23842795441640742: (0.025650779848921255, 6.683764490328833e-05), 23842798572830742: (0, 0.0), 23842804739490742: (0.048678720445062586, 0.00012684101811393325), 23842804757580742: (0.03657120743034055, 9.529275095378427e-05), 23842804757940742: (0, 0.0), 23842804758420742: (0, 0.0), 23842804759230742: (0, 0.0), 23842804795440742: (0, 0.0), 23842804833090742: (0.01495914519170333, 3.897869929369217e-05), 23842804848190742: (0, 0.0), 23842804849930742: (0, 0.0), 23842804852030742: (0, 0.0), 23842804871800742: (0, 0.0), 23842804872310742: (0, 0.0), 23842804872600742: (0.011894142134998514, 3.0992291584526744e-05), 23842804873020742: (0.1081476068688345, 0.0002817977226272742), 23842804873290742: (0, 0.0), 23842806372910742: (0, 0.0), 23842806372960742: (0, 0.0), 23842806380090742: (0.04640014471780029, 0.00012090378594239698), 23842806381580742: (0.039511307512347285, 0.00010295370186516794), 23842806382420742: (0, 0.0), 23842806385280742: (0, 0.0), 23842806400030742: (0.017187846529163893, 4.478597491907388e-05), 23842806402270742: (0, 0.0), 23842806403010742: (0.05710851456364958, 0.00014880633804667754), 23842806416110742: (0, 0.0), 23842806422440742: (0, 0.0), 23842807747800742: (0, 0.0), 23842807748050742: (0, 0.0), 23842807748480742: (0, 0.0), 23842807749130742: (0, 0.0), 23842808513410742: (0.02059153874953201, 5.3654897163346955e-05), 23842808515400742: (0, 0.0), 23842828523080742: (0.026233495482974288, 6.835601357893189e-05), 23842828729650742: (0, 0.0), 23842828730200742: (0, 0.0), 23842828730500742: (0.05169618733113179, 0.00013470356192064742), 23842828731000742: (1.1682760991307826, 0.0030441500618152155), 23842828731480742: (0, 0.0), 23842828732620742: (0.014257490274354849, 3.715041327328269e-05), 23842828739510742: (0, 0.0), 23842828742380742: (0.02081345419847328, 5.4233137125728226e-05), 23842828743560742: (0, 0.0), 23842834422600742: (0, 0.0), 23842834432250742: (0.027395295467584624, 7.138328897864248e-05), 23842834432900742: (0, 0.0), 23842834436700742: (0, 0.0), 23842834442040742: (1.3555555555555554, 0.003532139818069205), 23842839291670742: (0.017114914425427872, 4.45959374200088e-05), 23842843528050742: (0, 0.0), 23842843530030742: (0, 0.0), 23842843530370742: (0, 0.0), 23842843533830742: (0, 0.0), 23842843535470742: (1.5015615147049195, 0.003912584175272622), 23842844250330742: (0.09406206378181037, 0.000245095348170613), 23842844250340742: (0.4877687699949364, 0.0012709678238186715), 23842844250350742: (0.07460072849537686, 0.00019438539608027995), 23842844250370742: (0, 0.0), 23842844250380742: (0.05631718336189437, 0.00014674438460216926), 23842846988130742: (0.030441937000470147, 7.932185248906832e-05), 23842860746190616: (0.007587141931648935, 1.9769640581891588e-05), 23842862097880742: (0, 0.0), 23842862099200742: (0.037552984811020845, 9.785094561026173e-05), 23842862099990742: (0, 0.0), 23842862100410742: (1.3314633325718277, 0.003469363268810218), 23842862101240742: (0.506059379217274, 0.0013186272420300372), 23842872626270616: (0.006840119900171223, 1.7823142519496803e-05), 23842875301050616: (0, 0.0), 23842880266880638: (0, 0.0), 23842880266890638: (0.012247383616023096, 3.191272475704199e-05), 23842880266900638: (0.02651873075867955, 6.909924455217194e-05), 23842880266910638: (0, 0.0), 23842880266920638: (1.9031092665519167, 0.004958887882518078), 23842885287240027: (0, 0.0), 23842885373920027: (0.010166821130676552, 2.6491451118823792e-05), 23842885383130027: (1.7904427331194834, 0.004665315297263594), 23842885384190027: (1.7244663577968808, 0.004493402179152152), 23842885396050027: (0.049589763978747245, 0.00012921490321818723), 23842888662150638: (0, 0.0), 23842888662840638: (0.01075043630017452, 2.8012163693210417e-05), 23842888662850638: (1.5110236053988422, 0.0039372393265611205), 23842888662860638: (0.043932777557231704, 0.0001144746242913506), 23842888662870638: (0, 0.0), 23842901761550742: (0.017577197149643706, 4.580049684268702e-05), 23842901761560742: (0, 0.0), 23842904867950027: (0, 0.0), 23842904869780027: (0, 0.0), 23842904870690027: (0, 0.0), 23842904872500027: (0, 0.0), 23842904874210027: (0, 0.0), 23842974432060616: (0, 0.0), 23842974432080616: (0.01256817642874081, 3.2748607183628536e-05), 23842974432090616: (4.868312011059597, 0.012685248222084718), 23842974432100616: (0.26263656310349087, 0.0006843460295055877), 23842974432160616: (0, 0.0), 23842974432170616: (0, 0.0), 23843001848720616: (0.010110371556154688, 2.6344361765632344e-05), 23843001951860616: (0, 0.0), 23843001969560616: (0.0054888826867615596, 1.4302254905868087e-05)})\n"
     ]
    }
   ],
   "source": [
    "print(ad_weights)"
   ]
  },
  {
   "cell_type": "code",
   "execution_count": 231,
   "metadata": {},
   "outputs": [
    {
     "name": "stdout",
     "output_type": "stream",
     "text": [
      "0.9999999999999992\n"
     ]
    }
   ],
   "source": [
    "print(sum(x[1] for x in ad_weights.values()))"
   ]
  },
  {
   "cell_type": "code",
   "execution_count": 232,
   "metadata": {},
   "outputs": [
    {
     "data": {
      "text/plain": [
       "383.777433900267"
      ]
     },
     "execution_count": 232,
     "metadata": {},
     "output_type": "execute_result"
    }
   ],
   "source": [
    "total_reward"
   ]
  },
  {
   "cell_type": "code",
   "execution_count": 314,
   "metadata": {},
   "outputs": [],
   "source": [
    "pd.DataFrame(ad_weights).to_csv('Reward_Map.csv')"
   ]
  },
  {
   "cell_type": "code",
   "execution_count": 235,
   "metadata": {},
   "outputs": [],
   "source": [
    "import scipy\n",
    "from scipy.optimize import linprog"
   ]
  },
  {
   "cell_type": "code",
   "execution_count": 236,
   "metadata": {},
   "outputs": [],
   "source": [
    "ads = []\n",
    "ads_CTR = []\n",
    "ad_weight_ratio = []\n",
    "for key, value in ad_weights.items():\n",
    "    ads.append(key)\n",
    "    ads_CTR.append(value[0])\n",
    "    ad_weight_ratio.append(value[1])"
   ]
  },
  {
   "cell_type": "code",
   "execution_count": 311,
   "metadata": {},
   "outputs": [
    {
     "name": "stdout",
     "output_type": "stream",
     "text": [
      "0.9999999999999992\n"
     ]
    }
   ],
   "source": [
    "print(sum(ad_weight_ratio))"
   ]
  },
  {
   "cell_type": "code",
   "execution_count": 239,
   "metadata": {},
   "outputs": [],
   "source": [
    "IPS=np.zeros((len(set(data['AdsetId'])),len(set(data['AdsetId']))))\n",
    "np.fill_diagonal(IPS,ads_IPS*(-1))"
   ]
  },
  {
   "cell_type": "code",
   "execution_count": 241,
   "metadata": {},
   "outputs": [],
   "source": [
    "budget = np.ones_like(ads_CTR)"
   ]
  },
  {
   "cell_type": "code",
   "execution_count": 243,
   "metadata": {},
   "outputs": [],
   "source": [
    "A=np.vstack((budget,ad_weight_ratio,IPS))"
   ]
  },
  {
   "cell_type": "code",
   "execution_count": 245,
   "metadata": {},
   "outputs": [],
   "source": [
    "c = np.array(ads_CTR).reshape(-1,1)"
   ]
  },
  {
   "cell_type": "code",
   "execution_count": 322,
   "metadata": {},
   "outputs": [],
   "source": [
    "total_budget = 100000\n",
    "second_budget = 70000\n",
    "b = np.hstack((total_budget, second_budget, ([-100] * len(budget)))).reshape(-1,1)\n",
    "bounds = [(0, None) for x in range(len(budget))]"
   ]
  },
  {
   "cell_type": "code",
   "execution_count": 323,
   "metadata": {},
   "outputs": [
    {
     "name": "stdout",
     "output_type": "stream",
     "text": [
      "Primal Feasibility  Dual Feasibility    Duality Gap         Step             Path Parameter      Objective          \n",
      "1.0                 1.0                 1.0                 -                1.0                 1621.499441541      \n",
      "0.008284151416869   0.008284151416872   0.00828414875694    1.0              0.008284151416852   3173.396794451      \n",
      "4.20452577425e-07   4.204525766305e-07  4.205366710096e-07  0.9999492518777  4.204525779642e-07  3212.375931667      \n",
      "2.102262897999e-11  2.102371865951e-11  1.032642322353e-11  0.9999499999997  2.102262900846e-11  3212.375929126      \n",
      "The algorithm terminated successfully and determined that the problem is infeasible.\n"
     ]
    }
   ],
   "source": [
    "res = linprog(c,A_ub=A,b_ub=b,bounds=bounds,method='interior-point',options={\"disp\": True})"
   ]
  },
  {
   "cell_type": "code",
   "execution_count": 324,
   "metadata": {},
   "outputs": [
    {
     "name": "stdout",
     "output_type": "stream",
     "text": [
      "962.5099346692159\n"
     ]
    }
   ],
   "source": [
    "print(sum(list(res.x)))"
   ]
  },
  {
   "cell_type": "code",
   "execution_count": 318,
   "metadata": {},
   "outputs": [
    {
     "data": {
      "text/plain": [
       "[<matplotlib.lines.Line2D at 0x7fbd7ba98828>]"
      ]
     },
     "execution_count": 318,
     "metadata": {},
     "output_type": "execute_result"
    },
    {
     "data": {
      "image/png": "[encoded data removed]",
      "text/plain": [
       "<Figure size 432x288 with 1 Axes>"
      ]
     },
     "metadata": {},
     "output_type": "display_data"
    }
   ],
   "source": [
    "plt.plot(res.x)"
   ]
  },
  {
   "cell_type": "code",
   "execution_count": 320,
   "metadata": {},
   "outputs": [],
   "source": [
    "ads_allotment = dict(zip(ads, weights_ctr_matrix))"
   ]
  },
  {
   "cell_type": "code",
   "execution_count": 321,
   "metadata": {},
   "outputs": [
    {
     "data": {
      "text/plain": [
       "[(array([0.04058785]), 921.0107988191044),\n",
       " (array([0.03135402]), 7.309996779965676),\n",
       " (array([0.02785679]), 4.799436000364133),\n",
       " (array([0.0273953]), 2.275960992131584),\n",
       " (array([0.0262335]), 2.8564107031404324),\n",
       " (array([0.02613876]), 923.422923726077),\n",
       " (array([0.02567568]), 927.8414873334556),\n",
       " (array([0.02559242]), 920.5286398888546),\n",
       " (array([0.0249273]), 923.430755704444),\n",
       " (array([0.02486691]), 6.533903059238026),\n",
       " (array([0.02447448]), 4.843499306656931),\n",
       " (array([0.02081492]), 4.03550422106306),\n",
       " (array([0.02081345]), 3.438275293649055),\n",
       " (array([0.02059154]), 2.011980539121417),\n",
       " (array([0.02053438]), 3.490540170217467),\n",
       " (array([0.02022666]), 923.9166154916784),\n",
       " (array([0.020195]), 923.0433812707556),\n",
       " (array([0.0200524]), 922.2713477864115),\n",
       " (array([0.01984374]), 921.7414411765333),\n",
       " (array([0.019701]), 921.6942207162097),\n",
       " (array([0.01912734]), 923.3151423598088),\n",
       " (array([0.01906438]), 921.9546433403203),\n",
       " (array([0.01903617]), 3.2686308514802924),\n",
       " (array([0.01879949]), 4.306082411686555),\n",
       " (array([0.01877954]), 923.1498667405092),\n",
       " (array([0.01877239]), 4.133120426039056),\n",
       " (array([0.0187399]), 3.919224556169899),\n",
       " (array([0.0180246]), 5.09377664217204),\n",
       " (array([0.01792293]), 2.646547269472099),\n",
       " (array([0.01781874]), 922.1433638643643),\n",
       " (array([0.0176685]), 922.3465806834051),\n",
       " (array([0.0175772]), 9.13776722996707),\n",
       " (array([0.01740295]), 927.3961190736295),\n",
       " (array([0.01734766]), 4.175197546981169),\n",
       " (array([0.01730532]), 3.933250936308609),\n",
       " (array([0.01729051]), 923.3728865907182),\n",
       " (array([0.01726269]), 922.0538207264512),\n",
       " (array([0.01723206]), 3.9514109872260366),\n",
       " (array([0.01718785]), 2.671989363939246),\n",
       " (array([0.01711491]), 5.669926659730329),\n",
       " (array([0.0167033]), 923.4589469909153),\n",
       " (array([0.01643211]), 921.9740270750212),\n",
       " (array([0.0164147]), 3.6733676488935116),\n",
       " (array([0.01630129]), 922.0497367295634),\n",
       " (array([0.01617576]), 925.0135337400746),\n",
       " (array([0.01583653]), 922.0600714347984),\n",
       " (array([0.01555605]), 921.4844973167393),\n",
       " (array([0.01546671]), 4.140738063657339),\n",
       " (array([0.01531482]), 921.4955478031754),\n",
       " (array([0.01525289]), 3.2300869638535827),\n",
       " (array([0.01522097]), 2.9884226657295034),\n",
       " (array([0.01521403]), 4.066787003706594),\n",
       " (array([0.01506162]), 924.0908415713083),\n",
       " (array([0.01505234]), 2.3423250690778215),\n",
       " (array([0.01501505]), 921.8184674631894),\n",
       " (array([0.01500462]), 922.2593256704075),\n",
       " (array([0.01495915]), 4.518038980246526),\n",
       " (array([0.01484402]), 2.955508179294273),\n",
       " (array([0.01462061]), 2.7967818122153436),\n",
       " (array([0.01437082]), 3.9773714790028905),\n",
       " (array([0.01425749]), 2.816648682718988),\n",
       " (array([0.01420281]), 924.7134647476444),\n",
       " (array([0.01417905]), 2.590431301826827),\n",
       " (array([0.01415917]), 921.3629485605028),\n",
       " (array([0.0140983]), 925.4499251427158),\n",
       " (array([0.01408277]), 4.174774574459147),\n",
       " (array([0.01407625]), 922.1359207698246),\n",
       " (array([0.01399067]), 921.3273387916984),\n",
       " (array([0.01390713]), 921.2050275659316),\n",
       " (array([0.01389317]), 922.2257899415574),\n",
       " (array([0.01382078]), 921.9097501571352),\n",
       " (array([0.01380246]), 2.67257060797738),\n",
       " (array([0.01373927]), 921.4384533861594),\n",
       " (array([0.01366974]), 2.632869864252727),\n",
       " (array([0.01362499]), 923.402856046892),\n",
       " (array([0.01362157]), 921.204432002053),\n",
       " (array([0.01355928]), 921.1232506921344),\n",
       " (array([0.01345143]), 2.366897315336511),\n",
       " (array([0.01325937]), 3.3534916384193107),\n",
       " (array([0.01318738]), 2.046641606559129),\n",
       " (array([0.01305582]), 2.1477767278967996),\n",
       " (array([0.0129727]), 2.110282077509334),\n",
       " (array([0.01295337]), 926.643223784933),\n",
       " (array([0.0128541]), 1.8203115863425345),\n",
       " (array([0.01272016]), 923.397501860703),\n",
       " (array([0.01267427]), 924.3181700998722),\n",
       " (array([0.0126565]), 921.462847743641),\n",
       " (array([0.01263808]), 922.5027099595906),\n",
       " (array([0.01258023]), 921.1357412279149),\n",
       " (array([0.01256818]), 3.825581292440809),\n",
       " (array([0.01252335]), 921.2921777188715),\n",
       " (array([0.01251766]), 1.771878317437427),\n",
       " (array([0.01245907]), 2.005464443705382),\n",
       " (array([0.01239744]), 1.820219036167829),\n",
       " (array([0.01224738]), 3.199747397785083),\n",
       " (array([0.01222807]), 2.7351770287019064),\n",
       " (array([0.01221398]), 2.7698412840590696),\n",
       " (array([0.0121967]), 921.068408786572),\n",
       " (array([0.0121641]), 3.2969677618861413),\n",
       " (array([0.01212596]), 922.5199399297725),\n",
       " (array([0.01208071]), 4.730497365433537),\n",
       " (array([0.01204128]), 923.1071177574576),\n",
       " (array([0.01202785]), 921.438549092408),\n",
       " (array([0.01201147]), 3.463645057603966),\n",
       " (array([0.0120045]), 2.7008253109367235),\n",
       " (array([0.01197942]), 2.360763125470754),\n",
       " (array([0.01195984]), 2.841177248788781),\n",
       " (array([0.01189414]), 4.810288447647788),\n",
       " (array([0.01188007]), 921.3770811661008),\n",
       " (array([0.01166274]), 1.9164996403517363),\n",
       " (array([0.01148369]), 3.158168733778224),\n",
       " (array([0.01148241]), 921.2199978032954),\n",
       " (array([0.01146102]), 921.5693627049551),\n",
       " (array([0.0114551]), 1.969320828837013),\n",
       " (array([0.01129928]), 921.0806953128704),\n",
       " (array([0.01125]), 922.5278435110617),\n",
       " (array([0.01124694]), 921.9429253080518),\n",
       " (array([0.01117158]), 922.7486184225689),\n",
       " (array([0.01115991]), 921.1950294560041),\n",
       " (array([0.01109726]), 4.094659983795057),\n",
       " (array([0.01108187]), 2.275969275600469),\n",
       " (array([0.01101698]), 3.400211029452457),\n",
       " (array([0.01098319]), 3.6681789705307275),\n",
       " (array([0.01094329]), 923.2411190556444),\n",
       " (array([0.01093269]), 920.8269440881601),\n",
       " (array([0.01091218]), 921.1285431211284),\n",
       " (array([0.0109049]), 1.645813091174715),\n",
       " (array([0.01088863]), 921.633408203738),\n",
       " (array([0.01081948]), 1.8529925325285213),\n",
       " (array([0.01081335]), 924.5647849611256),\n",
       " (array([0.01077318]), 2.2698656499345176),\n",
       " (array([0.01075044]), 3.7405933884386555),\n",
       " (array([0.01055138]), 2.9106108978202427),\n",
       " (array([0.01041511]), 3.468380078842149),\n",
       " (array([0.01037054]), 922.1304098700575),\n",
       " (array([0.01035422]), 925.1361040209878),\n",
       " (array([0.01027749]), 921.4079938193865),\n",
       " (array([0.01027517]), 2.2057645079203496),\n",
       " (array([0.01019044]), 1.687269240121644),\n",
       " (array([0.01016682]), 2.63347545816858),\n",
       " (array([0.01014461]), 3.0456507696033963),\n",
       " (array([0.01008517]), 3.0960210359723126),\n",
       " (array([0.00990505]), 3.1611588780659883),\n",
       " (array([0.00987783]), 3.171822202583434),\n",
       " (array([0.00980161]), 1.9496962779853277),\n",
       " (array([0.00977682]), 2.037890369928454),\n",
       " (array([0.0097642]), 1.8649051768512133),\n",
       " (array([0.00973574]), 3.2146772505316346),\n",
       " (array([0.00971356]), 1.6659922967083165),\n",
       " (array([0.00966682]), 920.178594150913),\n",
       " (array([0.0096077]), 2.120962326435543),\n",
       " (array([0.00954315]), 5.542944165220528),\n",
       " (array([0.00951904]), 922.2014152974917),\n",
       " (array([0.00948352]), 1.5947960481924346),\n",
       " (array([0.00947457]), 921.8149621053761),\n",
       " (array([0.00941559]), 920.4860081627307),\n",
       " (array([0.00939457]), 924.8728364278527),\n",
       " (array([0.0092808]), 921.908154485351),\n",
       " (array([0.00923655]), 921.6891990692252),\n",
       " (array([0.00915376]), 2.276852664665426),\n",
       " (array([0.00915206]), 1.63013672980401),\n",
       " (array([0.00912288]), 2.290048048276365),\n",
       " (array([0.00893971]), 921.8903438823122),\n",
       " (array([0.00883154]), 921.4303144604604),\n",
       " (array([0.008791]), 2.2902920936713893),\n",
       " (array([0.00849673]), 922.8954707286155),\n",
       " (array([0.00840748]), 2.7161864396354076),\n",
       " (array([0.00829286]), 921.7587553656152),\n",
       " (array([0.00821297]), 2.1030788950248223),\n",
       " (array([0.00815494]), 2.8390855051682795),\n",
       " (array([0.00806416]), 2.797051658483383),\n",
       " (array([0.00799231]), 1.8574806222530902),\n",
       " (array([0.00784741]), 2.1476839488225736),\n",
       " (array([0.0076858]), 921.1607637461376),\n",
       " (array([0.00762384]), 920.9940506020289),\n",
       " (array([0.00758714]), 2.747256699403043),\n",
       " (array([0.00740767]), 3.208637518561053),\n",
       " (array([0.00738864]), 3.3624657227817414),\n",
       " (array([0.00728597]), 4.7559198819826705),\n",
       " (array([0.0072535]), 920.9401451740769),\n",
       " (array([0.00723855]), 2.202368979806731),\n",
       " (array([0.0071281]), 2.195595823092445),\n",
       " (array([0.0070791]), 2.359926138330082),\n",
       " (array([0.00701565]), 922.2803840823361),\n",
       " (array([0.0070006]), 2.816547510704669),\n",
       " (array([0.0069757]), 2.0745827726986072),\n",
       " (array([0.00687002]), 922.155830448211),\n",
       " (array([0.00684703]), 921.904989111787),\n",
       " (array([0.00684012]), 2.065791065783622),\n",
       " (array([0.00679348]), 921.1729625536486),\n",
       " (array([0.00674568]), 2.411486748933424),\n",
       " (array([0.00670057]), 921.484869031934),\n",
       " (array([0.00653072]), 2.283015003651972),\n",
       " (array([0.00649461]), 921.2253394936215),\n",
       " (array([0.00648381]), 2.6015372049793277),\n",
       " (array([0.00641269]), 2.9156024349744887),\n",
       " (array([0.00639659]), 4.973956779827169),\n",
       " (array([0.00638891]), 2.3845046399963103),\n",
       " (array([0.00608273]), 2.9797611500501318),\n",
       " (array([0.00605845]), 922.0064369587759),\n",
       " (array([0.00604633]), 2.35624416868176),\n",
       " (array([0.00604143]), 2.206271612102036),\n",
       " (array([0.00598889]), 920.9429251583445),\n",
       " (array([0.00584095]), 1.8417197300357733),\n",
       " (array([0.00582411]), 1.1374490481522639),\n",
       " (array([0.00579374]), 921.267098808198),\n",
       " (array([0.00572482]), 2.64256750973348),\n",
       " (array([0.00561674]), 3.89420334382352),\n",
       " (array([0.00553013]), 924.878459307346),\n",
       " (array([0.00548888]), 1.86742956882975),\n",
       " (array([0.00541028]), 2.497230452236488),\n",
       " (array([0.00530035]), 920.0862691799159),\n",
       " (array([0.00523485]), 921.2665364628847),\n",
       " (array([0.00522446]), 2.6339009325871983),\n",
       " (array([0.00509972]), 2.085554333603679),\n",
       " (array([0.00505519]), 1.5714887702863085),\n",
       " (array([0.00500715]), 920.4948956774219),\n",
       " (array([0.00493724]), 2.5163881260164653),\n",
       " (array([0.00483072]), 921.1188870701039),\n",
       " (array([0.00480336]), 1.414629939619872),\n",
       " (array([0.00478927]), 924.1010037464202),\n",
       " (array([0.00478614]), 2.3279647984902097),\n",
       " (array([0.00475234]), 2.3307228916377287),\n",
       " (array([0.00460365]), 920.9668660135168),\n",
       " (array([0.00454809]), 921.9169286737701),\n",
       " (array([0.00450965]), 921.1328202822581),\n",
       " (array([0.00450382]), 1.579156623231624),\n",
       " (array([0.00450382]), 920.7404234032737),\n",
       " (array([0.00425419]), 920.2377677614165),\n",
       " (array([0.00413482]), 1.2831248950251255),\n",
       " (array([0.00403063]), 920.4565553640012),\n",
       " (array([0.00395154]), 1.8967416583832155),\n",
       " (array([0.00381143]), 923.2831685934518),\n",
       " (array([0.00357822]), 920.4759264690017),\n",
       " (array([0.00329064]), 922.0924267096019),\n",
       " (array([0.00296028]), 1.7265088123426318),\n",
       " (array([0.00272765]), 3.7024759115912187),\n",
       " (array([0.00268854]), 2.430248868841461),\n",
       " (array([0.00233776]), 921.0922493093607),\n",
       " (array([0.00204278]), 921.0725284563016),\n",
       " (array([0.00179533]), 11.202872548086667),\n",
       " (array([0.00081169]), 2.4829550178492164)]"
      ]
     },
     "execution_count": 321,
     "metadata": {},
     "output_type": "execute_result"
    }
   ],
   "source": [
    "sorted([(value[1],value[0]) for (key,value) in ads_allotment.items()], reverse=True)"
   ]
  },
  {
   "cell_type": "code",
   "execution_count": 304,
   "metadata": {},
   "outputs": [],
   "source": [
    "pd.DataFrame(ads_allotment).to_csv('Ads_Allotment')"
   ]
  },
  {
   "cell_type": "code",
   "execution_count": null,
   "metadata": {},
   "outputs": [],
   "source": []
  }
 ],
 "metadata": {
  "kernelspec": {
   "display_name": "Python 3",
   "language": "python",
   "name": "python3"
  },
  "language_info": {
   "codemirror_mode": {
    "name": "ipython",
    "version": 3
   },
   "file_extension": ".py",
   "mimetype": "text/x-python",
   "name": "python",
   "nbconvert_exporter": "python",
   "pygments_lexer": "ipython3",
   "version": "3.6.5"
  }
 },
 "nbformat": 4,
 "nbformat_minor": 2
}
