{
 "cells": [
  {
   "cell_type": "code",
   "execution_count": 176,
   "metadata": {},
   "outputs": [],
   "source": [
    "import pandas as pd\n",
    "import numpy as np\n",
    "import matplotlib.pyplot as plt"
   ]
  },
  {
   "cell_type": "code",
   "execution_count": 177,
   "metadata": {},
   "outputs": [],
   "source": [
    "# cols =['DateStart','AdsetId','LinkClick','Conversions','Impressions','Spend']\n",
    "# data = pd.read_csv('RagingBull_FB_Hourly.csv', usecols=cols)\n",
    "# data.to_csv('Final_Set')\n",
    "# data.fillna(0,inplace=True)"
   ]
  },
  {
   "cell_type": "code",
   "execution_count": 178,
   "metadata": {},
   "outputs": [],
   "source": [
    "data = pd.read_csv('Final_Set')\n",
    "data.fillna(0, inplace= True)"
   ]
  },
  {
   "cell_type": "code",
   "execution_count": 179,
   "metadata": {},
   "outputs": [],
   "source": [
    "data['CTR'] = (data['LinkClick']/data['Impressions']).replace([np.inf, -np.inf], 0)"
   ]
  },
  {
   "cell_type": "code",
   "execution_count": 180,
   "metadata": {
    "scrolled": true
   },
   "outputs": [
    {
     "data": {
      "text/html": [
       "<div>\n",
       "<style scoped>\n",
       "    .dataframe tbody tr th:only-of-type {\n",
       "        vertical-align: middle;\n",
       "    }\n",
       "\n",
       "    .dataframe tbody tr th {\n",
       "        vertical-align: top;\n",
       "    }\n",
       "\n",
       "    .dataframe thead th {\n",
       "        text-align: right;\n",
       "    }\n",
       "</style>\n",
       "<table border=\"1\" class=\"dataframe\">\n",
       "  <thead>\n",
       "    <tr style=\"text-align: right;\">\n",
       "      <th></th>\n",
       "      <th>Unnamed: 0</th>\n",
       "      <th>Spend</th>\n",
       "      <th>DateStart</th>\n",
       "      <th>LinkClick</th>\n",
       "      <th>Impressions</th>\n",
       "      <th>AdsetId</th>\n",
       "      <th>Conversions</th>\n",
       "      <th>CTR</th>\n",
       "    </tr>\n",
       "  </thead>\n",
       "  <tbody>\n",
       "    <tr>\n",
       "      <th>0</th>\n",
       "      <td>0</td>\n",
       "      <td>1.58</td>\n",
       "      <td>2018-07-12</td>\n",
       "      <td>0.0</td>\n",
       "      <td>27.0</td>\n",
       "      <td>6094650899637</td>\n",
       "      <td>0.0</td>\n",
       "      <td>0.0</td>\n",
       "    </tr>\n",
       "    <tr>\n",
       "      <th>1</th>\n",
       "      <td>1</td>\n",
       "      <td>0.02</td>\n",
       "      <td>2018-05-18</td>\n",
       "      <td>0.0</td>\n",
       "      <td>3.0</td>\n",
       "      <td>6093425908037</td>\n",
       "      <td>0.0</td>\n",
       "      <td>0.0</td>\n",
       "    </tr>\n",
       "    <tr>\n",
       "      <th>2</th>\n",
       "      <td>2</td>\n",
       "      <td>0.02</td>\n",
       "      <td>2018-05-26</td>\n",
       "      <td>0.0</td>\n",
       "      <td>2.0</td>\n",
       "      <td>6093224252437</td>\n",
       "      <td>0.0</td>\n",
       "      <td>0.0</td>\n",
       "    </tr>\n",
       "    <tr>\n",
       "      <th>3</th>\n",
       "      <td>3</td>\n",
       "      <td>0.04</td>\n",
       "      <td>2018-06-07</td>\n",
       "      <td>0.0</td>\n",
       "      <td>7.0</td>\n",
       "      <td>6094650898437</td>\n",
       "      <td>0.0</td>\n",
       "      <td>0.0</td>\n",
       "    </tr>\n",
       "    <tr>\n",
       "      <th>4</th>\n",
       "      <td>4</td>\n",
       "      <td>0.04</td>\n",
       "      <td>2018-06-04</td>\n",
       "      <td>0.0</td>\n",
       "      <td>2.0</td>\n",
       "      <td>6095173565837</td>\n",
       "      <td>0.0</td>\n",
       "      <td>0.0</td>\n",
       "    </tr>\n",
       "  </tbody>\n",
       "</table>\n",
       "</div>"
      ],
      "text/plain": [
       "   Unnamed: 0  Spend   DateStart  LinkClick  Impressions        AdsetId  \\\n",
       "0           0   1.58  2018-07-12        0.0         27.0  6094650899637   \n",
       "1           1   0.02  2018-05-18        0.0          3.0  6093425908037   \n",
       "2           2   0.02  2018-05-26        0.0          2.0  6093224252437   \n",
       "3           3   0.04  2018-06-07        0.0          7.0  6094650898437   \n",
       "4           4   0.04  2018-06-04        0.0          2.0  6095173565837   \n",
       "\n",
       "   Conversions  CTR  \n",
       "0          0.0  0.0  \n",
       "1          0.0  0.0  \n",
       "2          0.0  0.0  \n",
       "3          0.0  0.0  \n",
       "4          0.0  0.0  "
      ]
     },
     "execution_count": 180,
     "metadata": {},
     "output_type": "execute_result"
    }
   ],
   "source": [
    "data.head()"
   ]
  },
  {
   "cell_type": "code",
   "execution_count": 181,
   "metadata": {},
   "outputs": [],
   "source": [
    "data_total_IPS = pd.pivot_table(data = data, values= ['Spend','Impressions'], fill_value= 0, index='AdsetId',aggfunc='sum')"
   ]
  },
  {
   "cell_type": "code",
   "execution_count": 182,
   "metadata": {},
   "outputs": [],
   "source": [
    "data_total_IPS['IPS'] = (data_total_IPS['Impressions']/ data_total_IPS['Spend']).replace([np.inf, -np.inf], 0)"
   ]
  },
  {
   "cell_type": "code",
   "execution_count": 183,
   "metadata": {},
   "outputs": [],
   "source": [
    "data_total_IPS.drop(['Impressions','Spend'], axis=1, inplace=True)"
   ]
  },
  {
   "cell_type": "code",
   "execution_count": 184,
   "metadata": {},
   "outputs": [],
   "source": [
    "ads_IPS = data_total_IPS.values"
   ]
  },
  {
   "cell_type": "code",
   "execution_count": 185,
   "metadata": {},
   "outputs": [],
   "source": [
    "data_total_CTR = pd.pivot_table(data = data, values= ['LinkClick','Impressions'], fill_value= 0, index='AdsetId',aggfunc='sum')"
   ]
  },
  {
   "cell_type": "code",
   "execution_count": 186,
   "metadata": {},
   "outputs": [],
   "source": [
    "data_total_CTR['CTR_agg'] = (data_total_CTR['LinkClick']/data_total_CTR['Impressions']).replace([np.inf, -np.inf], 0)\n",
    "data_total_CTR.drop(['LinkClick','Impressions'],inplace = True, axis = 1)\n",
    "data_first_row = pd.pivot_table(data = data_total_CTR, values= ['CTR_agg'],columns='AdsetId').replace([np.inf, -np.inf], 0)"
   ]
  },
  {
   "cell_type": "code",
   "execution_count": 187,
   "metadata": {},
   "outputs": [
    {
     "data": {
      "text/html": [
       "<div>\n",
       "<style scoped>\n",
       "    .dataframe tbody tr th:only-of-type {\n",
       "        vertical-align: middle;\n",
       "    }\n",
       "\n",
       "    .dataframe tbody tr th {\n",
       "        vertical-align: top;\n",
       "    }\n",
       "\n",
       "    .dataframe thead th {\n",
       "        text-align: right;\n",
       "    }\n",
       "</style>\n",
       "<table border=\"1\" class=\"dataframe\">\n",
       "  <thead>\n",
       "    <tr style=\"text-align: right;\">\n",
       "      <th></th>\n",
       "      <th>CTR_agg</th>\n",
       "    </tr>\n",
       "    <tr>\n",
       "      <th>AdsetId</th>\n",
       "      <th></th>\n",
       "    </tr>\n",
       "  </thead>\n",
       "  <tbody>\n",
       "    <tr>\n",
       "      <th>6082903610237</th>\n",
       "      <td>0.013802</td>\n",
       "    </tr>\n",
       "    <tr>\n",
       "      <th>6082903612037</th>\n",
       "      <td>0.013670</td>\n",
       "    </tr>\n",
       "    <tr>\n",
       "      <th>6082903614437</th>\n",
       "      <td>0.010551</td>\n",
       "    </tr>\n",
       "    <tr>\n",
       "      <th>6082903615637</th>\n",
       "      <td>0.009154</td>\n",
       "    </tr>\n",
       "    <tr>\n",
       "      <th>6082903618837</th>\n",
       "      <td>0.012005</td>\n",
       "    </tr>\n",
       "  </tbody>\n",
       "</table>\n",
       "</div>"
      ],
      "text/plain": [
       "                CTR_agg\n",
       "AdsetId                \n",
       "6082903610237  0.013802\n",
       "6082903612037  0.013670\n",
       "6082903614437  0.010551\n",
       "6082903615637  0.009154\n",
       "6082903618837  0.012005"
      ]
     },
     "execution_count": 187,
     "metadata": {},
     "output_type": "execute_result"
    }
   ],
   "source": [
    "data_total_CTR.head()"
   ]
  },
  {
   "cell_type": "code",
   "execution_count": 188,
   "metadata": {},
   "outputs": [],
   "source": [
    "data = data.join(data_total_CTR, on = ['AdsetId'])"
   ]
  },
  {
   "cell_type": "code",
   "execution_count": 189,
   "metadata": {},
   "outputs": [],
   "source": [
    "data = data[data['CTR_agg'] > 0]"
   ]
  },
  {
   "cell_type": "code",
   "execution_count": 190,
   "metadata": {},
   "outputs": [],
   "source": [
    "data.drop(['CTR_agg'], inplace= True, axis = 1)"
   ]
  },
  {
   "cell_type": "code",
   "execution_count": 191,
   "metadata": {},
   "outputs": [
    {
     "data": {
      "text/html": [
       "<div>\n",
       "<style scoped>\n",
       "    .dataframe tbody tr th:only-of-type {\n",
       "        vertical-align: middle;\n",
       "    }\n",
       "\n",
       "    .dataframe tbody tr th {\n",
       "        vertical-align: top;\n",
       "    }\n",
       "\n",
       "    .dataframe thead th {\n",
       "        text-align: right;\n",
       "    }\n",
       "</style>\n",
       "<table border=\"1\" class=\"dataframe\">\n",
       "  <thead>\n",
       "    <tr style=\"text-align: right;\">\n",
       "      <th></th>\n",
       "      <th>Unnamed: 0</th>\n",
       "      <th>Spend</th>\n",
       "      <th>DateStart</th>\n",
       "      <th>LinkClick</th>\n",
       "      <th>Impressions</th>\n",
       "      <th>AdsetId</th>\n",
       "      <th>Conversions</th>\n",
       "      <th>CTR</th>\n",
       "    </tr>\n",
       "  </thead>\n",
       "  <tbody>\n",
       "    <tr>\n",
       "      <th>0</th>\n",
       "      <td>0</td>\n",
       "      <td>1.58</td>\n",
       "      <td>2018-07-12</td>\n",
       "      <td>0.0</td>\n",
       "      <td>27.0</td>\n",
       "      <td>6094650899637</td>\n",
       "      <td>0.0</td>\n",
       "      <td>0.0</td>\n",
       "    </tr>\n",
       "    <tr>\n",
       "      <th>1</th>\n",
       "      <td>1</td>\n",
       "      <td>0.02</td>\n",
       "      <td>2018-05-18</td>\n",
       "      <td>0.0</td>\n",
       "      <td>3.0</td>\n",
       "      <td>6093425908037</td>\n",
       "      <td>0.0</td>\n",
       "      <td>0.0</td>\n",
       "    </tr>\n",
       "    <tr>\n",
       "      <th>2</th>\n",
       "      <td>2</td>\n",
       "      <td>0.02</td>\n",
       "      <td>2018-05-26</td>\n",
       "      <td>0.0</td>\n",
       "      <td>2.0</td>\n",
       "      <td>6093224252437</td>\n",
       "      <td>0.0</td>\n",
       "      <td>0.0</td>\n",
       "    </tr>\n",
       "    <tr>\n",
       "      <th>3</th>\n",
       "      <td>3</td>\n",
       "      <td>0.04</td>\n",
       "      <td>2018-06-07</td>\n",
       "      <td>0.0</td>\n",
       "      <td>7.0</td>\n",
       "      <td>6094650898437</td>\n",
       "      <td>0.0</td>\n",
       "      <td>0.0</td>\n",
       "    </tr>\n",
       "    <tr>\n",
       "      <th>4</th>\n",
       "      <td>4</td>\n",
       "      <td>0.04</td>\n",
       "      <td>2018-06-04</td>\n",
       "      <td>0.0</td>\n",
       "      <td>2.0</td>\n",
       "      <td>6095173565837</td>\n",
       "      <td>0.0</td>\n",
       "      <td>0.0</td>\n",
       "    </tr>\n",
       "  </tbody>\n",
       "</table>\n",
       "</div>"
      ],
      "text/plain": [
       "   Unnamed: 0  Spend   DateStart  LinkClick  Impressions        AdsetId  \\\n",
       "0           0   1.58  2018-07-12        0.0         27.0  6094650899637   \n",
       "1           1   0.02  2018-05-18        0.0          3.0  6093425908037   \n",
       "2           2   0.02  2018-05-26        0.0          2.0  6093224252437   \n",
       "3           3   0.04  2018-06-07        0.0          7.0  6094650898437   \n",
       "4           4   0.04  2018-06-04        0.0          2.0  6095173565837   \n",
       "\n",
       "   Conversions  CTR  \n",
       "0          0.0  0.0  \n",
       "1          0.0  0.0  \n",
       "2          0.0  0.0  \n",
       "3          0.0  0.0  \n",
       "4          0.0  0.0  "
      ]
     },
     "execution_count": 191,
     "metadata": {},
     "output_type": "execute_result"
    }
   ],
   "source": [
    "data.head()"
   ]
  },
  {
   "cell_type": "code",
   "execution_count": 192,
   "metadata": {},
   "outputs": [
    {
     "data": {
      "text/plain": [
       "(438872, 8)"
      ]
     },
     "execution_count": 192,
     "metadata": {},
     "output_type": "execute_result"
    }
   ],
   "source": [
    "data.shape"
   ]
  },
  {
   "cell_type": "code",
   "execution_count": 193,
   "metadata": {},
   "outputs": [
    {
     "data": {
      "text/plain": [
       "242"
      ]
     },
     "execution_count": 193,
     "metadata": {},
     "output_type": "execute_result"
    }
   ],
   "source": [
    "len(set(data['AdsetId']))"
   ]
  },
  {
   "cell_type": "code",
   "execution_count": 194,
   "metadata": {},
   "outputs": [],
   "source": [
    "opt_data = (data[['DateStart','AdsetId','CTR']].copy(deep = True))"
   ]
  },
  {
   "cell_type": "code",
   "execution_count": 195,
   "metadata": {},
   "outputs": [
    {
     "data": {
      "text/plain": [
       "(130, 242)"
      ]
     },
     "execution_count": 195,
     "metadata": {},
     "output_type": "execute_result"
    }
   ],
   "source": [
    "data_final = pd.pivot_table(data=opt_data, values= 'CTR', columns='AdsetId',fill_value= 0,index='DateStart',aggfunc='sum').reset_index()\n",
    "data_final.drop('DateStart',inplace= True, axis=1)\n",
    "data_final.shape"
   ]
  },
  {
   "cell_type": "code",
   "execution_count": 196,
   "metadata": {},
   "outputs": [],
   "source": [
    "# data_initial_set = pd.pivot_table(data = data, values= ['LinkClick','conversions'], fill_value= 0, index='id',aggfunc='sum')"
   ]
  },
  {
   "cell_type": "code",
   "execution_count": 197,
   "metadata": {},
   "outputs": [],
   "source": [
    "# data_initial_set['TotalClicksperConversion'] = (data_initial_set['LinkClick']/data_initial_set['Conversions']).replace([np.inf, -np.inf,np.NAN], 0)"
   ]
  },
  {
   "cell_type": "code",
   "execution_count": 198,
   "metadata": {},
   "outputs": [],
   "source": [
    "# data_initial_set = pd.pivot_table(data = data_initial_set, columns= 'id', values= 'TotalClicksperConversion', fill_value= 0).reset_index()"
   ]
  },
  {
   "cell_type": "code",
   "execution_count": 199,
   "metadata": {},
   "outputs": [],
   "source": [
    "# data_initial_set.drop('index',inplace= True,axis =1)"
   ]
  },
  {
   "cell_type": "code",
   "execution_count": 200,
   "metadata": {},
   "outputs": [],
   "source": [
    "# data_initial_set"
   ]
  },
  {
   "cell_type": "code",
   "execution_count": 201,
   "metadata": {},
   "outputs": [],
   "source": [
    "# import gc\n",
    "# del opt_data\n",
    "# # del raw_data\n",
    "# gc.collect()"
   ]
  },
  {
   "cell_type": "code",
   "execution_count": 202,
   "metadata": {
    "scrolled": true
   },
   "outputs": [
    {
     "data": {
      "text/plain": [
       "(243, 242)"
      ]
     },
     "execution_count": 202,
     "metadata": {},
     "output_type": "execute_result"
    }
   ],
   "source": [
    "len_data_final = data_final.shape[1]\n",
    "df = pd.DataFrame()\n",
    "appender = data_first_row.iloc[[0]]\n",
    "while len_data_final >= 0:\n",
    "    df = df.append(appender,ignore_index= True)\n",
    "    len_data_final -= 1\n",
    "df.shape "
   ]
  },
  {
   "cell_type": "code",
   "execution_count": 203,
   "metadata": {},
   "outputs": [
    {
     "data": {
      "text/plain": [
       "(373, 242)"
      ]
     },
     "execution_count": 203,
     "metadata": {},
     "output_type": "execute_result"
    }
   ],
   "source": [
    "data_final = df.append(data_final)\n",
    "data_final.shape"
   ]
  },
  {
   "cell_type": "code",
   "execution_count": 204,
   "metadata": {
    "scrolled": true
   },
   "outputs": [],
   "source": [
    "import random\n",
    "import math\n",
    "from collections import defaultdict\n",
    "N = data_final.shape[0]\n",
    "d = data_final.shape[1]\n",
    "Exp = 10 ###Number of experiments\n",
    "experiment_data = defaultdict()\n",
    "for exp in range(Exp):\n",
    "    id_reward_map = defaultdict()\n",
    "    id_reward_map = {}\n",
    "    numbers_of_rewards_1 = [0] * d\n",
    "    numbers_of_rewards_0 = [0] * d\n",
    "    sums_of_rewards = [0] * d\n",
    "    total_reward = 0\n",
    "    reward = 0\n",
    "    for key, value in enumerate(data_final.columns):\n",
    "        id_reward_map[key] = [0, value, 0]\n",
    "\n",
    "    for n in range(0, N):\n",
    "        ad = 0\n",
    "        max_random = 0\n",
    "        for i in range(0, d):\n",
    "            random_beta = random.betavariate(numbers_of_rewards_1[i] + 1, numbers_of_rewards_0[i] + 1)\n",
    "    #         print(\"Ad id {}  Max random .{}  Random beta .{}\".format(i, max_random, random_beta))\n",
    "    #         print(\"\".format())\n",
    "            if random_beta > max_random:\n",
    "                max_random = random_beta\n",
    "                ad = i\n",
    "    #             print(ad)\n",
    "                id_reward_map[ad][0] += 1\n",
    "        #     print(ads_selected)\n",
    "                reward = data_final.values[n, ad]\n",
    "                if reward > 0:\n",
    "                    numbers_of_rewards_1[ad]+= 1\n",
    "                    id_reward_map[ad][2]+=reward\n",
    "                    sums_of_rewards[ad] = sums_of_rewards[ad] + reward\n",
    "                    total_reward += reward\n",
    "                else:\n",
    "                    numbers_of_rewards_0[ad]+= 1\n",
    "#             print(\"Reward {}\".format(reward))\n",
    "#             print(\"Total re\")\n",
    "                \n",
    "    experiment_data[exp] = {'id_reward_map': id_reward_map, 'total_reward': total_reward}\n",
    "\n",
    "    #Visualising the results\n",
    "    # plt.hist(id_reward_map[1])\n",
    "    # plt.title('Histogram of ads selections')\n",
    "    # plt.xlabel('Ads')\n",
    "    # plt.ylabel('Number of times each ad was selected')\n",
    "    # plt.show()"
   ]
  },
  {
   "cell_type": "code",
   "execution_count": 205,
   "metadata": {},
   "outputs": [],
   "source": [
    "val = sorted([(value['total_reward'],key) for (key,value) in experiment_data.items()], reverse=True)[:1]\n",
    "val\n",
    "total_weights = val[0][0]\n",
    "experiment_selected = val[0][1]"
   ]
  },
  {
   "cell_type": "code",
   "execution_count": 206,
   "metadata": {},
   "outputs": [],
   "source": [
    "# Weights_selected = \n",
    "ad_weights = defaultdict()\n",
    "for key, value in experiment_data.items():\n",
    "    for k,val in value['id_reward_map'].items():\n",
    "        ad_weights[val[1]] = (val[2], val[2]/total_reward)\n",
    "        "
   ]
  },
  {
   "cell_type": "code",
   "execution_count": 207,
   "metadata": {},
   "outputs": [],
   "source": [
    "pd.DataFrame(id_reward_map).to_csv('Reward_Map')"
   ]
  },
  {
   "cell_type": "code",
   "execution_count": 208,
   "metadata": {},
   "outputs": [
    {
     "data": {
      "text/plain": [
       "309.55734190407725"
      ]
     },
     "execution_count": 208,
     "metadata": {},
     "output_type": "execute_result"
    }
   ],
   "source": [
    "total_weights"
   ]
  },
  {
   "cell_type": "code",
   "execution_count": 209,
   "metadata": {},
   "outputs": [
    {
     "name": "stdout",
     "output_type": "stream",
     "text": [
      "1.0\n"
     ]
    }
   ],
   "source": [
    "print(sum(x[1] for x in ad_weights.values()))"
   ]
  },
  {
   "cell_type": "code",
   "execution_count": 210,
   "metadata": {},
   "outputs": [
    {
     "data": {
      "text/plain": [
       "231.72854606556027"
      ]
     },
     "execution_count": 210,
     "metadata": {},
     "output_type": "execute_result"
    }
   ],
   "source": [
    "total_reward"
   ]
  },
  {
   "cell_type": "code",
   "execution_count": 211,
   "metadata": {},
   "outputs": [],
   "source": [
    "pd.DataFrame(ad_weights).to_csv('Reward_Map.csv')"
   ]
  },
  {
   "cell_type": "code",
   "execution_count": 212,
   "metadata": {},
   "outputs": [],
   "source": [
    "import scipy\n",
    "from scipy.optimize import linprog"
   ]
  },
  {
   "cell_type": "code",
   "execution_count": 213,
   "metadata": {},
   "outputs": [],
   "source": [
    "ads = []\n",
    "ads_CTR = []\n",
    "ad_weight_ratio = []\n",
    "for key, value in ad_weights.items():\n",
    "    ads.append(key)\n",
    "    ads_CTR.append(value[0])\n",
    "    ad_weight_ratio.append(value[1])"
   ]
  },
  {
   "cell_type": "code",
   "execution_count": 214,
   "metadata": {},
   "outputs": [],
   "source": [
    "IPS=np.zeros((len(set(data['AdsetId'])),len(set(data['AdsetId']))))\n",
    "np.fill_diagonal(IPS,ads_IPS*(-1))"
   ]
  },
  {
   "cell_type": "code",
   "execution_count": 215,
   "metadata": {},
   "outputs": [],
   "source": [
    "budget = np.ones_like(ads_CTR)"
   ]
  },
  {
   "cell_type": "code",
   "execution_count": 216,
   "metadata": {},
   "outputs": [],
   "source": [
    "A=np.vstack((budget,ad_weight_ratio,IPS))"
   ]
  },
  {
   "cell_type": "code",
   "execution_count": 217,
   "metadata": {},
   "outputs": [],
   "source": [
    "total_budget = 100000\n",
    "weight_assign_total = 100000\n",
    "b = np.hstack((total_budget, weight_assign_total, ([-1000] * len(budget)))).reshape(-1,1)\n",
    "bounds = [(0, None) for x in range(len(budget))]\n",
    "c = -1 * data_total_CTR.values.reshape(-1,1)"
   ]
  },
  {
   "cell_type": "code",
   "execution_count": 218,
   "metadata": {},
   "outputs": [
    {
     "name": "stdout",
     "output_type": "stream",
     "text": [
      "Primal Feasibility  Dual Feasibility    Duality Gap         Step             Path Parameter      Objective          \n",
      "1.0                 1.0                 1.0                 -                1.0                 -97.16176508533     \n",
      "0.4759525045167     0.4759525045167     0.4759524014251     0.5363781646903  0.4759525045168     -97.20571118221     \n",
      "0.07260392236112    0.07260392236112    0.07260390960903    0.9376514689664  0.07260392236109    -115.4644285511     \n",
      "0.0007309910375615  0.0007309910375615  0.0007309908567056  1.0              0.0007309910375613  -829.6220399321     \n",
      "2.047469097764e-05  2.047469097764e-05  2.047468591323e-05  0.9720150456168  2.047469097763e-05  -1240.262172171     \n",
      "1.975232867204e-05  1.975232867204e-05  1.975232378586e-05  0.03908327254189 1.975232867203e-05  -2138.816997603     \n",
      "1.523851642929e-06  1.523851642929e-06  1.523851265231e-06  0.943901662991   1.523851642928e-06  -3743.868561195     \n",
      "5.928527269285e-10  5.9285272761e-10    5.928524954738e-10  0.9996691209362  5.928527276066e-10  -3846.545250834     \n",
      "2.964205146257e-14  2.964273364038e-14  3.047458083036e-14  0.9999499998406  2.964275552739e-14  -3846.622270507     \n",
      "Optimization terminated successfully.\n"
     ]
    }
   ],
   "source": [
    "res = linprog(c,A_ub=A,b_ub=b,bounds=bounds,method='interior-point',options={\"disp\": True})"
   ]
  },
  {
   "cell_type": "code",
   "execution_count": 219,
   "metadata": {},
   "outputs": [
    {
     "name": "stdout",
     "output_type": "stream",
     "text": [
      "99999.99999777542\n"
     ]
    }
   ],
   "source": [
    "print(sum(list(res.x)))"
   ]
  },
  {
   "cell_type": "code",
   "execution_count": 220,
   "metadata": {},
   "outputs": [
    {
     "data": {
      "text/plain": [
       "[<matplotlib.lines.Line2D at 0x7fd3546f7c18>]"
      ]
     },
     "execution_count": 220,
     "metadata": {},
     "output_type": "execute_result"
    },
    {
     "data": {
      "image/png": "[encoded data removed]",
      "text/plain": [
       "<Figure size 432x288 with 1 Axes>"
      ]
     },
     "metadata": {},
     "output_type": "display_data"
    }
   ],
   "source": [
    "plt.plot(res.x)"
   ]
  },
  {
   "cell_type": "code",
   "execution_count": 221,
   "metadata": {},
   "outputs": [],
   "source": [
    "ads_weights_matrix = list(zip(ad_weight_ratio, res.x))\n",
    "ads_allotment = {}\n",
    "for i in range(len(budget)):\n",
    "    ads_allotment[i] = {ads[i] : ads_weights_matrix[i]}\n",
    "\n",
    "temp_dict = {}\n",
    "for key, values in ads_allotment.items():\n",
    "    for k, v in values.items():\n",
    "        temp_dict[k] = v\n",
    "pd.DataFrame(temp_dict).to_csv('Ads_Allotment')"
   ]
  },
  {
   "cell_type": "code",
   "execution_count": 222,
   "metadata": {},
   "outputs": [
    {
     "data": {
      "text/plain": [
       "[0.020576680494742754,\n",
       " 0.0010618256060224813,\n",
       " 4.553335041855021e-05,\n",
       " 0.0038212497588713044,\n",
       " 0.0024591764868541087,\n",
       " 0.0005070690132032365,\n",
       " 4.11824411370617e-05,\n",
       " 0.0001486699849979199,\n",
       " 0.00021889005244984773,\n",
       " 0.0001097849770496055,\n",
       " 0.00010426604426167788,\n",
       " 0.006026745304191918,\n",
       " 0.022605964175565967,\n",
       " 0.03510771022765217,\n",
       " 0.014196743002677311,\n",
       " 0.10904750422546522,\n",
       " 0.1663731339336697,\n",
       " 0.027339554482468446,\n",
       " 0.012970052461936303,\n",
       " 0.00013795994376912844,\n",
       " 0.00022376487594967282,\n",
       " 0.02198759458463155,\n",
       " 0.00013668170322764917,\n",
       " 0.0003547311066172126,\n",
       " 0.00016225445300447326,\n",
       " 4.494528544914887e-05,\n",
       " 0.007866098583537543,\n",
       " 0.00018061739484392396,\n",
       " 3.1967031686210534e-05,\n",
       " 0.24865893751873455,\n",
       " 0.11134077445257536,\n",
       " 0.0,\n",
       " 0.00010884472910315429,\n",
       " 0.002557423550514262,\n",
       " 2.7980189757818308e-05,\n",
       " 0.0001184842311624458,\n",
       " 0.00703222845729346,\n",
       " 3.671703983290375e-05,\n",
       " 4.6324257340467816e-05,\n",
       " 4.574622718593239e-05,\n",
       " 3.79366340015299e-05,\n",
       " 0.000242610201302066,\n",
       " 1.943576108044598e-05,\n",
       " 0.0,\n",
       " 5.0412034273998236e-05,\n",
       " 4.352149647416261e-05,\n",
       " 0.0,\n",
       " 2.5133337786097583e-05,\n",
       " 0.00015380288936093104,\n",
       " 4.66949767127822e-05,\n",
       " 4.94096949729355e-05,\n",
       " 5.2492878292205896e-05,\n",
       " 0.004436999979703212,\n",
       " 1.9866542797800704e-05,\n",
       " 0.0,\n",
       " 2.0846453734563824e-05,\n",
       " 0.0,\n",
       " 0.00020683335105035707,\n",
       " 0.0001658363729872014,\n",
       " 2.96468404635405e-05,\n",
       " 2.6092277477914103e-05,\n",
       " 2.7570681269592354e-05,\n",
       " 6.109822360792734e-05,\n",
       " 0.00017639164762182287,\n",
       " 0.012118954545531998,\n",
       " 6.777129334379293e-05,\n",
       " 0.00010337773963181556,\n",
       " 0.005644889174448822,\n",
       " 0.0001455514225625049,\n",
       " 0.0,\n",
       " 0.0,\n",
       " 0.0003158013695723949,\n",
       " 0.0,\n",
       " 0.0,\n",
       " 6.152469496967467e-05,\n",
       " 0.0,\n",
       " 0.0,\n",
       " 0.00015701453268823602,\n",
       " 0.00010327046576236275,\n",
       " 3.5027549495722043e-06,\n",
       " 7.87480674794335e-05,\n",
       " 0.0002208827310759617,\n",
       " 0.0,\n",
       " 0.0,\n",
       " 0.007111430351213791,\n",
       " 0.01661710994124813,\n",
       " 0.00011702728948102917,\n",
       " 0.0,\n",
       " 0.0,\n",
       " 0.0,\n",
       " 6.0375251109185736e-05,\n",
       " 0.005701609605937829,\n",
       " 2.3204226034487375e-05,\n",
       " 2.0176687368601177e-05,\n",
       " 8.520238859999679e-05,\n",
       " 0.0,\n",
       " 0.00012021303813594108,\n",
       " 0.0,\n",
       " 0.0,\n",
       " 0.005181793383394901,\n",
       " 0.0,\n",
       " 0.0,\n",
       " 0.0,\n",
       " 0.0,\n",
       " 4.70589332207689e-05,\n",
       " 0.00023203354530656805,\n",
       " 0.00018330715635077365,\n",
       " 0.0,\n",
       " 3.5786943117060406e-05,\n",
       " 0.0,\n",
       " 5.964209408562711e-05,\n",
       " 0.0,\n",
       " 0.00012950166960375904,\n",
       " 4.219085026178336e-05,\n",
       " 0.0,\n",
       " 0.0,\n",
       " 4.213635409876514e-05,\n",
       " 3.386467302962973e-05,\n",
       " 6.288370270124526e-05,\n",
       " 0.0,\n",
       " 0.0,\n",
       " 0.0,\n",
       " 0.00030498617710118814,\n",
       " 1.6447841095202838e-05,\n",
       " 1.5495131410674883e-05,\n",
       " 0.00013801900099806894,\n",
       " 4.772937789409447e-05,\n",
       " 8.815392893996664e-06,\n",
       " 0.0,\n",
       " 0.0,\n",
       " 0.0,\n",
       " 0.00013217892598343565,\n",
       " 7.091102810405282e-05,\n",
       " 0.0,\n",
       " 5.23282994481274e-05,\n",
       " 0.006694490502897013,\n",
       " 0.0,\n",
       " 0.0,\n",
       " 5.276893109868821e-05,\n",
       " 0.0048441690307279356,\n",
       " 0.0,\n",
       " 0.0,\n",
       " 2.767330599146833e-05,\n",
       " 0.0,\n",
       " 4.201357258012613e-05,\n",
       " 0.0,\n",
       " 4.6663875999566516e-05,\n",
       " 0.0,\n",
       " 0.0,\n",
       " 0.01024895991272712,\n",
       " 0.0,\n",
       " 6.12907225262958e-05,\n",
       " 8.936510938374513e-05,\n",
       " 0.00010938895051642471,\n",
       " 7.208130800842739e-05,\n",
       " 0.0,\n",
       " 0.0,\n",
       " 0.0,\n",
       " 0.0,\n",
       " 8.215680146251118e-05,\n",
       " 0.0,\n",
       " 0.0,\n",
       " 4.262671580950671e-05,\n",
       " 0.0,\n",
       " 0.0,\n",
       " 7.417233146710002e-05,\n",
       " 0.0,\n",
       " 0.0,\n",
       " 0.0,\n",
       " 5.1962887646406e-05,\n",
       " 0.000340070250627398,\n",
       " 0.00020761972026061065,\n",
       " 0.00013305428873195134,\n",
       " 0.0,\n",
       " 0.00026658181435755806,\n",
       " 0.0,\n",
       " 0.00022641574314760814,\n",
       " 0.01613588886819899,\n",
       " 0.0,\n",
       " 0.0,\n",
       " 0.0001313090519724107,\n",
       " 0.0,\n",
       " 0.008547600789553765,\n",
       " 4.6988720752158516e-05,\n",
       " 0.0,\n",
       " 0.0,\n",
       " 0.00016454061672488171,\n",
       " 0.0,\n",
       " 0.00017306800190985855,\n",
       " 6.0744550351290866e-05,\n",
       " 4.146102538023843e-05,\n",
       " 0.0,\n",
       " 0.0,\n",
       " 9.418075642145786e-05,\n",
       " 5.126719567332492e-05,\n",
       " 0.006041386726779301,\n",
       " 0.0,\n",
       " 0.00013530495829259132,\n",
       " 0.0,\n",
       " 0.0031840231582146578,\n",
       " 7.449532416195699e-05,\n",
       " 0.0,\n",
       " 0.0,\n",
       " 3.2741507511562225e-05,\n",
       " 9.752173405982007e-05,\n",
       " 0.0,\n",
       " 0.0,\n",
       " 0.0,\n",
       " 0.013719723979094475,\n",
       " 0.0,\n",
       " 3.1301732073632194e-05,\n",
       " 5.453828148383949e-05,\n",
       " 5.2852286970972e-05,\n",
       " 0.0,\n",
       " 0.0,\n",
       " 0.0,\n",
       " 0.0,\n",
       " 0.004006658800245146,\n",
       " 0.0,\n",
       " 0.004659906107776927,\n",
       " 0.0,\n",
       " 0.00207039858040726,\n",
       " 0.0,\n",
       " 9.577810087222037e-05,\n",
       " 4.739681224341078e-05,\n",
       " 0.023380507653738336,\n",
       " 0.00015170506567344357,\n",
       " 0.0,\n",
       " 0.0,\n",
       " 9.910223454558826e-05,\n",
       " 0.0,\n",
       " 0.0,\n",
       " 5.878245972396294e-05,\n",
       " 0.0,\n",
       " 0.00010847326876322819,\n",
       " 0.0,\n",
       " 0.0,\n",
       " 8.010065194888458e-05,\n",
       " 0.007076586089012318,\n",
       " 8.726047548146509e-05,\n",
       " 0.0,\n",
       " 2.3686691950367884e-05]"
      ]
     },
     "execution_count": 222,
     "metadata": {},
     "output_type": "execute_result"
    }
   ],
   "source": [
    "ad_weight_ratio"
   ]
  },
  {
   "cell_type": "code",
   "execution_count": 232,
   "metadata": {},
   "outputs": [
    {
     "data": {
      "text/html": [
       "<div>\n",
       "<style scoped>\n",
       "    .dataframe tbody tr th:only-of-type {\n",
       "        vertical-align: middle;\n",
       "    }\n",
       "\n",
       "    .dataframe tbody tr th {\n",
       "        vertical-align: top;\n",
       "    }\n",
       "\n",
       "    .dataframe thead th {\n",
       "        text-align: right;\n",
       "    }\n",
       "</style>\n",
       "<table border=\"1\" class=\"dataframe\">\n",
       "  <thead>\n",
       "    <tr style=\"text-align: right;\">\n",
       "      <th></th>\n",
       "      <th>IPS</th>\n",
       "    </tr>\n",
       "    <tr>\n",
       "      <th>AdsetId</th>\n",
       "      <th></th>\n",
       "    </tr>\n",
       "  </thead>\n",
       "  <tbody>\n",
       "    <tr>\n",
       "      <th>6095909111037</th>\n",
       "      <td>87.916027</td>\n",
       "    </tr>\n",
       "    <tr>\n",
       "      <th>6095652381237</th>\n",
       "      <td>86.738547</td>\n",
       "    </tr>\n",
       "    <tr>\n",
       "      <th>23842793654970742</th>\n",
       "      <td>80.307422</td>\n",
       "    </tr>\n",
       "    <tr>\n",
       "      <th>6093425908037</th>\n",
       "      <td>77.934740</td>\n",
       "    </tr>\n",
       "    <tr>\n",
       "      <th>6095652240237</th>\n",
       "      <td>76.664274</td>\n",
       "    </tr>\n",
       "    <tr>\n",
       "      <th>6093225129837</th>\n",
       "      <td>70.689865</td>\n",
       "    </tr>\n",
       "    <tr>\n",
       "      <th>23843001951860616</th>\n",
       "      <td>65.652289</td>\n",
       "    </tr>\n",
       "    <tr>\n",
       "      <th>6095652303237</th>\n",
       "      <td>64.827836</td>\n",
       "    </tr>\n",
       "    <tr>\n",
       "      <th>23842793657500742</th>\n",
       "      <td>64.406889</td>\n",
       "    </tr>\n",
       "    <tr>\n",
       "      <th>6098504734437</th>\n",
       "      <td>64.040311</td>\n",
       "    </tr>\n",
       "    <tr>\n",
       "      <th>23843001848720616</th>\n",
       "      <td>63.633927</td>\n",
       "    </tr>\n",
       "    <tr>\n",
       "      <th>6095652130637</th>\n",
       "      <td>63.324942</td>\n",
       "    </tr>\n",
       "    <tr>\n",
       "      <th>6097338831237</th>\n",
       "      <td>62.703943</td>\n",
       "    </tr>\n",
       "    <tr>\n",
       "      <th>6097238477437</th>\n",
       "      <td>62.685680</td>\n",
       "    </tr>\n",
       "    <tr>\n",
       "      <th>6095649684237</th>\n",
       "      <td>61.344547</td>\n",
       "    </tr>\n",
       "    <tr>\n",
       "      <th>6099577764037</th>\n",
       "      <td>60.760242</td>\n",
       "    </tr>\n",
       "    <tr>\n",
       "      <th>6096770291437</th>\n",
       "      <td>60.024287</td>\n",
       "    </tr>\n",
       "    <tr>\n",
       "      <th>6095974805837</th>\n",
       "      <td>59.267364</td>\n",
       "    </tr>\n",
       "    <tr>\n",
       "      <th>6102929422437</th>\n",
       "      <td>57.920354</td>\n",
       "    </tr>\n",
       "    <tr>\n",
       "      <th>23842862099200742</th>\n",
       "      <td>56.437284</td>\n",
       "    </tr>\n",
       "    <tr>\n",
       "      <th>6095821791237</th>\n",
       "      <td>55.338990</td>\n",
       "    </tr>\n",
       "    <tr>\n",
       "      <th>23842885396050027</th>\n",
       "      <td>54.938443</td>\n",
       "    </tr>\n",
       "    <tr>\n",
       "      <th>6099577764637</th>\n",
       "      <td>54.935650</td>\n",
       "    </tr>\n",
       "    <tr>\n",
       "      <th>6095907719437</th>\n",
       "      <td>54.297078</td>\n",
       "    </tr>\n",
       "    <tr>\n",
       "      <th>6100424862437</th>\n",
       "      <td>53.966758</td>\n",
       "    </tr>\n",
       "    <tr>\n",
       "      <th>6093225992437</th>\n",
       "      <td>53.836362</td>\n",
       "    </tr>\n",
       "    <tr>\n",
       "      <th>6100660841037</th>\n",
       "      <td>53.622029</td>\n",
       "    </tr>\n",
       "    <tr>\n",
       "      <th>23843001969560616</th>\n",
       "      <td>53.549544</td>\n",
       "    </tr>\n",
       "    <tr>\n",
       "      <th>6098431800037</th>\n",
       "      <td>52.810443</td>\n",
       "    </tr>\n",
       "    <tr>\n",
       "      <th>6095821791437</th>\n",
       "      <td>52.721995</td>\n",
       "    </tr>\n",
       "    <tr>\n",
       "      <th>...</th>\n",
       "      <td>...</td>\n",
       "    </tr>\n",
       "    <tr>\n",
       "      <th>6099577765237</th>\n",
       "      <td>22.235185</td>\n",
       "    </tr>\n",
       "    <tr>\n",
       "      <th>23842804833090742</th>\n",
       "      <td>22.133497</td>\n",
       "    </tr>\n",
       "    <tr>\n",
       "      <th>23842804871800742</th>\n",
       "      <td>22.096675</td>\n",
       "    </tr>\n",
       "    <tr>\n",
       "      <th>6089948393437</th>\n",
       "      <td>21.139426</td>\n",
       "    </tr>\n",
       "    <tr>\n",
       "      <th>6100660841437</th>\n",
       "      <td>21.026427</td>\n",
       "    </tr>\n",
       "    <tr>\n",
       "      <th>6099505823837</th>\n",
       "      <td>20.835782</td>\n",
       "    </tr>\n",
       "    <tr>\n",
       "      <th>23842804872600742</th>\n",
       "      <td>20.788774</td>\n",
       "    </tr>\n",
       "    <tr>\n",
       "      <th>6099576111437</th>\n",
       "      <td>20.646230</td>\n",
       "    </tr>\n",
       "    <tr>\n",
       "      <th>6102564011437</th>\n",
       "      <td>20.104718</td>\n",
       "    </tr>\n",
       "    <tr>\n",
       "      <th>6099576111037</th>\n",
       "      <td>20.067281</td>\n",
       "    </tr>\n",
       "    <tr>\n",
       "      <th>23842804873020742</th>\n",
       "      <td>19.631799</td>\n",
       "    </tr>\n",
       "    <tr>\n",
       "      <th>23842798572830742</th>\n",
       "      <td>19.389381</td>\n",
       "    </tr>\n",
       "    <tr>\n",
       "      <th>23842804758420742</th>\n",
       "      <td>19.351251</td>\n",
       "    </tr>\n",
       "    <tr>\n",
       "      <th>23842804852030742</th>\n",
       "      <td>18.570823</td>\n",
       "    </tr>\n",
       "    <tr>\n",
       "      <th>6088935250037</th>\n",
       "      <td>18.040954</td>\n",
       "    </tr>\n",
       "    <tr>\n",
       "      <th>23842804757940742</th>\n",
       "      <td>17.757556</td>\n",
       "    </tr>\n",
       "    <tr>\n",
       "      <th>23842839291670742</th>\n",
       "      <td>17.636912</td>\n",
       "    </tr>\n",
       "    <tr>\n",
       "      <th>23842804848190742</th>\n",
       "      <td>17.300782</td>\n",
       "    </tr>\n",
       "    <tr>\n",
       "      <th>23842804759230742</th>\n",
       "      <td>16.836555</td>\n",
       "    </tr>\n",
       "    <tr>\n",
       "      <th>6102564024637</th>\n",
       "      <td>16.820631</td>\n",
       "    </tr>\n",
       "    <tr>\n",
       "      <th>23842804873290742</th>\n",
       "      <td>16.446950</td>\n",
       "    </tr>\n",
       "    <tr>\n",
       "      <th>23842804849930742</th>\n",
       "      <td>16.121947</td>\n",
       "    </tr>\n",
       "    <tr>\n",
       "      <th>23842806385280742</th>\n",
       "      <td>15.345553</td>\n",
       "    </tr>\n",
       "    <tr>\n",
       "      <th>23842844250350742</th>\n",
       "      <td>15.304788</td>\n",
       "    </tr>\n",
       "    <tr>\n",
       "      <th>23842844250330742</th>\n",
       "      <td>13.679897</td>\n",
       "    </tr>\n",
       "    <tr>\n",
       "      <th>6099577763437</th>\n",
       "      <td>12.970430</td>\n",
       "    </tr>\n",
       "    <tr>\n",
       "      <th>23842901761560742</th>\n",
       "      <td>11.816504</td>\n",
       "    </tr>\n",
       "    <tr>\n",
       "      <th>23842804795440742</th>\n",
       "      <td>11.225728</td>\n",
       "    </tr>\n",
       "    <tr>\n",
       "      <th>23842901761550742</th>\n",
       "      <td>10.943592</td>\n",
       "    </tr>\n",
       "    <tr>\n",
       "      <th>6102555182437</th>\n",
       "      <td>8.926282</td>\n",
       "    </tr>\n",
       "  </tbody>\n",
       "</table>\n",
       "<p>242 rows × 1 columns</p>\n",
       "</div>"
      ],
      "text/plain": [
       "                         IPS\n",
       "AdsetId                     \n",
       "6095909111037      87.916027\n",
       "6095652381237      86.738547\n",
       "23842793654970742  80.307422\n",
       "6093425908037      77.934740\n",
       "6095652240237      76.664274\n",
       "6093225129837      70.689865\n",
       "23843001951860616  65.652289\n",
       "6095652303237      64.827836\n",
       "23842793657500742  64.406889\n",
       "6098504734437      64.040311\n",
       "23843001848720616  63.633927\n",
       "6095652130637      63.324942\n",
       "6097338831237      62.703943\n",
       "6097238477437      62.685680\n",
       "6095649684237      61.344547\n",
       "6099577764037      60.760242\n",
       "6096770291437      60.024287\n",
       "6095974805837      59.267364\n",
       "6102929422437      57.920354\n",
       "23842862099200742  56.437284\n",
       "6095821791237      55.338990\n",
       "23842885396050027  54.938443\n",
       "6099577764637      54.935650\n",
       "6095907719437      54.297078\n",
       "6100424862437      53.966758\n",
       "6093225992437      53.836362\n",
       "6100660841037      53.622029\n",
       "23843001969560616  53.549544\n",
       "6098431800037      52.810443\n",
       "6095821791437      52.721995\n",
       "...                      ...\n",
       "6099577765237      22.235185\n",
       "23842804833090742  22.133497\n",
       "23842804871800742  22.096675\n",
       "6089948393437      21.139426\n",
       "6100660841437      21.026427\n",
       "6099505823837      20.835782\n",
       "23842804872600742  20.788774\n",
       "6099576111437      20.646230\n",
       "6102564011437      20.104718\n",
       "6099576111037      20.067281\n",
       "23842804873020742  19.631799\n",
       "23842798572830742  19.389381\n",
       "23842804758420742  19.351251\n",
       "23842804852030742  18.570823\n",
       "6088935250037      18.040954\n",
       "23842804757940742  17.757556\n",
       "23842839291670742  17.636912\n",
       "23842804848190742  17.300782\n",
       "23842804759230742  16.836555\n",
       "6102564024637      16.820631\n",
       "23842804873290742  16.446950\n",
       "23842804849930742  16.121947\n",
       "23842806385280742  15.345553\n",
       "23842844250350742  15.304788\n",
       "23842844250330742  13.679897\n",
       "6099577763437      12.970430\n",
       "23842901761560742  11.816504\n",
       "23842804795440742  11.225728\n",
       "23842901761550742  10.943592\n",
       "6102555182437       8.926282\n",
       "\n",
       "[242 rows x 1 columns]"
      ]
     },
     "execution_count": 232,
     "metadata": {},
     "output_type": "execute_result"
    }
   ],
   "source": [
    "data_total_IPS.sort_values(by ='IPS', ascending= False)"
   ]
  },
  {
   "cell_type": "code",
   "execution_count": null,
   "metadata": {},
   "outputs": [],
   "source": []
  }
 ],
 "metadata": {
  "kernelspec": {
   "display_name": "Python 3",
   "language": "python",
   "name": "python3"
  },
  "language_info": {
   "codemirror_mode": {
    "name": "ipython",
    "version": 3
   },
   "file_extension": ".py",
   "mimetype": "text/x-python",
   "name": "python",
   "nbconvert_exporter": "python",
   "pygments_lexer": "ipython3",
   "version": "3.6.5"
  }
 },
 "nbformat": 4,
 "nbformat_minor": 2
}
